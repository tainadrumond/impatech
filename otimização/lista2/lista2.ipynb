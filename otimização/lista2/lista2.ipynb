{
 "cells": [
  {
   "cell_type": "markdown",
   "id": "bb78ff8d",
   "metadata": {},
   "source": [
    "# Solução dos exercícios da Lista 2 de Otimização Linear\n",
    "\n",
    "Professora Asla Medeiros e Sá\n",
    "\n",
    "Tainá Isabela Queiroz Drumond - IMPA Tech"
   ]
  },
  {
   "cell_type": "markdown",
   "id": "5183be9c",
   "metadata": {},
   "source": [
    "Nesse notebook, resolvo os exercícios propostos para a Lista 2 da disciplina de Otimização Linear do IMPA Tech."
   ]
  },
  {
   "cell_type": "code",
   "execution_count": 190,
   "id": "2c6dff90",
   "metadata": {},
   "outputs": [],
   "source": [
    "import pulp as pl\n",
    "import numpy as np\n",
    "import pandas as pd\n",
    "import altair as alt"
   ]
  },
  {
   "cell_type": "markdown",
   "id": "e0343e02",
   "metadata": {},
   "source": [
    "## Exercício 1"
   ]
  },
  {
   "cell_type": "markdown",
   "id": "70f77711",
   "metadata": {},
   "source": [
    "Nesse exercício, buscamos resolver um problema de regressão linear utilizando programação linear."
   ]
  },
  {
   "cell_type": "markdown",
   "id": "597f9e8e",
   "metadata": {},
   "source": [
    "### Item (a)"
   ]
  },
  {
   "cell_type": "markdown",
   "id": "71a5bf3e",
   "metadata": {},
   "source": [
    "#### Enunciado:"
   ]
  },
  {
   "cell_type": "markdown",
   "id": "cf8505f7",
   "metadata": {},
   "source": [
    "Formule programas lineares (PLs) cujas soluções ótimas minimizem \n",
    "\n",
    "1. A soma dos resíduos absolutos da reta aproximada para os dados\n",
    "$$\\min_{a} \\sum_{i=1}^n \\bigl|\\, y_i - (a_1 x_i + a_0) \\,\\bigr|$$\n",
    "2. O resíduo absoluto máximo\n",
    "$$\\min_{a} \\max_{i} \\bigl|\\, y_i - (a_1 x_i + a_0) \\,\\bigr|$$\n",
    "\n",
    "Depois, generalize o modelo para permitir o ajuste para polinômios gerais\n",
    "$$y = a_k x^k + a_{k-1} x^{k-1} + ... + a_1 x + a_0$$"
   ]
  },
  {
   "cell_type": "markdown",
   "id": "480a6dff",
   "metadata": {},
   "source": [
    "#### Solução:"
   ]
  },
  {
   "cell_type": "markdown",
   "id": "7de4831f",
   "metadata": {},
   "source": [
    "Nesse problema, nossas variáveis de decisão são os coeficientes $a_i$."
   ]
  },
  {
   "cell_type": "markdown",
   "id": "0933b236",
   "metadata": {},
   "source": [
    "##### 1 - Soma dos resíduos absolutos\n",
    "\n",
    "Precisamos linearizar os termos do somatório, já que o módulo não é uma operação linear. Para isso, vamos criar novas variáveis $z_i$ e minimizar o seguinte somatório:\n",
    "\n",
    "$$\\min_{a} \\sum_{i=1}^n z_i$$\n",
    "\n",
    "Onde\n",
    "\n",
    "$z_i = \\bigl|\\, y_i - (a_1 x_i + a_0) \\,\\bigr|$\n",
    "\n",
    "Agora, é necessário linearizar as restrições sobre os $z_i$.\n",
    "\n",
    "Perceba que, se $c=\\bigl|\\, a-b \\,\\bigr|$, então $c \\geq a-b$ e $c \\geq b-a$. Logo, podemos estabelecer as seguintes restrições:\n",
    "\n",
    "$z_i \\geq y_i - (a_1 x_i + a_0)$\n",
    "\n",
    "$z_i \\geq (a_1 x_i + a_0) - y_i$\n",
    "\n",
    "Como o nosso programa minimiza o somatório dos $z_i$, a igualdade será estabelecida para alguma das duas restrições acima, chegando a $z_i = \\bigl|\\, y_i - (a_1 x_i + a_0) \\,\\bigr|$."
   ]
  },
  {
   "cell_type": "markdown",
   "id": "cb50dc53",
   "metadata": {},
   "source": [
    "##### 2 - Resíduo absoluto máximo\n",
    "\n",
    "Para linearizar o problema, minimizaremos a variável $z$ onde\n",
    "$$z = \\max_{i} \\bigl|\\, y_i - (a_1 x_i + a_0) \\,\\bigr|$$\n",
    "\n",
    "Com a restrição de \n",
    "\n",
    "$z \\geq y_i - (a_1 x_i + a_0)$\n",
    "\n",
    "$z \\geq (a_1 x_i + a_0) - y_i$\n",
    "\n",
    "para todo $i = 1, ..., n$.\n",
    "\n",
    "Assim, z será limitado inferiormente por todos os resíduos absolutos e, em particular, pelo maior deles. Como o problema minimiza z, chegaremos em $z = \\min_{a} \\max_{i} \\bigl|\\, y_i - (a_1 x_i + a_0) \\,\\bigr|$."
   ]
  },
  {
   "cell_type": "markdown",
   "id": "60491603",
   "metadata": {},
   "source": [
    "##### 3 - Generalizando para polinômios gerais\n",
    "\n",
    "Tanto no caso da soma dos resíduos absolutos quanto no caso do resíduo absoluto máximo, só precisamos de mais variáveis decisão para os coeficientes adicionais e "
   ]
  },
  {
   "cell_type": "markdown",
   "id": "a40439ce",
   "metadata": {},
   "source": [
    "#### Modelagem computacional"
   ]
  },
  {
   "cell_type": "code",
   "execution_count": 191,
   "id": "b90b3fb2",
   "metadata": {},
   "outputs": [],
   "source": [
    "def linear_regression_absolute_residual_sum(x, y):\n",
    "    # Criação do problema\n",
    "    lp = pl.LpProblem(\"Linear_Regression\", pl.LpMinimize)\n",
    "\n",
    "    n = len(x)\n",
    "    \n",
    "    # Variáveis de decisão (coeficientes da aproximação linear)\n",
    "    a0 = pl.LpVariable(\"a0\")\n",
    "    a1 = pl.LpVariable(\"a1\")\n",
    "    z = pl.LpVariable.dicts(\"z\", range(n))\n",
    "\n",
    "    # Função objetivo\n",
    "    lp += pl.lpSum(z), \"Absolute_Residual_Sum\"\n",
    "\n",
    "    # Restrições\n",
    "    for i in range(n):\n",
    "        lp += z[i] - (x[i] * a1) - a0 + y[i] >= 0\n",
    "        lp += z[i] + (x[i] * a1) + a0 - y[i] >= 0\n",
    "\n",
    "    # Resolver\n",
    "    lp.solve(pl.PULP_CBC_CMD(msg=0))\n",
    "\n",
    "    # Solução\n",
    "    print(\"Status:\", pl.LpStatus[lp.status])\n",
    "    return lp.variables()[0].varValue, lp.variables()[1].varValue"
   ]
  },
  {
   "cell_type": "markdown",
   "id": "42ffd700",
   "metadata": {},
   "source": [
    "### Item (b)"
   ]
  },
  {
   "cell_type": "markdown",
   "id": "f9b4ecf1",
   "metadata": {},
   "source": [
    "Vamos gerar alguns dados em R² para testar o ajuste:"
   ]
  },
  {
   "cell_type": "code",
   "execution_count": 192,
   "id": "769d9ce5",
   "metadata": {},
   "outputs": [
    {
     "data": {
      "text/html": [
       "\n",
       "<style>\n",
       "  #altair-viz-18342d4e107e457cb392d97e12440213.vega-embed {\n",
       "    width: 100%;\n",
       "    display: flex;\n",
       "  }\n",
       "\n",
       "  #altair-viz-18342d4e107e457cb392d97e12440213.vega-embed details,\n",
       "  #altair-viz-18342d4e107e457cb392d97e12440213.vega-embed details summary {\n",
       "    position: relative;\n",
       "  }\n",
       "</style>\n",
       "<div id=\"altair-viz-18342d4e107e457cb392d97e12440213\"></div>\n",
       "<script type=\"text/javascript\">\n",
       "  var VEGA_DEBUG = (typeof VEGA_DEBUG == \"undefined\") ? {} : VEGA_DEBUG;\n",
       "  (function(spec, embedOpt){\n",
       "    let outputDiv = document.currentScript.previousElementSibling;\n",
       "    if (outputDiv.id !== \"altair-viz-18342d4e107e457cb392d97e12440213\") {\n",
       "      outputDiv = document.getElementById(\"altair-viz-18342d4e107e457cb392d97e12440213\");\n",
       "    }\n",
       "\n",
       "    const paths = {\n",
       "      \"vega\": \"https://cdn.jsdelivr.net/npm/vega@5?noext\",\n",
       "      \"vega-lib\": \"https://cdn.jsdelivr.net/npm/vega-lib?noext\",\n",
       "      \"vega-lite\": \"https://cdn.jsdelivr.net/npm/vega-lite@5.20.1?noext\",\n",
       "      \"vega-embed\": \"https://cdn.jsdelivr.net/npm/vega-embed@6?noext\",\n",
       "    };\n",
       "\n",
       "    function maybeLoadScript(lib, version) {\n",
       "      var key = `${lib.replace(\"-\", \"\")}_version`;\n",
       "      return (VEGA_DEBUG[key] == version) ?\n",
       "        Promise.resolve(paths[lib]) :\n",
       "        new Promise(function(resolve, reject) {\n",
       "          var s = document.createElement('script');\n",
       "          document.getElementsByTagName(\"head\")[0].appendChild(s);\n",
       "          s.async = true;\n",
       "          s.onload = () => {\n",
       "            VEGA_DEBUG[key] = version;\n",
       "            return resolve(paths[lib]);\n",
       "          };\n",
       "          s.onerror = () => reject(`Error loading script: ${paths[lib]}`);\n",
       "          s.src = paths[lib];\n",
       "        });\n",
       "    }\n",
       "\n",
       "    function showError(err) {\n",
       "      outputDiv.innerHTML = `<div class=\"error\" style=\"color:red;\">${err}</div>`;\n",
       "      throw err;\n",
       "    }\n",
       "\n",
       "    function displayChart(vegaEmbed) {\n",
       "      vegaEmbed(outputDiv, spec, embedOpt)\n",
       "        .catch(err => showError(`Javascript Error: ${err.message}<br>This usually means there's a typo in your chart specification. See the javascript console for the full traceback.`));\n",
       "    }\n",
       "\n",
       "    if(typeof define === \"function\" && define.amd) {\n",
       "      requirejs.config({paths});\n",
       "      let deps = [\"vega-embed\"];\n",
       "      require(deps, displayChart, err => showError(`Error loading script: ${err.message}`));\n",
       "    } else {\n",
       "      maybeLoadScript(\"vega\", \"5\")\n",
       "        .then(() => maybeLoadScript(\"vega-lite\", \"5.20.1\"))\n",
       "        .then(() => maybeLoadScript(\"vega-embed\", \"6\"))\n",
       "        .catch(showError)\n",
       "        .then(() => displayChart(vegaEmbed));\n",
       "    }\n",
       "  })({\"config\": {\"view\": {\"continuousWidth\": 300, \"continuousHeight\": 300}}, \"data\": {\"name\": \"data-ed538d2c78bbc075de47eb58b8ba6ae1\"}, \"mark\": {\"type\": \"point\"}, \"encoding\": {\"x\": {\"field\": \"x\", \"type\": \"quantitative\"}, \"y\": {\"field\": \"y\", \"type\": \"quantitative\"}}, \"title\": \"Amostra de pontos de uma reta\", \"$schema\": \"https://vega.github.io/schema/vega-lite/v5.20.1.json\", \"datasets\": {\"data-ed538d2c78bbc075de47eb58b8ba6ae1\": [{\"x\": 7.273328694068121, \"y\": 38.082706043851495}, {\"x\": 8.453064668750155, \"y\": 44.94406739065679}, {\"x\": 3.162366281774147, \"y\": 16.9574429093562}, {\"x\": 0.5220312367652991, \"y\": 4.906276719954673}, {\"x\": 1.961052028099305, \"y\": 11.67194730573145}, {\"x\": 4.535724243703965, \"y\": 26.18564564684864}, {\"x\": 7.073148214931644, \"y\": 37.84045164816595}, {\"x\": 5.698914832998227, \"y\": 31.999523230171864}, {\"x\": 5.284707595618325, \"y\": 28.401830625199096}, {\"x\": 5.159704304241099, \"y\": 28.782665560319913}, {\"x\": 7.304270957860407, \"y\": 39.95636891584056}, {\"x\": 6.762932884238215, \"y\": 37.66240837444003}, {\"x\": 3.0471492547755408, \"y\": 18.84408529126176}, {\"x\": 1.888052243395003, \"y\": 10.043867121697495}, {\"x\": 0.5677808546389007, \"y\": 4.525328419366062}, {\"x\": 9.196280632237677, \"y\": 48.06612633649099}, {\"x\": 8.86891050576709, \"y\": 43.95465839342148}, {\"x\": 2.5694760947009643, \"y\": 14.604178111050004}, {\"x\": 8.530652707988054, \"y\": 47.18034981952328}, {\"x\": 1.6553229509273137, \"y\": 7.806368846095709}, {\"x\": 5.81673103319821, \"y\": 33.37687958954179}, {\"x\": 5.102736640141804, \"y\": 24.24763298525084}, {\"x\": 5.424803615606234, \"y\": 29.19641824546455}, {\"x\": 5.125030261224093, \"y\": 33.646360102332004}, {\"x\": 5.097167963764163, \"y\": 26.9102551184167}, {\"x\": 3.2476025714377057, \"y\": 19.849348346759278}, {\"x\": 0.9109066501737373, \"y\": 3.6855205785964005}, {\"x\": 0.6388024179625051, \"y\": 4.522698333769165}, {\"x\": 7.926478075552712, \"y\": 40.53848239257909}, {\"x\": 9.997236491646307, \"y\": 54.157316923712074}, {\"x\": 2.528635271499896, \"y\": 15.132490024841966}, {\"x\": 5.321520567137291, \"y\": 29.76306653660469}, {\"x\": 2.2069979119232386, \"y\": 12.295008638487579}, {\"x\": 0.27375193226813255, \"y\": 2.580085783749575}, {\"x\": 7.378315326080138, \"y\": 41.23340165533239}, {\"x\": 0.07383716316429201, \"y\": 2.777475953346039}, {\"x\": 5.4958461007734405, \"y\": 32.65557051690121}, {\"x\": 9.28263565658828, \"y\": 53.356022235660156}, {\"x\": 9.614880678921018, \"y\": 49.30947946594096}, {\"x\": 6.977292929286335, \"y\": 35.9188730626932}, {\"x\": 3.1979557212581877, \"y\": 18.28029068697503}, {\"x\": 9.612141553549368, \"y\": 46.51706283831714}, {\"x\": 1.4410187825957477, \"y\": 9.61236066014763}, {\"x\": 0.4709214264032646, \"y\": 2.5574642979503817}, {\"x\": 3.113360117815417, \"y\": 19.314276068835067}, {\"x\": 6.351089300860913, \"y\": 32.684646689480594}, {\"x\": 8.258113903227414, \"y\": 41.38914747458206}, {\"x\": 3.4773145782084427, \"y\": 22.550178620115954}, {\"x\": 9.137462195089869, \"y\": 44.48277995347491}, {\"x\": 0.4809742492428537, \"y\": 3.151066069661778}, {\"x\": 0.7500559657720052, \"y\": 7.608318664511508}, {\"x\": 4.162360006667174, \"y\": 22.659665972573464}, {\"x\": 6.167700326347367, \"y\": 35.963568489959165}, {\"x\": 2.1686517559583507, \"y\": 13.339921529433516}, {\"x\": 5.237612564053381, \"y\": 28.45114413941521}, {\"x\": 5.112910948953529, \"y\": 25.665659609916847}, {\"x\": 6.303519618661857, \"y\": 32.458651244521654}, {\"x\": 8.034643936727653, \"y\": 43.08413138930473}, {\"x\": 3.372058542291758, \"y\": 18.224146804039886}, {\"x\": 0.5210833361652667, \"y\": 0.7221408555358324}, {\"x\": 7.1341150177281945, \"y\": 37.869022966394695}, {\"x\": 9.922829373159276, \"y\": 54.527814338748975}, {\"x\": 7.678229902065573, \"y\": 42.40633537125239}, {\"x\": 2.976137204189798, \"y\": 19.703087388184613}, {\"x\": 8.786576655713493, \"y\": 46.969169418024144}, {\"x\": 8.19265211904856, \"y\": 41.43444442743697}, {\"x\": 2.2015859076175417, \"y\": 12.275020660548005}, {\"x\": 7.086461316169803, \"y\": 36.84254318150096}, {\"x\": 2.388464176821735, \"y\": 11.802177759917715}, {\"x\": 6.713847314879963, \"y\": 33.432554358051604}, {\"x\": 1.0878682746144197, \"y\": 7.923322599233286}, {\"x\": 3.206176174685388, \"y\": 19.905349267083526}, {\"x\": 8.089228123154909, \"y\": 44.17656296873097}, {\"x\": 3.614840333596958, \"y\": 19.877695589751454}, {\"x\": 9.347609419207195, \"y\": 47.557955052036995}, {\"x\": 9.503302805320741, \"y\": 49.63770388566382}, {\"x\": 4.1448835447982635, \"y\": 22.50360542334989}, {\"x\": 9.829645627661986, \"y\": 53.409437886109274}, {\"x\": 1.9441064463834234, \"y\": 15.642292467770204}, {\"x\": 6.057953603308115, \"y\": 32.11770283019246}, {\"x\": 5.650473576870358, \"y\": 32.02677054845338}, {\"x\": 8.480259100205906, \"y\": 46.328750016304895}, {\"x\": 7.595360233828758, \"y\": 42.015332910052095}, {\"x\": 5.874931991303307, \"y\": 28.905910202643366}, {\"x\": 7.516988878044049, \"y\": 40.861632380798945}, {\"x\": 3.8883637402056035, \"y\": 20.66833899504488}, {\"x\": 2.6844308165088937, \"y\": 14.37262654256447}, {\"x\": 6.440183006607837, \"y\": 36.745032295462835}, {\"x\": 9.259451869851194, \"y\": 49.24978152910019}, {\"x\": 1.2657160159487757, \"y\": 6.470181253592886}, {\"x\": 9.866626321566583, \"y\": 50.07373065158136}, {\"x\": 5.337023596467118, \"y\": 27.23036932626568}, {\"x\": 0.5590367259483986, \"y\": 1.3897290050829576}, {\"x\": 9.373384108336658, \"y\": 48.29937463178895}, {\"x\": 3.265284497233597, \"y\": 16.252130963692547}, {\"x\": 3.6042148974582444, \"y\": 19.976249570484303}, {\"x\": 3.708290434500693, \"y\": 19.97685068440932}, {\"x\": 1.0096915000500373, \"y\": 4.996058170459579}, {\"x\": 1.6035564222374354, \"y\": 12.362085122759948}, {\"x\": 1.3054251935059835, \"y\": 7.7063857113297605}]}}, {\"mode\": \"vega-lite\"});\n",
       "</script>"
      ],
      "text/plain": [
       "alt.Chart(...)"
      ]
     },
     "execution_count": 192,
     "metadata": {},
     "output_type": "execute_result"
    }
   ],
   "source": [
    "ex1b_n = 100\n",
    " \n",
    "# Sorteio de x ~ U(0, 10)\n",
    "ex1b_x = np.random.uniform(0, 10, ex1b_n)\n",
    "\n",
    "# Erro aleatório ~ N(0, 2)\n",
    "ex1b_erro = np.random.normal(0, 2, ex1b_n)\n",
    "\n",
    "# Geração do y com ruído\n",
    "ex1b_y = 5 * ex1b_x + 2 + ex1b_erro\n",
    "\n",
    "# Dataframe dos dados gerados\n",
    "ex1b_df = pd.DataFrame({\"x\": ex1b_x, \"y\": ex1b_y})\n",
    "\n",
    "# Gráfico dos pontos gerados\n",
    "ex1b_pontos = alt.Chart(ex1b_df).mark_point().encode(\n",
    "    x=\"x\",\n",
    "    y=\"y\"\n",
    ").properties(\n",
    "    title=\"Amostra de pontos de uma reta\"\n",
    ")\n",
    "\n",
    "ex1b_pontos"
   ]
  },
  {
   "cell_type": "markdown",
   "id": "dee90bb2",
   "metadata": {},
   "source": [
    "Agora, realizamos o ajuste com a modelagem feita no item anterior:"
   ]
  },
  {
   "cell_type": "code",
   "execution_count": 193,
   "id": "4a24040c",
   "metadata": {},
   "outputs": [
    {
     "name": "stdout",
     "output_type": "stream",
     "text": [
      "Status: Optimal\n"
     ]
    },
    {
     "data": {
      "text/html": [
       "\n",
       "<style>\n",
       "  #altair-viz-173519fbce5d47b9bdc66a2b58897d25.vega-embed {\n",
       "    width: 100%;\n",
       "    display: flex;\n",
       "  }\n",
       "\n",
       "  #altair-viz-173519fbce5d47b9bdc66a2b58897d25.vega-embed details,\n",
       "  #altair-viz-173519fbce5d47b9bdc66a2b58897d25.vega-embed details summary {\n",
       "    position: relative;\n",
       "  }\n",
       "</style>\n",
       "<div id=\"altair-viz-173519fbce5d47b9bdc66a2b58897d25\"></div>\n",
       "<script type=\"text/javascript\">\n",
       "  var VEGA_DEBUG = (typeof VEGA_DEBUG == \"undefined\") ? {} : VEGA_DEBUG;\n",
       "  (function(spec, embedOpt){\n",
       "    let outputDiv = document.currentScript.previousElementSibling;\n",
       "    if (outputDiv.id !== \"altair-viz-173519fbce5d47b9bdc66a2b58897d25\") {\n",
       "      outputDiv = document.getElementById(\"altair-viz-173519fbce5d47b9bdc66a2b58897d25\");\n",
       "    }\n",
       "\n",
       "    const paths = {\n",
       "      \"vega\": \"https://cdn.jsdelivr.net/npm/vega@5?noext\",\n",
       "      \"vega-lib\": \"https://cdn.jsdelivr.net/npm/vega-lib?noext\",\n",
       "      \"vega-lite\": \"https://cdn.jsdelivr.net/npm/vega-lite@5.20.1?noext\",\n",
       "      \"vega-embed\": \"https://cdn.jsdelivr.net/npm/vega-embed@6?noext\",\n",
       "    };\n",
       "\n",
       "    function maybeLoadScript(lib, version) {\n",
       "      var key = `${lib.replace(\"-\", \"\")}_version`;\n",
       "      return (VEGA_DEBUG[key] == version) ?\n",
       "        Promise.resolve(paths[lib]) :\n",
       "        new Promise(function(resolve, reject) {\n",
       "          var s = document.createElement('script');\n",
       "          document.getElementsByTagName(\"head\")[0].appendChild(s);\n",
       "          s.async = true;\n",
       "          s.onload = () => {\n",
       "            VEGA_DEBUG[key] = version;\n",
       "            return resolve(paths[lib]);\n",
       "          };\n",
       "          s.onerror = () => reject(`Error loading script: ${paths[lib]}`);\n",
       "          s.src = paths[lib];\n",
       "        });\n",
       "    }\n",
       "\n",
       "    function showError(err) {\n",
       "      outputDiv.innerHTML = `<div class=\"error\" style=\"color:red;\">${err}</div>`;\n",
       "      throw err;\n",
       "    }\n",
       "\n",
       "    function displayChart(vegaEmbed) {\n",
       "      vegaEmbed(outputDiv, spec, embedOpt)\n",
       "        .catch(err => showError(`Javascript Error: ${err.message}<br>This usually means there's a typo in your chart specification. See the javascript console for the full traceback.`));\n",
       "    }\n",
       "\n",
       "    if(typeof define === \"function\" && define.amd) {\n",
       "      requirejs.config({paths});\n",
       "      let deps = [\"vega-embed\"];\n",
       "      require(deps, displayChart, err => showError(`Error loading script: ${err.message}`));\n",
       "    } else {\n",
       "      maybeLoadScript(\"vega\", \"5\")\n",
       "        .then(() => maybeLoadScript(\"vega-lite\", \"5.20.1\"))\n",
       "        .then(() => maybeLoadScript(\"vega-embed\", \"6\"))\n",
       "        .catch(showError)\n",
       "        .then(() => displayChart(vegaEmbed));\n",
       "    }\n",
       "  })({\"config\": {\"view\": {\"continuousWidth\": 300, \"continuousHeight\": 300}}, \"layer\": [{\"data\": {\"name\": \"data-2f5dca045af2faf2704aed398bb1d465\"}, \"mark\": {\"type\": \"line\", \"color\": \"red\"}, \"encoding\": {\"x\": {\"field\": \"x\", \"type\": \"quantitative\"}, \"y\": {\"field\": \"y\", \"type\": \"quantitative\"}}, \"title\": \"Ajuste de pontos em uma reta\"}, {\"data\": {\"name\": \"data-ed538d2c78bbc075de47eb58b8ba6ae1\"}, \"mark\": {\"type\": \"point\"}, \"encoding\": {\"x\": {\"field\": \"x\", \"type\": \"quantitative\"}, \"y\": {\"field\": \"y\", \"type\": \"quantitative\"}}, \"title\": \"Amostra de pontos de uma reta\"}], \"$schema\": \"https://vega.github.io/schema/vega-lite/v5.20.1.json\", \"datasets\": {\"data-2f5dca045af2faf2704aed398bb1d465\": [{\"x\": 0.0, \"y\": 1.1622134}, {\"x\": 0.10101010101010101, \"y\": 1.685385723232323}, {\"x\": 0.20202020202020202, \"y\": 2.2085580464646464}, {\"x\": 0.30303030303030304, \"y\": 2.7317303696969697}, {\"x\": 0.40404040404040403, \"y\": 3.254902692929293}, {\"x\": 0.5050505050505051, \"y\": 3.7780750161616163}, {\"x\": 0.6060606060606061, \"y\": 4.30124733939394}, {\"x\": 0.7070707070707071, \"y\": 4.824419662626263}, {\"x\": 0.8080808080808081, \"y\": 5.347591985858585}, {\"x\": 0.9090909090909091, \"y\": 5.870764309090909}, {\"x\": 1.0101010101010102, \"y\": 6.393936632323233}, {\"x\": 1.1111111111111112, \"y\": 6.917108955555555}, {\"x\": 1.2121212121212122, \"y\": 7.440281278787879}, {\"x\": 1.3131313131313131, \"y\": 7.963453602020202}, {\"x\": 1.4141414141414141, \"y\": 8.486625925252525}, {\"x\": 1.5151515151515151, \"y\": 9.009798248484849}, {\"x\": 1.6161616161616161, \"y\": 9.532970571717172}, {\"x\": 1.7171717171717171, \"y\": 10.056142894949495}, {\"x\": 1.8181818181818181, \"y\": 10.579315218181819}, {\"x\": 1.9191919191919191, \"y\": 11.102487541414142}, {\"x\": 2.0202020202020203, \"y\": 11.625659864646467}, {\"x\": 2.121212121212121, \"y\": 12.148832187878789}, {\"x\": 2.2222222222222223, \"y\": 12.672004511111112}, {\"x\": 2.323232323232323, \"y\": 13.195176834343435}, {\"x\": 2.4242424242424243, \"y\": 13.718349157575759}, {\"x\": 2.525252525252525, \"y\": 14.24152148080808}, {\"x\": 2.6262626262626263, \"y\": 14.764693804040405}, {\"x\": 2.727272727272727, \"y\": 15.287866127272727}, {\"x\": 2.8282828282828283, \"y\": 15.811038450505052}, {\"x\": 2.929292929292929, \"y\": 16.33421077373737}, {\"x\": 3.0303030303030303, \"y\": 16.8573830969697}, {\"x\": 3.131313131313131, \"y\": 17.38055542020202}, {\"x\": 3.2323232323232323, \"y\": 17.90372774343434}, {\"x\": 3.3333333333333335, \"y\": 18.42690006666667}, {\"x\": 3.4343434343434343, \"y\": 18.95007238989899}, {\"x\": 3.5353535353535355, \"y\": 19.47324471313131}, {\"x\": 3.6363636363636362, \"y\": 19.996417036363635}, {\"x\": 3.7373737373737375, \"y\": 20.519589359595958}, {\"x\": 3.8383838383838382, \"y\": 21.04276168282828}, {\"x\": 3.9393939393939394, \"y\": 21.565934006060605}, {\"x\": 4.040404040404041, \"y\": 22.08910632929293}, {\"x\": 4.141414141414141, \"y\": 22.61227865252525}, {\"x\": 4.242424242424242, \"y\": 23.135450975757575}, {\"x\": 4.343434343434343, \"y\": 23.658623298989898}, {\"x\": 4.444444444444445, \"y\": 24.18179562222222}, {\"x\": 4.545454545454545, \"y\": 24.70496794545454}, {\"x\": 4.646464646464646, \"y\": 25.228140268686868}, {\"x\": 4.747474747474747, \"y\": 25.75131259191919}, {\"x\": 4.848484848484849, \"y\": 26.274484915151515}, {\"x\": 4.94949494949495, \"y\": 26.79765723838384}, {\"x\": 5.05050505050505, \"y\": 27.320829561616158}, {\"x\": 5.151515151515151, \"y\": 27.844001884848485}, {\"x\": 5.252525252525253, \"y\": 28.367174208080808}, {\"x\": 5.353535353535354, \"y\": 28.89034653131313}, {\"x\": 5.454545454545454, \"y\": 29.41351885454545}, {\"x\": 5.555555555555555, \"y\": 29.936691177777778}, {\"x\": 5.656565656565657, \"y\": 30.4598635010101}, {\"x\": 5.757575757575758, \"y\": 30.983035824242425}, {\"x\": 5.858585858585858, \"y\": 31.506208147474744}, {\"x\": 5.959595959595959, \"y\": 32.02938047070707}, {\"x\": 6.0606060606060606, \"y\": 32.5525527939394}, {\"x\": 6.161616161616162, \"y\": 33.07572511717172}, {\"x\": 6.262626262626262, \"y\": 33.59889744040404}, {\"x\": 6.363636363636363, \"y\": 34.12206976363636}, {\"x\": 6.4646464646464645, \"y\": 34.645242086868684}, {\"x\": 6.565656565656566, \"y\": 35.16841441010101}, {\"x\": 6.666666666666667, \"y\": 35.69158673333334}, {\"x\": 6.767676767676767, \"y\": 36.214759056565654}, {\"x\": 6.8686868686868685, \"y\": 36.73793137979798}, {\"x\": 6.96969696969697, \"y\": 37.2611037030303}, {\"x\": 7.070707070707071, \"y\": 37.784276026262624}, {\"x\": 7.171717171717171, \"y\": 38.30744834949495}, {\"x\": 7.2727272727272725, \"y\": 38.83062067272727}, {\"x\": 7.373737373737374, \"y\": 39.353792995959594}, {\"x\": 7.474747474747475, \"y\": 39.87696531919192}, {\"x\": 7.575757575757575, \"y\": 40.40013764242424}, {\"x\": 7.6767676767676765, \"y\": 40.923309965656564}, {\"x\": 7.777777777777778, \"y\": 41.44648228888889}, {\"x\": 7.878787878787879, \"y\": 41.96965461212121}, {\"x\": 7.979797979797979, \"y\": 42.492826935353534}, {\"x\": 8.080808080808081, \"y\": 43.015999258585865}, {\"x\": 8.181818181818182, \"y\": 43.53917158181818}, {\"x\": 8.282828282828282, \"y\": 44.062343905050504}, {\"x\": 8.383838383838384, \"y\": 44.58551622828283}, {\"x\": 8.484848484848484, \"y\": 45.10868855151515}, {\"x\": 8.585858585858587, \"y\": 45.63186087474748}, {\"x\": 8.686868686868687, \"y\": 46.1550331979798}, {\"x\": 8.787878787878787, \"y\": 46.67820552121212}, {\"x\": 8.88888888888889, \"y\": 47.201377844444444}, {\"x\": 8.98989898989899, \"y\": 47.72455016767677}, {\"x\": 9.09090909090909, \"y\": 48.247722490909084}, {\"x\": 9.191919191919192, \"y\": 48.770894814141414}, {\"x\": 9.292929292929292, \"y\": 49.29406713737374}, {\"x\": 9.393939393939394, \"y\": 49.81723946060606}, {\"x\": 9.494949494949495, \"y\": 50.340411783838384}, {\"x\": 9.595959595959595, \"y\": 50.8635841070707}, {\"x\": 9.696969696969697, \"y\": 51.38675643030303}, {\"x\": 9.797979797979798, \"y\": 51.909928753535354}, {\"x\": 9.8989898989899, \"y\": 52.433101076767684}, {\"x\": 10.0, \"y\": 52.9562734}], \"data-ed538d2c78bbc075de47eb58b8ba6ae1\": [{\"x\": 7.273328694068121, \"y\": 38.082706043851495}, {\"x\": 8.453064668750155, \"y\": 44.94406739065679}, {\"x\": 3.162366281774147, \"y\": 16.9574429093562}, {\"x\": 0.5220312367652991, \"y\": 4.906276719954673}, {\"x\": 1.961052028099305, \"y\": 11.67194730573145}, {\"x\": 4.535724243703965, \"y\": 26.18564564684864}, {\"x\": 7.073148214931644, \"y\": 37.84045164816595}, {\"x\": 5.698914832998227, \"y\": 31.999523230171864}, {\"x\": 5.284707595618325, \"y\": 28.401830625199096}, {\"x\": 5.159704304241099, \"y\": 28.782665560319913}, {\"x\": 7.304270957860407, \"y\": 39.95636891584056}, {\"x\": 6.762932884238215, \"y\": 37.66240837444003}, {\"x\": 3.0471492547755408, \"y\": 18.84408529126176}, {\"x\": 1.888052243395003, \"y\": 10.043867121697495}, {\"x\": 0.5677808546389007, \"y\": 4.525328419366062}, {\"x\": 9.196280632237677, \"y\": 48.06612633649099}, {\"x\": 8.86891050576709, \"y\": 43.95465839342148}, {\"x\": 2.5694760947009643, \"y\": 14.604178111050004}, {\"x\": 8.530652707988054, \"y\": 47.18034981952328}, {\"x\": 1.6553229509273137, \"y\": 7.806368846095709}, {\"x\": 5.81673103319821, \"y\": 33.37687958954179}, {\"x\": 5.102736640141804, \"y\": 24.24763298525084}, {\"x\": 5.424803615606234, \"y\": 29.19641824546455}, {\"x\": 5.125030261224093, \"y\": 33.646360102332004}, {\"x\": 5.097167963764163, \"y\": 26.9102551184167}, {\"x\": 3.2476025714377057, \"y\": 19.849348346759278}, {\"x\": 0.9109066501737373, \"y\": 3.6855205785964005}, {\"x\": 0.6388024179625051, \"y\": 4.522698333769165}, {\"x\": 7.926478075552712, \"y\": 40.53848239257909}, {\"x\": 9.997236491646307, \"y\": 54.157316923712074}, {\"x\": 2.528635271499896, \"y\": 15.132490024841966}, {\"x\": 5.321520567137291, \"y\": 29.76306653660469}, {\"x\": 2.2069979119232386, \"y\": 12.295008638487579}, {\"x\": 0.27375193226813255, \"y\": 2.580085783749575}, {\"x\": 7.378315326080138, \"y\": 41.23340165533239}, {\"x\": 0.07383716316429201, \"y\": 2.777475953346039}, {\"x\": 5.4958461007734405, \"y\": 32.65557051690121}, {\"x\": 9.28263565658828, \"y\": 53.356022235660156}, {\"x\": 9.614880678921018, \"y\": 49.30947946594096}, {\"x\": 6.977292929286335, \"y\": 35.9188730626932}, {\"x\": 3.1979557212581877, \"y\": 18.28029068697503}, {\"x\": 9.612141553549368, \"y\": 46.51706283831714}, {\"x\": 1.4410187825957477, \"y\": 9.61236066014763}, {\"x\": 0.4709214264032646, \"y\": 2.5574642979503817}, {\"x\": 3.113360117815417, \"y\": 19.314276068835067}, {\"x\": 6.351089300860913, \"y\": 32.684646689480594}, {\"x\": 8.258113903227414, \"y\": 41.38914747458206}, {\"x\": 3.4773145782084427, \"y\": 22.550178620115954}, {\"x\": 9.137462195089869, \"y\": 44.48277995347491}, {\"x\": 0.4809742492428537, \"y\": 3.151066069661778}, {\"x\": 0.7500559657720052, \"y\": 7.608318664511508}, {\"x\": 4.162360006667174, \"y\": 22.659665972573464}, {\"x\": 6.167700326347367, \"y\": 35.963568489959165}, {\"x\": 2.1686517559583507, \"y\": 13.339921529433516}, {\"x\": 5.237612564053381, \"y\": 28.45114413941521}, {\"x\": 5.112910948953529, \"y\": 25.665659609916847}, {\"x\": 6.303519618661857, \"y\": 32.458651244521654}, {\"x\": 8.034643936727653, \"y\": 43.08413138930473}, {\"x\": 3.372058542291758, \"y\": 18.224146804039886}, {\"x\": 0.5210833361652667, \"y\": 0.7221408555358324}, {\"x\": 7.1341150177281945, \"y\": 37.869022966394695}, {\"x\": 9.922829373159276, \"y\": 54.527814338748975}, {\"x\": 7.678229902065573, \"y\": 42.40633537125239}, {\"x\": 2.976137204189798, \"y\": 19.703087388184613}, {\"x\": 8.786576655713493, \"y\": 46.969169418024144}, {\"x\": 8.19265211904856, \"y\": 41.43444442743697}, {\"x\": 2.2015859076175417, \"y\": 12.275020660548005}, {\"x\": 7.086461316169803, \"y\": 36.84254318150096}, {\"x\": 2.388464176821735, \"y\": 11.802177759917715}, {\"x\": 6.713847314879963, \"y\": 33.432554358051604}, {\"x\": 1.0878682746144197, \"y\": 7.923322599233286}, {\"x\": 3.206176174685388, \"y\": 19.905349267083526}, {\"x\": 8.089228123154909, \"y\": 44.17656296873097}, {\"x\": 3.614840333596958, \"y\": 19.877695589751454}, {\"x\": 9.347609419207195, \"y\": 47.557955052036995}, {\"x\": 9.503302805320741, \"y\": 49.63770388566382}, {\"x\": 4.1448835447982635, \"y\": 22.50360542334989}, {\"x\": 9.829645627661986, \"y\": 53.409437886109274}, {\"x\": 1.9441064463834234, \"y\": 15.642292467770204}, {\"x\": 6.057953603308115, \"y\": 32.11770283019246}, {\"x\": 5.650473576870358, \"y\": 32.02677054845338}, {\"x\": 8.480259100205906, \"y\": 46.328750016304895}, {\"x\": 7.595360233828758, \"y\": 42.015332910052095}, {\"x\": 5.874931991303307, \"y\": 28.905910202643366}, {\"x\": 7.516988878044049, \"y\": 40.861632380798945}, {\"x\": 3.8883637402056035, \"y\": 20.66833899504488}, {\"x\": 2.6844308165088937, \"y\": 14.37262654256447}, {\"x\": 6.440183006607837, \"y\": 36.745032295462835}, {\"x\": 9.259451869851194, \"y\": 49.24978152910019}, {\"x\": 1.2657160159487757, \"y\": 6.470181253592886}, {\"x\": 9.866626321566583, \"y\": 50.07373065158136}, {\"x\": 5.337023596467118, \"y\": 27.23036932626568}, {\"x\": 0.5590367259483986, \"y\": 1.3897290050829576}, {\"x\": 9.373384108336658, \"y\": 48.29937463178895}, {\"x\": 3.265284497233597, \"y\": 16.252130963692547}, {\"x\": 3.6042148974582444, \"y\": 19.976249570484303}, {\"x\": 3.708290434500693, \"y\": 19.97685068440932}, {\"x\": 1.0096915000500373, \"y\": 4.996058170459579}, {\"x\": 1.6035564222374354, \"y\": 12.362085122759948}, {\"x\": 1.3054251935059835, \"y\": 7.7063857113297605}]}}, {\"mode\": \"vega-lite\"});\n",
       "</script>"
      ],
      "text/plain": [
       "alt.LayerChart(...)"
      ]
     },
     "execution_count": 193,
     "metadata": {},
     "output_type": "execute_result"
    }
   ],
   "source": [
    "ex1b_a0, ex1b_a1 = linear_regression_absolute_residual_sum(ex1b_x, ex1b_y)\n",
    "\n",
    "# Geração de pontos no polinômio ajustado\n",
    "ex1b_x_reta = np.linspace(0, 10, 100) \n",
    "ex1b_y_reta = ex1b_a1 * ex1b_x_reta + ex1b_a0\n",
    "\n",
    "# Gráfico da reta ajustada\n",
    "ex1b_df_reta = pd.DataFrame({\"x\": ex1b_x_reta, \"y\": ex1b_y_reta})\n",
    "\n",
    "ex1b_reta = alt.Chart(ex1b_df_reta).mark_line(color=\"red\").encode(\n",
    "    x=\"x\",\n",
    "    y=\"y\"\n",
    ").properties(\n",
    "    title=\"Ajuste de pontos em uma reta\"\n",
    ")\n",
    "\n",
    "ex1b_reta + ex1b_pontos"
   ]
  },
  {
   "cell_type": "markdown",
   "id": "da842a58",
   "metadata": {},
   "source": [
    "### Item (c)"
   ]
  },
  {
   "cell_type": "markdown",
   "id": "da6940bd",
   "metadata": {},
   "source": [
    "Adaptaremos o problema para a regressão a um polinômio não linear. Para isso, basta alterar as restrições para a variável $z$ para acomodar um polinômio de grau superior. Aqui, modelei um ajuste para um polinômio de grau 3. Nesse cenário, as restrições são:\n",
    "\n",
    "$z \\geq y_i - (a_3 x_i^3 + a_2 x_i^2 + a_1 x_i + a_0)$\n",
    "\n",
    "$z \\geq (a_3 x_i^3 + a_2 x_i^2 + a_1 x_i + a_0) - y_i$"
   ]
  },
  {
   "cell_type": "code",
   "execution_count": 194,
   "id": "9f731e50",
   "metadata": {},
   "outputs": [],
   "source": [
    "def poly_approximation(x, y):\n",
    "    # Criação do problema\n",
    "    lp = pl.LpProblem(\"Polynomial_Approximation\", pl.LpMinimize)\n",
    "\n",
    "    n = len(x)\n",
    "    \n",
    "    # Variáveis de decisão (coeficientes da aproximação)\n",
    "    a0 = pl.LpVariable(\"a0\")\n",
    "    a1 = pl.LpVariable(\"a1\")\n",
    "    a2 = pl.LpVariable(\"a2\")\n",
    "    a3 = pl.LpVariable(\"a3\")\n",
    "    z = pl.LpVariable.dicts(\"z\", range(n))\n",
    "\n",
    "    # Função objetivo\n",
    "    lp += pl.lpSum(z), \"Absolute_Residual_Sum\"\n",
    "\n",
    "    # Restrições\n",
    "    for i in range(n):\n",
    "        lp += z[i] - ((a3 * x[i]**3) + (a2 * x[i]**2) + (a1 * x[i]) + a0) + y[i] >= 0\n",
    "        lp += z[i] + ((a3 * x[i]**3) + (a2 * x[i]**2) + (a1 * x[i]) + a0) - y[i] >= 0\n",
    "\n",
    "    # Resolver\n",
    "    lp.solve(pl.PULP_CBC_CMD(msg=0))\n",
    "\n",
    "    # Solução\n",
    "    print(\"Status:\", pl.LpStatus[lp.status])\n",
    "    return lp.variables()[0].varValue, lp.variables()[1].varValue, lp.variables()[2].varValue, lp.variables()[3].varValue"
   ]
  },
  {
   "cell_type": "markdown",
   "id": "8e166b20",
   "metadata": {},
   "source": [
    "Gerando dados para testar a aproximação:"
   ]
  },
  {
   "cell_type": "code",
   "execution_count": 195,
   "id": "cd2da4a9",
   "metadata": {},
   "outputs": [
    {
     "data": {
      "text/html": [
       "\n",
       "<style>\n",
       "  #altair-viz-e56f23eda35e4e12ac5544725ca3b210.vega-embed {\n",
       "    width: 100%;\n",
       "    display: flex;\n",
       "  }\n",
       "\n",
       "  #altair-viz-e56f23eda35e4e12ac5544725ca3b210.vega-embed details,\n",
       "  #altair-viz-e56f23eda35e4e12ac5544725ca3b210.vega-embed details summary {\n",
       "    position: relative;\n",
       "  }\n",
       "</style>\n",
       "<div id=\"altair-viz-e56f23eda35e4e12ac5544725ca3b210\"></div>\n",
       "<script type=\"text/javascript\">\n",
       "  var VEGA_DEBUG = (typeof VEGA_DEBUG == \"undefined\") ? {} : VEGA_DEBUG;\n",
       "  (function(spec, embedOpt){\n",
       "    let outputDiv = document.currentScript.previousElementSibling;\n",
       "    if (outputDiv.id !== \"altair-viz-e56f23eda35e4e12ac5544725ca3b210\") {\n",
       "      outputDiv = document.getElementById(\"altair-viz-e56f23eda35e4e12ac5544725ca3b210\");\n",
       "    }\n",
       "\n",
       "    const paths = {\n",
       "      \"vega\": \"https://cdn.jsdelivr.net/npm/vega@5?noext\",\n",
       "      \"vega-lib\": \"https://cdn.jsdelivr.net/npm/vega-lib?noext\",\n",
       "      \"vega-lite\": \"https://cdn.jsdelivr.net/npm/vega-lite@5.20.1?noext\",\n",
       "      \"vega-embed\": \"https://cdn.jsdelivr.net/npm/vega-embed@6?noext\",\n",
       "    };\n",
       "\n",
       "    function maybeLoadScript(lib, version) {\n",
       "      var key = `${lib.replace(\"-\", \"\")}_version`;\n",
       "      return (VEGA_DEBUG[key] == version) ?\n",
       "        Promise.resolve(paths[lib]) :\n",
       "        new Promise(function(resolve, reject) {\n",
       "          var s = document.createElement('script');\n",
       "          document.getElementsByTagName(\"head\")[0].appendChild(s);\n",
       "          s.async = true;\n",
       "          s.onload = () => {\n",
       "            VEGA_DEBUG[key] = version;\n",
       "            return resolve(paths[lib]);\n",
       "          };\n",
       "          s.onerror = () => reject(`Error loading script: ${paths[lib]}`);\n",
       "          s.src = paths[lib];\n",
       "        });\n",
       "    }\n",
       "\n",
       "    function showError(err) {\n",
       "      outputDiv.innerHTML = `<div class=\"error\" style=\"color:red;\">${err}</div>`;\n",
       "      throw err;\n",
       "    }\n",
       "\n",
       "    function displayChart(vegaEmbed) {\n",
       "      vegaEmbed(outputDiv, spec, embedOpt)\n",
       "        .catch(err => showError(`Javascript Error: ${err.message}<br>This usually means there's a typo in your chart specification. See the javascript console for the full traceback.`));\n",
       "    }\n",
       "\n",
       "    if(typeof define === \"function\" && define.amd) {\n",
       "      requirejs.config({paths});\n",
       "      let deps = [\"vega-embed\"];\n",
       "      require(deps, displayChart, err => showError(`Error loading script: ${err.message}`));\n",
       "    } else {\n",
       "      maybeLoadScript(\"vega\", \"5\")\n",
       "        .then(() => maybeLoadScript(\"vega-lite\", \"5.20.1\"))\n",
       "        .then(() => maybeLoadScript(\"vega-embed\", \"6\"))\n",
       "        .catch(showError)\n",
       "        .then(() => displayChart(vegaEmbed));\n",
       "    }\n",
       "  })({\"config\": {\"view\": {\"continuousWidth\": 300, \"continuousHeight\": 300}}, \"data\": {\"name\": \"data-aadb54dfc4de523281b28f5b8ea66355\"}, \"mark\": {\"type\": \"point\"}, \"encoding\": {\"x\": {\"field\": \"x\", \"type\": \"quantitative\"}, \"y\": {\"field\": \"y\", \"type\": \"quantitative\"}}, \"title\": \"Amostra de pontos em um polin\\u00f4mio\", \"$schema\": \"https://vega.github.io/schema/vega-lite/v5.20.1.json\", \"datasets\": {\"data-aadb54dfc4de523281b28f5b8ea66355\": [{\"x\": 0.15443288538888433, \"y\": -0.7166481354847423}, {\"x\": 0.16612413443857443, \"y\": 7.545473643017573}, {\"x\": 3.7759988772939748, \"y\": 10.201415479167885}, {\"x\": 3.7443632415229633, \"y\": 13.49372665606603}, {\"x\": 4.595644028193363, \"y\": 33.213603870988116}, {\"x\": 0.015143322564026285, \"y\": 4.780021754037371}, {\"x\": 3.2797211160599984, \"y\": 1.3991395568789264}, {\"x\": 0.6725753296999881, \"y\": 4.949381827468725}, {\"x\": 4.948609198881966, \"y\": 54.0245270787924}, {\"x\": 8.82398948094388, \"y\": 398.54731333693155}, {\"x\": 1.4772307206533197, \"y\": -9.8503403446054}, {\"x\": 1.3321713967444193, \"y\": -7.0270673965186}, {\"x\": 4.9494194564018015, \"y\": 50.89618432325563}, {\"x\": 5.206483402435534, \"y\": 67.22349241860603}, {\"x\": 7.489708087279004, \"y\": 244.64763957868618}, {\"x\": 4.234088123182592, \"y\": 32.56442896503323}, {\"x\": 3.7522910210969576, \"y\": 4.320120328518989}, {\"x\": 5.340437982210745, \"y\": 77.12210007109191}, {\"x\": 0.925505928917334, \"y\": 3.9362971692236535}, {\"x\": 6.036896953312459, \"y\": 116.79089751129465}, {\"x\": 5.777006217289536, \"y\": 98.8949135858149}, {\"x\": 0.19457383044148902, \"y\": 5.168812346462035}, {\"x\": 7.628354753615674, \"y\": 257.52701063622635}, {\"x\": 3.880881196749675, \"y\": 20.67776402031712}, {\"x\": 7.382122753403852, \"y\": 224.87856969088048}, {\"x\": 3.2610490044711815, \"y\": -0.4357416645176251}, {\"x\": 2.098913514286015, \"y\": -9.51346715741618}, {\"x\": 0.572545818654906, \"y\": -4.86596815817611}, {\"x\": 3.842310255249546, \"y\": 20.237449551097555}, {\"x\": 0.14548901150469695, \"y\": -3.147318498178257}, {\"x\": 3.8587144372525852, \"y\": 24.030452377895596}, {\"x\": 7.629039647135305, \"y\": 261.3944453114646}, {\"x\": 6.70574487738789, \"y\": 169.31170988719225}, {\"x\": 3.4510668283955273, \"y\": 13.896982067747928}, {\"x\": 0.5336704857130303, \"y\": -3.5477386233390904}, {\"x\": 8.930755535774212, \"y\": 423.9966516869419}, {\"x\": 1.5423727914542118, \"y\": -4.139913060556643}, {\"x\": 3.820295190894333, \"y\": 12.230463752713067}, {\"x\": 0.47449225806254325, \"y\": -1.5244923605934275}, {\"x\": 8.034880139977748, \"y\": 307.45827913205767}, {\"x\": 6.0666889053950985, \"y\": 124.20402767019544}, {\"x\": 1.65800121174968, \"y\": -7.420618849914122}, {\"x\": 7.083716043253114, \"y\": 203.77428670026492}, {\"x\": 4.0194948557258705, \"y\": 23.198673952366025}, {\"x\": 9.524083650679792, \"y\": 520.1809959801045}, {\"x\": 7.359624848081497, \"y\": 235.43686433107123}, {\"x\": 9.46405774043482, \"y\": 520.4976167842858}, {\"x\": 3.813780907825368, \"y\": 11.450317314086647}, {\"x\": 3.0922358558944985, \"y\": -2.1250859700991818}, {\"x\": 6.694976179459973, \"y\": 166.35297755026758}, {\"x\": 6.430071137212026, \"y\": 141.48464574949645}, {\"x\": 2.3451470398091665, \"y\": -7.3784879579168665}, {\"x\": 5.303117424114033, \"y\": 72.28934341968392}, {\"x\": 7.650509218223819, \"y\": 262.8862323283787}, {\"x\": 4.641139594030514, \"y\": 42.56613401933839}, {\"x\": 6.147101542311878, \"y\": 117.9196378646525}, {\"x\": 1.1624003960451423, \"y\": -2.3902786240129146}, {\"x\": 4.615362053505856, \"y\": 38.034319810974786}, {\"x\": 3.6277719545805533, \"y\": 15.731318107566672}, {\"x\": 7.5397330719770475, \"y\": 242.26163518176386}, {\"x\": 9.511337608845034, \"y\": 518.2054085362556}, {\"x\": 3.2983767309882026, \"y\": 8.745448989475062}, {\"x\": 0.13334174712497093, \"y\": -6.863718640761925}, {\"x\": 5.258249640890334, \"y\": 71.43162092437336}, {\"x\": 7.225004668451108, \"y\": 214.1812330670358}, {\"x\": 8.769190989521507, \"y\": 407.07381743298924}, {\"x\": 2.7763573733275093, \"y\": -1.8395455245013972}, {\"x\": 3.095438150946037, \"y\": 3.591095384190616}, {\"x\": 2.6682323915627326, \"y\": -4.6644055194245}, {\"x\": 4.376357537800275, \"y\": 27.369214303919367}, {\"x\": 0.28530692576094197, \"y\": 1.3435420862120668}, {\"x\": 5.7423011983038466, \"y\": 105.18391161468676}, {\"x\": 8.326412342340017, \"y\": 336.5872603327004}, {\"x\": 1.4742408828554399, \"y\": -4.667942652928643}, {\"x\": 4.790270160531839, \"y\": 61.41901994294297}, {\"x\": 1.4334389579547935, \"y\": -5.842317175120099}, {\"x\": 0.7359070194435535, \"y\": -4.875729287849851}, {\"x\": 5.107806612821394, \"y\": 59.676818089605746}, {\"x\": 5.370964121133326, \"y\": 70.2371383695173}, {\"x\": 6.662719753808605, \"y\": 168.8077637636934}, {\"x\": 3.4931110712416613, \"y\": -4.21352084968669}, {\"x\": 4.882954192759284, \"y\": 52.264054171943364}, {\"x\": 8.710845348862435, \"y\": 401.15417685883705}, {\"x\": 5.755852537592042, \"y\": 104.16997876144502}, {\"x\": 7.59900393599602, \"y\": 265.02818728767227}, {\"x\": 7.874808888176913, \"y\": 287.75086671807827}, {\"x\": 3.6890314155031856, \"y\": 14.80798753106553}, {\"x\": 6.447144469229196, \"y\": 141.32056076209594}, {\"x\": 6.696796164756785, \"y\": 164.32254321031255}, {\"x\": 1.7835108225452956, \"y\": -7.225537388013239}, {\"x\": 4.8605856941022605, \"y\": 56.874516776554216}, {\"x\": 3.12724276134444, \"y\": 2.0993229741177952}, {\"x\": 9.27903276921321, \"y\": 485.1299605063809}, {\"x\": 5.512160851673365, \"y\": 83.56864846468261}, {\"x\": 6.651058224427976, \"y\": 163.31485155126444}, {\"x\": 0.15511244986870842, \"y\": -2.164565994149994}, {\"x\": 4.113046560404204, \"y\": 19.09279410813039}, {\"x\": 4.4189180372357315, \"y\": 34.03483304367531}, {\"x\": 9.314377267794088, \"y\": 495.64039935752464}, {\"x\": 6.394253397182576, \"y\": 136.22484711131534}]}}, {\"mode\": \"vega-lite\"});\n",
       "</script>"
      ],
      "text/plain": [
       "alt.Chart(...)"
      ]
     },
     "execution_count": 195,
     "metadata": {},
     "output_type": "execute_result"
    }
   ],
   "source": [
    "ex1c_n = 100\n",
    " \n",
    "# Sorteio de x ~ U(0, 10)\n",
    "ex1c_x = np.random.uniform(0, 10, ex1c_n)\n",
    "\n",
    "# Erro aleatório ~ N(0, 2)\n",
    "ex1c_erro = np.random.normal(0, 5, ex1c_n)\n",
    "\n",
    "# Geração do y com ruído\n",
    "ex1c_y = 0.6 * ex1c_x**3 + ex1c_x**2 - 9 * ex1c_x + 2 + ex1c_erro\n",
    "\n",
    "# Dataframe dos dados gerados\n",
    "ex1c_df = pd.DataFrame({\"x\": ex1c_x, \"y\": ex1c_y})\n",
    "\n",
    "# Gráfico dos pontos gerados\n",
    "ex1c_pontos = alt.Chart(ex1c_df).mark_point().encode(\n",
    "    x=\"x\",\n",
    "    y=\"y\"\n",
    ").properties(\n",
    "    title=\"Amostra de pontos em um polinômio\"\n",
    ")\n",
    "\n",
    "ex1c_pontos"
   ]
  },
  {
   "cell_type": "markdown",
   "id": "d31c8842",
   "metadata": {},
   "source": [
    "Calculando a regressão:"
   ]
  },
  {
   "cell_type": "code",
   "execution_count": 196,
   "id": "e3c18e68",
   "metadata": {},
   "outputs": [
    {
     "name": "stdout",
     "output_type": "stream",
     "text": [
      "Status: Optimal\n",
      "2.7522375 -9.7028032 1.1732219 0.59003427\n"
     ]
    },
    {
     "data": {
      "text/html": [
       "\n",
       "<style>\n",
       "  #altair-viz-e3da7b895b4d402887b088ffdfd54a48.vega-embed {\n",
       "    width: 100%;\n",
       "    display: flex;\n",
       "  }\n",
       "\n",
       "  #altair-viz-e3da7b895b4d402887b088ffdfd54a48.vega-embed details,\n",
       "  #altair-viz-e3da7b895b4d402887b088ffdfd54a48.vega-embed details summary {\n",
       "    position: relative;\n",
       "  }\n",
       "</style>\n",
       "<div id=\"altair-viz-e3da7b895b4d402887b088ffdfd54a48\"></div>\n",
       "<script type=\"text/javascript\">\n",
       "  var VEGA_DEBUG = (typeof VEGA_DEBUG == \"undefined\") ? {} : VEGA_DEBUG;\n",
       "  (function(spec, embedOpt){\n",
       "    let outputDiv = document.currentScript.previousElementSibling;\n",
       "    if (outputDiv.id !== \"altair-viz-e3da7b895b4d402887b088ffdfd54a48\") {\n",
       "      outputDiv = document.getElementById(\"altair-viz-e3da7b895b4d402887b088ffdfd54a48\");\n",
       "    }\n",
       "\n",
       "    const paths = {\n",
       "      \"vega\": \"https://cdn.jsdelivr.net/npm/vega@5?noext\",\n",
       "      \"vega-lib\": \"https://cdn.jsdelivr.net/npm/vega-lib?noext\",\n",
       "      \"vega-lite\": \"https://cdn.jsdelivr.net/npm/vega-lite@5.20.1?noext\",\n",
       "      \"vega-embed\": \"https://cdn.jsdelivr.net/npm/vega-embed@6?noext\",\n",
       "    };\n",
       "\n",
       "    function maybeLoadScript(lib, version) {\n",
       "      var key = `${lib.replace(\"-\", \"\")}_version`;\n",
       "      return (VEGA_DEBUG[key] == version) ?\n",
       "        Promise.resolve(paths[lib]) :\n",
       "        new Promise(function(resolve, reject) {\n",
       "          var s = document.createElement('script');\n",
       "          document.getElementsByTagName(\"head\")[0].appendChild(s);\n",
       "          s.async = true;\n",
       "          s.onload = () => {\n",
       "            VEGA_DEBUG[key] = version;\n",
       "            return resolve(paths[lib]);\n",
       "          };\n",
       "          s.onerror = () => reject(`Error loading script: ${paths[lib]}`);\n",
       "          s.src = paths[lib];\n",
       "        });\n",
       "    }\n",
       "\n",
       "    function showError(err) {\n",
       "      outputDiv.innerHTML = `<div class=\"error\" style=\"color:red;\">${err}</div>`;\n",
       "      throw err;\n",
       "    }\n",
       "\n",
       "    function displayChart(vegaEmbed) {\n",
       "      vegaEmbed(outputDiv, spec, embedOpt)\n",
       "        .catch(err => showError(`Javascript Error: ${err.message}<br>This usually means there's a typo in your chart specification. See the javascript console for the full traceback.`));\n",
       "    }\n",
       "\n",
       "    if(typeof define === \"function\" && define.amd) {\n",
       "      requirejs.config({paths});\n",
       "      let deps = [\"vega-embed\"];\n",
       "      require(deps, displayChart, err => showError(`Error loading script: ${err.message}`));\n",
       "    } else {\n",
       "      maybeLoadScript(\"vega\", \"5\")\n",
       "        .then(() => maybeLoadScript(\"vega-lite\", \"5.20.1\"))\n",
       "        .then(() => maybeLoadScript(\"vega-embed\", \"6\"))\n",
       "        .catch(showError)\n",
       "        .then(() => displayChart(vegaEmbed));\n",
       "    }\n",
       "  })({\"config\": {\"view\": {\"continuousWidth\": 300, \"continuousHeight\": 300}}, \"layer\": [{\"data\": {\"name\": \"data-54f5bd882c7b587a31523ce078e58245\"}, \"mark\": {\"type\": \"line\", \"color\": \"red\"}, \"encoding\": {\"x\": {\"field\": \"x\", \"type\": \"quantitative\"}, \"y\": {\"field\": \"y\", \"type\": \"quantitative\"}}, \"title\": \"Ajuste de pontos em um polin\\u00f4mio\"}, {\"data\": {\"name\": \"data-aadb54dfc4de523281b28f5b8ea66355\"}, \"mark\": {\"type\": \"point\"}, \"encoding\": {\"x\": {\"field\": \"x\", \"type\": \"quantitative\"}, \"y\": {\"field\": \"y\", \"type\": \"quantitative\"}}, \"title\": \"Amostra de pontos em um polin\\u00f4mio\"}], \"$schema\": \"https://vega.github.io/schema/vega-lite/v5.20.1.json\", \"datasets\": {\"data-54f5bd882c7b587a31523ce078e58245\": [{\"x\": 0.0, \"y\": 2.7522375}, {\"x\": 0.10101010101010101, \"y\": 1.7847348945639439}, {\"x\": 0.20202020202020202, \"y\": 0.8448217221171002}, {\"x\": 0.30303030303030304, \"y\": -0.06385344548793714}, {\"x\": 0.40404040404040403, \"y\": -0.9376420363985738}, {\"x\": 0.5050505050505051, \"y\": -1.772895478762217}, {\"x\": 0.6060606060606061, \"y\": -2.565965200726271}, {\"x\": 0.7070707070707071, \"y\": -3.3132026304381434}, {\"x\": 0.8080808080808081, \"y\": -4.010959196045238}, {\"x\": 0.9090909090909091, \"y\": -4.655586325694966}, {\"x\": 1.0101010101010102, \"y\": -5.243435447534729}, {\"x\": 1.1111111111111112, \"y\": -5.770857989711935}, {\"x\": 1.2121212121212122, \"y\": -6.234205380373989}, {\"x\": 1.3131313131313131, \"y\": -6.629829047668297}, {\"x\": 1.4141414141414141, \"y\": -6.954080419742265}, {\"x\": 1.5151515151515151, \"y\": -7.2033109247433025}, {\"x\": 1.6161616161616161, \"y\": -7.3738719908188095}, {\"x\": 1.7171717171717171, \"y\": -7.462115046116196}, {\"x\": 1.8181818181818181, \"y\": -7.46439151878287}, {\"x\": 1.9191919191919191, \"y\": -7.377052836966234}, {\"x\": 2.0202020202020203, \"y\": -7.196450428813696}, {\"x\": 2.121212121212121, \"y\": -6.918935722472661}, {\"x\": 2.2222222222222223, \"y\": -6.540860146090537}, {\"x\": 2.323232323232323, \"y\": -6.058575127814727}, {\"x\": 2.4242424242424243, \"y\": -5.46843209579264}, {\"x\": 2.525252525252525, \"y\": -4.766782478171681}, {\"x\": 2.6262626262626263, \"y\": -3.9499777030992536}, {\"x\": 2.727272727272727, \"y\": -3.014369198722768}, {\"x\": 2.8282828282828283, \"y\": -1.9563083931896261}, {\"x\": 2.929292929292929, \"y\": -0.7721467146472416}, {\"x\": 3.0303030303030303, \"y\": 0.5417644087569866}, {\"x\": 3.131313131313131, \"y\": 1.9890735488756488}, {\"x\": 3.2323232323232323, \"y\": 3.573429277561353}, {\"x\": 3.3333333333333335, \"y\": 5.298480166666671}, {\"x\": 3.4343434343434343, \"y\": 7.167874788044202}, {\"x\": 3.5353535353535355, \"y\": 9.185261713546545}, {\"x\": 3.6363636363636362, \"y\": 11.354289515026288}, {\"x\": 3.7373737373737375, \"y\": 13.678606764336045}, {\"x\": 3.8383838383838382, \"y\": 16.161862033328383}, {\"x\": 3.9393939393939394, \"y\": 18.807703893855916}, {\"x\": 4.040404040404041, \"y\": 21.61978091777123}, {\"x\": 4.141414141414141, \"y\": 24.6017416769269}, {\"x\": 4.242424242424242, \"y\": 27.757234743175545}, {\"x\": 4.343434343434343, \"y\": 31.089908688369768}, {\"x\": 4.444444444444445, \"y\": 34.603412084362134}, {\"x\": 4.545454545454545, \"y\": 38.30139350300524}, {\"x\": 4.646464646464646, \"y\": 42.18750151615171}, {\"x\": 4.747474747474747, \"y\": 46.26538469565411}, {\"x\": 4.848484848484849, \"y\": 50.53869161336506}, {\"x\": 4.94949494949495, \"y\": 55.011070841137126}, {\"x\": 5.05050505050505, \"y\": 59.686170950822856}, {\"x\": 5.151515151515151, \"y\": 64.56764051427497}, {\"x\": 5.252525252525253, \"y\": 69.65912810334598}, {\"x\": 5.353535353535354, \"y\": 74.9642822898885}, {\"x\": 5.454545454545454, \"y\": 80.48675164575505}, {\"x\": 5.555555555555555, \"y\": 86.23018474279836}, {\"x\": 5.656565656565657, \"y\": 92.1982301528709}, {\"x\": 5.757575757575758, \"y\": 98.39453644782537}, {\"x\": 5.858585858585858, \"y\": 104.82275219951424}, {\"x\": 5.959595959595959, \"y\": 111.48652597979023}, {\"x\": 6.0606060606060606, \"y\": 118.38950636050586}, {\"x\": 6.161616161616162, \"y\": 125.53534191351378}, {\"x\": 6.262626262626262, \"y\": 132.92768121066646}, {\"x\": 6.363636363636363, \"y\": 140.57017282381665}, {\"x\": 6.4646464646464645, \"y\": 148.46646532481688}, {\"x\": 6.565656565656566, \"y\": 156.6202072855197}, {\"x\": 6.666666666666667, \"y\": 165.0350472777778}, {\"x\": 6.767676767676767, \"y\": 173.7146338734436}, {\"x\": 6.8686868686868685, \"y\": 182.66261564436994}, {\"x\": 6.96969696969697, \"y\": 191.88264116240921}, {\"x\": 7.070707070707071, \"y\": 201.37835899941408}, {\"x\": 7.171717171717171, \"y\": 211.1534177272371}, {\"x\": 7.2727272727272725, \"y\": 221.211465917731}, {\"x\": 7.373737373737374, \"y\": 231.55615214274823}, {\"x\": 7.474747474747475, \"y\": 242.1911249741415}, {\"x\": 7.575757575757575, \"y\": 253.12003298376322}, {\"x\": 7.6767676767676765, \"y\": 264.34652474346615}, {\"x\": 7.777777777777778, \"y\": 275.8742488251028}, {\"x\": 7.878787878787879, \"y\": 287.7068538005259}, {\"x\": 7.979797979797979, \"y\": 299.84798824158776}, {\"x\": 8.080808080808081, \"y\": 312.30130072014146}, {\"x\": 8.181818181818182, \"y\": 325.07043980803905}, {\"x\": 8.282828282828282, \"y\": 338.1590540771333}, {\"x\": 8.383838383838384, \"y\": 351.5707920992771}, {\"x\": 8.484848484848484, \"y\": 365.3093024463227}, {\"x\": 8.585858585858587, \"y\": 379.3782336901229}, {\"x\": 8.686868686868687, \"y\": 393.78123440253}, {\"x\": 8.787878787878787, \"y\": 408.52195315539683}, {\"x\": 8.88888888888889, \"y\": 423.6040385205761}, {\"x\": 8.98989898989899, \"y\": 439.0311390699201}, {\"x\": 9.09090909090909, \"y\": 454.80690337528154}, {\"x\": 9.191919191919192, \"y\": 470.9349800085133}, {\"x\": 9.292929292929292, \"y\": 487.41901754146744}, {\"x\": 9.393939393939394, \"y\": 504.2626645459972}, {\"x\": 9.494949494949495, \"y\": 521.4695695939545}, {\"x\": 9.595959595959595, \"y\": 539.0433812571922}, {\"x\": 9.696969696969697, \"y\": 556.9877481075632}, {\"x\": 9.797979797979798, \"y\": 575.3063187169197}, {\"x\": 9.8989898989899, \"y\": 594.0027416571145}, {\"x\": 10.0, \"y\": 613.0806655}], \"data-aadb54dfc4de523281b28f5b8ea66355\": [{\"x\": 0.15443288538888433, \"y\": -0.7166481354847423}, {\"x\": 0.16612413443857443, \"y\": 7.545473643017573}, {\"x\": 3.7759988772939748, \"y\": 10.201415479167885}, {\"x\": 3.7443632415229633, \"y\": 13.49372665606603}, {\"x\": 4.595644028193363, \"y\": 33.213603870988116}, {\"x\": 0.015143322564026285, \"y\": 4.780021754037371}, {\"x\": 3.2797211160599984, \"y\": 1.3991395568789264}, {\"x\": 0.6725753296999881, \"y\": 4.949381827468725}, {\"x\": 4.948609198881966, \"y\": 54.0245270787924}, {\"x\": 8.82398948094388, \"y\": 398.54731333693155}, {\"x\": 1.4772307206533197, \"y\": -9.8503403446054}, {\"x\": 1.3321713967444193, \"y\": -7.0270673965186}, {\"x\": 4.9494194564018015, \"y\": 50.89618432325563}, {\"x\": 5.206483402435534, \"y\": 67.22349241860603}, {\"x\": 7.489708087279004, \"y\": 244.64763957868618}, {\"x\": 4.234088123182592, \"y\": 32.56442896503323}, {\"x\": 3.7522910210969576, \"y\": 4.320120328518989}, {\"x\": 5.340437982210745, \"y\": 77.12210007109191}, {\"x\": 0.925505928917334, \"y\": 3.9362971692236535}, {\"x\": 6.036896953312459, \"y\": 116.79089751129465}, {\"x\": 5.777006217289536, \"y\": 98.8949135858149}, {\"x\": 0.19457383044148902, \"y\": 5.168812346462035}, {\"x\": 7.628354753615674, \"y\": 257.52701063622635}, {\"x\": 3.880881196749675, \"y\": 20.67776402031712}, {\"x\": 7.382122753403852, \"y\": 224.87856969088048}, {\"x\": 3.2610490044711815, \"y\": -0.4357416645176251}, {\"x\": 2.098913514286015, \"y\": -9.51346715741618}, {\"x\": 0.572545818654906, \"y\": -4.86596815817611}, {\"x\": 3.842310255249546, \"y\": 20.237449551097555}, {\"x\": 0.14548901150469695, \"y\": -3.147318498178257}, {\"x\": 3.8587144372525852, \"y\": 24.030452377895596}, {\"x\": 7.629039647135305, \"y\": 261.3944453114646}, {\"x\": 6.70574487738789, \"y\": 169.31170988719225}, {\"x\": 3.4510668283955273, \"y\": 13.896982067747928}, {\"x\": 0.5336704857130303, \"y\": -3.5477386233390904}, {\"x\": 8.930755535774212, \"y\": 423.9966516869419}, {\"x\": 1.5423727914542118, \"y\": -4.139913060556643}, {\"x\": 3.820295190894333, \"y\": 12.230463752713067}, {\"x\": 0.47449225806254325, \"y\": -1.5244923605934275}, {\"x\": 8.034880139977748, \"y\": 307.45827913205767}, {\"x\": 6.0666889053950985, \"y\": 124.20402767019544}, {\"x\": 1.65800121174968, \"y\": -7.420618849914122}, {\"x\": 7.083716043253114, \"y\": 203.77428670026492}, {\"x\": 4.0194948557258705, \"y\": 23.198673952366025}, {\"x\": 9.524083650679792, \"y\": 520.1809959801045}, {\"x\": 7.359624848081497, \"y\": 235.43686433107123}, {\"x\": 9.46405774043482, \"y\": 520.4976167842858}, {\"x\": 3.813780907825368, \"y\": 11.450317314086647}, {\"x\": 3.0922358558944985, \"y\": -2.1250859700991818}, {\"x\": 6.694976179459973, \"y\": 166.35297755026758}, {\"x\": 6.430071137212026, \"y\": 141.48464574949645}, {\"x\": 2.3451470398091665, \"y\": -7.3784879579168665}, {\"x\": 5.303117424114033, \"y\": 72.28934341968392}, {\"x\": 7.650509218223819, \"y\": 262.8862323283787}, {\"x\": 4.641139594030514, \"y\": 42.56613401933839}, {\"x\": 6.147101542311878, \"y\": 117.9196378646525}, {\"x\": 1.1624003960451423, \"y\": -2.3902786240129146}, {\"x\": 4.615362053505856, \"y\": 38.034319810974786}, {\"x\": 3.6277719545805533, \"y\": 15.731318107566672}, {\"x\": 7.5397330719770475, \"y\": 242.26163518176386}, {\"x\": 9.511337608845034, \"y\": 518.2054085362556}, {\"x\": 3.2983767309882026, \"y\": 8.745448989475062}, {\"x\": 0.13334174712497093, \"y\": -6.863718640761925}, {\"x\": 5.258249640890334, \"y\": 71.43162092437336}, {\"x\": 7.225004668451108, \"y\": 214.1812330670358}, {\"x\": 8.769190989521507, \"y\": 407.07381743298924}, {\"x\": 2.7763573733275093, \"y\": -1.8395455245013972}, {\"x\": 3.095438150946037, \"y\": 3.591095384190616}, {\"x\": 2.6682323915627326, \"y\": -4.6644055194245}, {\"x\": 4.376357537800275, \"y\": 27.369214303919367}, {\"x\": 0.28530692576094197, \"y\": 1.3435420862120668}, {\"x\": 5.7423011983038466, \"y\": 105.18391161468676}, {\"x\": 8.326412342340017, \"y\": 336.5872603327004}, {\"x\": 1.4742408828554399, \"y\": -4.667942652928643}, {\"x\": 4.790270160531839, \"y\": 61.41901994294297}, {\"x\": 1.4334389579547935, \"y\": -5.842317175120099}, {\"x\": 0.7359070194435535, \"y\": -4.875729287849851}, {\"x\": 5.107806612821394, \"y\": 59.676818089605746}, {\"x\": 5.370964121133326, \"y\": 70.2371383695173}, {\"x\": 6.662719753808605, \"y\": 168.8077637636934}, {\"x\": 3.4931110712416613, \"y\": -4.21352084968669}, {\"x\": 4.882954192759284, \"y\": 52.264054171943364}, {\"x\": 8.710845348862435, \"y\": 401.15417685883705}, {\"x\": 5.755852537592042, \"y\": 104.16997876144502}, {\"x\": 7.59900393599602, \"y\": 265.02818728767227}, {\"x\": 7.874808888176913, \"y\": 287.75086671807827}, {\"x\": 3.6890314155031856, \"y\": 14.80798753106553}, {\"x\": 6.447144469229196, \"y\": 141.32056076209594}, {\"x\": 6.696796164756785, \"y\": 164.32254321031255}, {\"x\": 1.7835108225452956, \"y\": -7.225537388013239}, {\"x\": 4.8605856941022605, \"y\": 56.874516776554216}, {\"x\": 3.12724276134444, \"y\": 2.0993229741177952}, {\"x\": 9.27903276921321, \"y\": 485.1299605063809}, {\"x\": 5.512160851673365, \"y\": 83.56864846468261}, {\"x\": 6.651058224427976, \"y\": 163.31485155126444}, {\"x\": 0.15511244986870842, \"y\": -2.164565994149994}, {\"x\": 4.113046560404204, \"y\": 19.09279410813039}, {\"x\": 4.4189180372357315, \"y\": 34.03483304367531}, {\"x\": 9.314377267794088, \"y\": 495.64039935752464}, {\"x\": 6.394253397182576, \"y\": 136.22484711131534}]}}, {\"mode\": \"vega-lite\"});\n",
       "</script>"
      ],
      "text/plain": [
       "alt.LayerChart(...)"
      ]
     },
     "execution_count": 196,
     "metadata": {},
     "output_type": "execute_result"
    }
   ],
   "source": [
    "ex1c_a0, ex1c_a1, ex1c_a2, ex1c_a3 = poly_approximation(ex1c_x, ex1c_y)\n",
    "print(ex1c_a0, ex1c_a1, ex1c_a2, ex1c_a3)\n",
    "\n",
    "# Geraçaõ de pontos no polinômio ajustado\n",
    "ex1c_x_reta = np.linspace(0, 10, 100) \n",
    "ex1c_y_reta = ex1c_a3 * ex1c_x_reta**3 + ex1c_a2 * ex1c_x_reta**2 + ex1c_a1 * ex1c_x_reta + ex1c_a0\n",
    "\n",
    "# Gráfico do polinômio ajustado\n",
    "ex1c_df_reta = pd.DataFrame({\"x\": ex1c_x_reta, \"y\": ex1c_y_reta})\n",
    "\n",
    "ex1c_reta = alt.Chart(ex1c_df_reta).mark_line(color=\"red\").encode(\n",
    "    x=\"x\",\n",
    "    y=\"y\"\n",
    ").properties(\n",
    "    title=\"Ajuste de pontos em um polinômio\"\n",
    ")\n",
    "\n",
    "ex1c_reta + ex1c_pontos"
   ]
  },
  {
   "cell_type": "markdown",
   "id": "cceec990",
   "metadata": {},
   "source": [
    "### Item (d)"
   ]
  },
  {
   "cell_type": "markdown",
   "id": "0e5213aa",
   "metadata": {},
   "source": [
    "Neste item vamos aumentar a dimensão do problema, isto é, considerar um número maior de variáveis.\n",
    "\n",
    "Para isso, precisamos aumentar o número de variáveis de decisão para os coeficientes de acordo com o número de preditores, e ajustar as restrições para $z$.\n",
    "\n",
    "Se temos $d$ preditores, precisamos de $d+1$ coeficientes $a_0, a_1, ..., a_d$.\n",
    "\n",
    "Então, o código fica da seguinte forma:"
   ]
  },
  {
   "cell_type": "code",
   "execution_count": 197,
   "id": "dd2101bf",
   "metadata": {},
   "outputs": [],
   "source": [
    "def linear_regression_dim(X, y):\n",
    "    n, d = X.shape\n",
    "    \n",
    "    # Criação do problema\n",
    "    lp = pl.LpProblem(\"Linear_Regression\", pl.LpMinimize)\n",
    "    \n",
    "    # Variáveis de decisão\n",
    "    a0 = pl.LpVariable(\"a0\")  # intercepto\n",
    "    a = pl.LpVariable.dicts(\"a\", range(d))  # coeficientes\n",
    "    z = pl.LpVariable.dicts(\"z\", range(n), lowBound=0)\n",
    "\n",
    "    # Função objetivo\n",
    "    lp += pl.lpSum(z[i] for i in range(n)), \"Absolute_Residual_Sum\"\n",
    "\n",
    "    # Restrições\n",
    "    for i in range(n):\n",
    "        func = a0 + pl.lpSum(a[j] * X[i, j] for j in range(d))\n",
    "        lp += z[i] - (y[i] - func) >= 0\n",
    "        lp += z[i] + (y[i] - func) >= 0\n",
    "\n",
    "    # Resolver\n",
    "    lp.solve(pl.PULP_CBC_CMD(msg=0))\n",
    "\n",
    "    # Solução\n",
    "    a0_val = a0.varValue\n",
    "    a_vals = np.array([a[j].varValue for j in range(d)])\n",
    "    print(\"Status:\", pl.LpStatus[lp.status])\n",
    "    return a0_val, a_vals\n"
   ]
  },
  {
   "cell_type": "markdown",
   "id": "5bc8ef1c",
   "metadata": {},
   "source": [
    "Aplicação em pontos gerados:"
   ]
  },
  {
   "cell_type": "code",
   "execution_count": 198,
   "id": "58cb7829",
   "metadata": {},
   "outputs": [
    {
     "name": "stdout",
     "output_type": "stream",
     "text": [
      "Status: Optimal\n",
      "Intercepto: 4.618725\n",
      "Coeficientes: [ 4.0260246 -1.9701715  3.0125403]\n"
     ]
    }
   ],
   "source": [
    "ex1d_n = 100\n",
    "\n",
    "# X com três preditores\n",
    "ex1d_X = np.random.uniform(0, 10, (ex1d_n, 3))\n",
    "\n",
    "# Erro aleatório ~ N(0, 2)\n",
    "ex1d_erro = np.random.normal(0, 2, ex1d_n)\n",
    "\n",
    "# Geração do y com coeficientes reais: y = 4*X1 - 2*X2 + 3*X3 + 5 + erro\n",
    "ex1d_y = 4*ex1d_X[:,0] - 2*ex1d_X[:,1] + 3*ex1d_X[:,2] + 5 + ex1d_erro\n",
    "\n",
    "# Ajuste\n",
    "ex1d_a0, ex1d_a = linear_regression_dim(ex1d_X, ex1d_y)\n",
    "\n",
    "print(\"Intercepto:\", ex1d_a0)\n",
    "print(\"Coeficientes:\", ex1d_a)"
   ]
  },
  {
   "cell_type": "markdown",
   "id": "bf103678",
   "metadata": {},
   "source": [
    "## Exercício 2"
   ]
  },
  {
   "cell_type": "markdown",
   "id": "db146b8a",
   "metadata": {},
   "source": [
    "Applied Mathematical Programming | Capítulo 9 - Exercício 5"
   ]
  },
  {
   "cell_type": "markdown",
   "id": "27a54092",
   "metadata": {},
   "source": [
    "### Item (a)"
   ]
  },
  {
   "cell_type": "markdown",
   "id": "e5ad8bf7",
   "metadata": {},
   "source": [
    "#### Enunciado"
   ]
  },
  {
   "cell_type": "markdown",
   "id": "adacd0b1",
   "metadata": {},
   "source": [
    "Reformule o problema a seguir como uma problema linear inteiro equivalente:\n",
    "\n",
    "Maximizar:\n",
    "$z = x_1 + 2x_2$\n",
    "\n",
    "Sujeito a:\n",
    "- $x_1 + x_2 \\le 8$\n",
    "- $-x_1 + x_2 \\le 2$\n",
    "- $x_1 - x_2 \\le 4$\n",
    "- $x_2 \\ge 0$ e inteiro\n",
    "\n",
    "$x_1 \\in \\{0, 1, 4, 6\\}$"
   ]
  },
  {
   "cell_type": "markdown",
   "id": "a854a4d3",
   "metadata": {},
   "source": [
    "#### Solução"
   ]
  },
  {
   "cell_type": "markdown",
   "id": "5a54cafe",
   "metadata": {},
   "source": [
    "Criaremos variáveis de decisão binárias $y_0, y_1, y_4$ e $y_6$ para modelar o conjunto de valores possíveis para $x_1$. Para isso, temos as seguintes restrições:\n",
    "- $y_0 + y_1 + y_4 + y_6 = 1$\n",
    "- $x_1 = 0y_0 + 1y_1 + 4y_4 + 6y_6 \\Rightarrow y_1 + 4y_4 + 6y_6 - x_1 = 0$ \n"
   ]
  },
  {
   "cell_type": "code",
   "execution_count": 199,
   "id": "c8278f9d",
   "metadata": {},
   "outputs": [
    {
     "name": "stdout",
     "output_type": "stream",
     "text": [
      "Status: Optimal\n",
      "x1 = 4.0\n",
      "x2 = 4.0\n",
      "y0 = 0.0\n",
      "y1 = 0.0\n",
      "y4 = 1.0\n",
      "y6 = 0.0\n",
      "z = 12.0\n"
     ]
    }
   ],
   "source": [
    "# Criação do problema\n",
    "ex2a_lp = pl.LpProblem(\"Integer_Problem\", pl.LpMaximize)\n",
    "\n",
    "# Variáveis de decisão\n",
    "ex2a_x1 = pl.LpVariable(\"x1\")\n",
    "ex2a_x2 = pl.LpVariable(\"x2\", lowBound=0, cat=\"Integer\")\n",
    "ex2a_y0 = pl.LpVariable(\"y0\", cat=\"Binary\")\n",
    "ex2a_y1 = pl.LpVariable(\"y1\", cat=\"Binary\")\n",
    "ex2a_y4 = pl.LpVariable(\"y4\", cat=\"Binary\")\n",
    "ex2a_y6 = pl.LpVariable(\"y6\", cat=\"Binary\")\n",
    "\n",
    "# Função objetivo\n",
    "ex2a_lp += ex2a_x1 + 2*ex2a_x2\n",
    "\n",
    "# Restrições\n",
    "ex2a_lp += ex2a_y0 + ex2a_y1 + ex2a_y4 + ex2a_y6 == 1\n",
    "ex2a_lp += ex2a_y1 + 4*ex2a_y4 + 6*ex2a_y6 - ex2a_x1 == 0\n",
    "ex2a_lp += ex2a_x1 + ex2a_x2 <= 8\n",
    "ex2a_lp += -ex2a_x1 + ex2a_x2 <= 2\n",
    "ex2a_lp += ex2a_x1 - ex2a_x2 <= 4\n",
    "\n",
    "# Resolver\n",
    "ex2a_lp.solve(pl.PULP_CBC_CMD(msg=0))\n",
    "\n",
    "# Solução\n",
    "print(\"Status:\", pl.LpStatus[ex2a_lp.status])\n",
    "for var in ex2a_lp.variables():\n",
    "    print(var, \"=\", var.varValue)\n",
    "print(\"z =\", pl.value(ex2a_lp.objective))"
   ]
  },
  {
   "cell_type": "markdown",
   "id": "dcee12cb",
   "metadata": {},
   "source": [
    "### Item (b)"
   ]
  },
  {
   "cell_type": "markdown",
   "id": "9a537a2f",
   "metadata": {},
   "source": [
    "#### Enunciado"
   ]
  },
  {
   "cell_type": "markdown",
   "id": "4c0e7ffd",
   "metadata": {},
   "source": [
    "Como resolver o item (a) se a função objetivo for alterada para:\n",
    "\n",
    "Maximizar: z = $x_1^2 + 2x_2$"
   ]
  },
  {
   "cell_type": "markdown",
   "id": "e2c0cde7",
   "metadata": {},
   "source": [
    "#### Solução"
   ]
  },
  {
   "cell_type": "markdown",
   "id": "ff1445c3",
   "metadata": {},
   "source": [
    "Podemos criar uma outra variável para guardar o valor de $x_1^2$ da seguinte forma:\n",
    "\n",
    "$w = 0y_0 + 1y_1 + 16y_4 + 36y_6$\n",
    "\n",
    "Assim, alteramos nossa função objetivo para:\n",
    "\n",
    "Maximizar: z = $w + 2x_2$"
   ]
  },
  {
   "cell_type": "code",
   "execution_count": 200,
   "id": "5d371d67",
   "metadata": {},
   "outputs": [
    {
     "name": "stdout",
     "output_type": "stream",
     "text": [
      "Status: Optimal\n",
      "w = 16.0\n",
      "x1 = 4.0\n",
      "x2 = 4.0\n",
      "y0 = 0.0\n",
      "y1 = 0.0\n",
      "y4 = 1.0\n",
      "y6 = 0.0\n",
      "z = 12.0\n"
     ]
    }
   ],
   "source": [
    "# Criação do problema\n",
    "ex2b_lp = pl.LpProblem(\"Integer_Problem\", pl.LpMaximize)\n",
    "\n",
    "# Variáveis de decisão\n",
    "ex2b_x1 = pl.LpVariable(\"x1\")\n",
    "ex2b_x2 = pl.LpVariable(\"x2\", lowBound=0, cat=\"Integer\")\n",
    "ex2b_y0 = pl.LpVariable(\"y0\", cat=\"Binary\")\n",
    "ex2b_y1 = pl.LpVariable(\"y1\", cat=\"Binary\")\n",
    "ex2b_y4 = pl.LpVariable(\"y4\", cat=\"Binary\")\n",
    "ex2b_y6 = pl.LpVariable(\"y6\", cat=\"Binary\")\n",
    "ex2b_w = pl.LpVariable(\"w\")\n",
    "\n",
    "# Função objetivo\n",
    "ex2b_lp += ex2b_x1 + 2*ex2b_x2\n",
    "\n",
    "# Restrições\n",
    "ex2b_lp += ex2b_y0 + ex2b_y1 + ex2b_y4 + ex2b_y6 == 1\n",
    "ex2b_lp += ex2b_y1 + 4*ex2b_y4 + 6*ex2b_y6 - ex2b_x1 == 0\n",
    "ex2b_lp += ex2b_y1 + 16*ex2b_y4 + 36*ex2b_y6 - ex2b_w == 0\n",
    "ex2b_lp += ex2b_x1 + ex2b_x2 <= 8\n",
    "ex2b_lp += -ex2b_x1 + ex2b_x2 <= 2\n",
    "ex2b_lp += ex2b_x1 - ex2b_x2 <= 4\n",
    "\n",
    "# Resolver\n",
    "ex2b_lp.solve(pl.PULP_CBC_CMD(msg=0))\n",
    "\n",
    "# Solução\n",
    "print(\"Status:\", pl.LpStatus[ex2b_lp.status])\n",
    "for var in ex2b_lp.variables():\n",
    "    print(var, \"=\", var.varValue)\n",
    "print(\"z =\", pl.value(ex2b_lp.objective))"
   ]
  },
  {
   "cell_type": "markdown",
   "id": "15b56679",
   "metadata": {},
   "source": [
    "## Exercício 3\n",
    "\n",
    "Applied Mathematical Programming | Capítulo 9 - Exercício 3"
   ]
  },
  {
   "cell_type": "markdown",
   "id": "716a6afd",
   "metadata": {},
   "source": [
    "### Enunciado"
   ]
  },
  {
   "cell_type": "markdown",
   "id": "ea4f25d8",
   "metadata": {},
   "source": [
    "O grupo de marketing da A. J. Pitt Company está considerando as opções disponíveis para sua próxima campanha publicitária.  \n",
    "Após um grande esforço de análise, o grupo identificou um número selecionado de opções com as características mostradas na tabela abaixo:\n",
    "\n",
    "| Meio                 | TV (1)       | Revista técnica (2) | Jornal (3)   | Rádio (4)    | Revista popular (5) | Campanha promocional (6) | Recursos totais disponíveis |\n",
    "|----------------------|----------|-----------------|----------|----------|-----------------|-----------------------|-----------------------------|\n",
    "| **Clientes atingidos** | 1.000.000 | 200.000         | 300.000  | 400.000  | 450.000         | 450.000               | –                           |\n",
    "| **Custo ($)**        | 500.000  | 150.000         | 300.000  | 250.000  | 250.000         | 100.000               | 1.800.000                   |\n",
    "| **Designers necessários** (h.h.) | 700      | 250             | 200      | 200      | 300             | 400                   | 1.500                       |\n",
    "| **Vendedores necessários** (h.h.) | 200      | 100             | 100      | 100      | 100             | 1.000                 | 1.200                       |\n",
    "\n",
    "(h.h. = horas-homens)\n",
    "\n",
    "\n",
    "O objetivo do programa de publicidade é maximizar o número de clientes atingidos, sujeito às limitações de recursos (dinheiro, designers e vendedores) mostradas na tabela acima.  \n",
    "\n",
    "Além disso, devem ser satisfeitas as seguintes restrições:\n",
    "\n",
    "1. Se a campanha promocional for realizada, será necessário também realizar rádio ou revista popular para apoiá-la.  \n",
    "2. A empresa não pode anunciar simultaneamente em revista técnica e em revista popular.  \n",
    "\n",
    " \n",
    "Formule um modelo de programação inteira que auxilie a empresa a selecionar uma estratégia adequada de campanha publicitária."
   ]
  },
  {
   "cell_type": "markdown",
   "id": "6cd16acd",
   "metadata": {},
   "source": [
    "### Solução"
   ]
  },
  {
   "cell_type": "markdown",
   "id": "ddb01f6c",
   "metadata": {},
   "source": [
    "Sejam $x_1, x_2, x_3, x_4, x_5, x_6$ variáveis binárias que indicam se as publicidades na TV, revista técnica, jornal, rádio, revista popular ou campanha promocional foram escolhidas, respectivamente. Nossa função objetivo é:\n",
    "\n",
    "Maximizar: $z = 1000x_1 + 200x_2 + 300x_3 + 400x_4 + 450x_5 + 450x_6$ (em milhares de dólares)\n",
    "\n",
    "Das restrições de recursos, temos:\n",
    "- Custo\n",
    "    $500x_1 + 150x_2 + 300x_3 + 250x_4 + 250x_5 + 100x_6 \\leq 1800$\n",
    "- Designers necessários\n",
    "    $700x_1 + 250x_2 + 200x_3 + 200x_4 + 300x_5 + 400x_6 \\leq 1500$\n",
    "- Vendedores necessários\n",
    "    $200x_1 + 100x_2 + 100x_3 + 100x_4 + 100x_5 + 1000x_6 \\leq 1200$\n",
    "\n",
    "Além disso, das outras restrições do problema, temos:\n",
    "1. Se a campanha promocional for realizada, será necessário também realizar rádio ou revista popular para apoiá-la.  \n",
    "    $x_4 + x_5 \\geq x_6 \\Rightarrow x_4 + x_5 - x_6 \\geq 0$\n",
    "2. A empresa não pode anunciar simultaneamente em revista técnica e em revista popular.\n",
    "    $x_2 + x_5 \\leq 1$\n"
   ]
  },
  {
   "cell_type": "code",
   "execution_count": 201,
   "id": "7994f36f",
   "metadata": {},
   "outputs": [
    {
     "name": "stdout",
     "output_type": "stream",
     "text": [
      "Status: Optimal\n",
      "x1 = 1.0\n",
      "x2 = 0.0\n",
      "x3 = 1.0\n",
      "x4 = 1.0\n",
      "x5 = 1.0\n",
      "x6 = 0.0\n",
      "z = 2150.0\n"
     ]
    }
   ],
   "source": [
    "# Criação do problema\n",
    "ex3_lp = pl.LpProblem(\"Advertising\", pl.LpMaximize)\n",
    "\n",
    "# Variáveis de decisão\n",
    "ex3_x1 = pl.LpVariable(\"x1\", cat=\"Binary\")\n",
    "ex3_x2 = pl.LpVariable(\"x2\", cat=\"Binary\")\n",
    "ex3_x3 = pl.LpVariable(\"x3\", cat=\"Binary\")\n",
    "ex3_x4 = pl.LpVariable(\"x4\", cat=\"Binary\")\n",
    "ex3_x5 = pl.LpVariable(\"x5\", cat=\"Binary\")\n",
    "ex3_x6 = pl.LpVariable(\"x6\", cat=\"Binary\")\n",
    "\n",
    "# Função objetivo\n",
    "ex3_lp += 1000*ex3_x1 + 200*ex3_x2 + 300*ex3_x3 + 400*ex3_x4 + 450*ex3_x5 + 450*ex3_x6\n",
    "\n",
    "# Restrições\n",
    "ex3_lp += 500*ex3_x1 + 150*ex3_x2 + 300*ex3_x3 + 250*ex3_x4 + 250*ex3_x5 + 100*ex3_x6 <= 1800\n",
    "ex3_lp += 700*ex3_x1 + 250*ex3_x2 + 200*ex3_x3 + 200*ex3_x4 + 300*ex3_x5 + 400*ex3_x6 <= 1500\n",
    "ex3_lp += 200*ex3_x1 + 100*ex3_x2 + 100*ex3_x3 + 100*ex3_x4 + 100*ex3_x5 + 1000*ex3_x6 <= 1200\n",
    "ex3_lp += ex3_x4 + ex3_x5 - ex3_x6 >= 0\n",
    "ex3_lp += ex3_x2 + ex3_x5 <= 1\n",
    "\n",
    "# Resolver\n",
    "ex3_lp.solve(pl.PULP_CBC_CMD(msg=0))\n",
    "\n",
    "# Solução\n",
    "print(\"Status:\", pl.LpStatus[ex3_lp.status])\n",
    "for var in ex3_lp.variables():\n",
    "    print(var, \"=\", var.varValue)\n",
    "print(\"z =\", pl.value(ex3_lp.objective))"
   ]
  },
  {
   "cell_type": "markdown",
   "id": "3c8e2e2b",
   "metadata": {},
   "source": [
    "## Exercício 4\n",
    "\n",
    "Applied Mathematical Programming | Capítulo 8 - Exercício 2"
   ]
  },
  {
   "cell_type": "markdown",
   "id": "4d27a377",
   "metadata": {},
   "source": [
    "### Enunciado"
   ]
  },
  {
   "cell_type": "markdown",
   "id": "f2445178",
   "metadata": {},
   "source": [
    "Em um determinado dia durante a temporada de turismo, uma empresa de aluguel de carros deve fornecer veículos para quatro destinos, de acordo com o seguinte cronograma:\n",
    "\n",
    "| Destino | Carros necessários |\n",
    "|---------|--------------------|\n",
    "| A       | 2                  |\n",
    "| B       | 3                  |\n",
    "| C       | 5                  |\n",
    "| D       | 7                  |\n",
    "\n",
    "A empresa possui três filiais a partir das quais os carros podem ser fornecidos. Nesse dia, o inventário de cada filial era o seguinte:\n",
    "\n",
    "| Filial | Carros disponíveis |\n",
    "|--------|--------------------|\n",
    "| 1      | 6                  |\n",
    "| 2      | 1                  |\n",
    "| 3      | 10                 |\n",
    "\n",
    "As distâncias entre as filiais e os destinos são dadas na tabela a seguir:\n",
    "\n",
    "| Filial \\ Destino | A  | B  | C  | D  |\n",
    "|------------------|----|----|----|----|\n",
    "| 1                | 7  | 11 | 3  | 2  |\n",
    "| 2                | 1  | 6  | 0  | 1  |\n",
    "| 3                | 9  | 15 | 8  | 5  |\n",
    "\n",
    "\n",
    "\n",
    "Planeje a atividade do dia de forma que as demandas sejam atendidas com custo mínimo (assumindo que o custo é proporcional a carros x milhas percorridas).\n"
   ]
  },
  {
   "cell_type": "markdown",
   "id": "78f6895b",
   "metadata": {},
   "source": [
    "### Solução"
   ]
  },
  {
   "cell_type": "markdown",
   "id": "6d529b5e",
   "metadata": {},
   "source": [
    "Sejam $x_{ij}$ o número de carros da filial i que vão para o destino j e $d_{ij}$ a distância associada. Nossa função objetivo é:\n",
    "\n",
    "Minimizar $z = \\sum_{i=1}^m \\sum_{j=1}^n d_{ij} x_{ij}$\n",
    "\n",
    "Com as restrições:\n",
    "- $\\sum_{j=1}^n x_{ij} = a_i$, onde $a_i$ é o número de carros disponíveis na filial i.\n",
    "- $\\sum_{i=1}^m x_{ij} = b_j$, onde $b_j$ é o número de carros necessários no destino j.\n",
    "- $x_{ij} \\geq 0 (i=1,..,m; j=1,...,n)$"
   ]
  },
  {
   "cell_type": "code",
   "execution_count": 202,
   "id": "9e84a42a",
   "metadata": {},
   "outputs": [
    {
     "name": "stdout",
     "output_type": "stream",
     "text": [
      "Status: Optimal\n",
      "x_0_0 = 0.0\n",
      "x_0_1 = 1.0\n",
      "x_0_2 = 5.0\n",
      "x_0_3 = 0.0\n",
      "x_1_0 = 0.0\n",
      "x_1_1 = 1.0\n",
      "x_1_2 = 0.0\n",
      "x_1_3 = 0.0\n",
      "x_2_0 = 2.0\n",
      "x_2_1 = 1.0\n",
      "x_2_2 = 0.0\n",
      "x_2_3 = 7.0\n",
      "z = 100.0\n"
     ]
    }
   ],
   "source": [
    "m = 3\n",
    "n = 4\n",
    "\n",
    "# Matriz de distâncias\n",
    "d = [[7, 11, 3, 2],\n",
    "    [1, 6, 0, 1],\n",
    "    [9, 15, 8, 5]]\n",
    "\n",
    "# Carros disponíveis\n",
    "a = [6, 1, 10]\n",
    "\n",
    "# Carros necessários\n",
    "b = [2, 3, 5, 7]\n",
    "\n",
    "# Criação do problema\n",
    "ex4_lp = pl.LpProblem(\"Car_Rent\", pl.LpMinimize)\n",
    "\n",
    "# Variáveis de decisão\n",
    "x = [[pl.LpVariable(f\"x_{i}_{j}\", lowBound=0, cat='Continuous') for j in range(n)] for i in range(m)]\n",
    "\n",
    "# Função objetivo\n",
    "ex4_lp += pl.lpSum(d[i][j] * x[i][j] for i in range(m) for j in range(n))\n",
    "\n",
    "# Restrições\n",
    "for i in range(m):\n",
    "    ex4_lp += pl.lpSum(x[i][j] for j in range(n)) == a[i]\n",
    "for j in range(n):\n",
    "    ex4_lp += pl.lpSum(x[i][j] for i in range(m)) == b[j]\n",
    "\n",
    "# Resolver\n",
    "ex4_lp.solve(pl.PULP_CBC_CMD(msg=0))\n",
    "\n",
    "# Solução\n",
    "print(\"Status:\", pl.LpStatus[ex4_lp.status])\n",
    "for var in ex4_lp.variables():\n",
    "    print(var, \"=\", var.varValue)\n",
    "print(\"z =\", pl.value(ex4_lp.objective))"
   ]
  },
  {
   "cell_type": "markdown",
   "id": "79b2c384",
   "metadata": {},
   "source": [
    "## Exercício 5\n",
    "\n",
    "Applied Mathematical Programming | Capítulo 8 - Exercício 4"
   ]
  },
  {
   "cell_type": "markdown",
   "id": "6df5124a",
   "metadata": {},
   "source": [
    "### Enunciado"
   ]
  },
  {
   "cell_type": "markdown",
   "id": "f29ff4c0",
   "metadata": {},
   "source": [
    "Uma grande rede de artigos esportivos deseja comprar 300, 200, 150, 500 e 400 raquetes de tênis de cinco tipos diferentes. Foram recebidas propostas de quatro fabricantes, que fornecerão no máximo as seguintes quantidades (todos os cinco tipos de raquetes combinados):\n",
    "\n",
    "- M1: 600  \n",
    "- M2: 500  \n",
    "- M3: 300  \n",
    "- M4: 400  \n",
    "\n",
    "A loja estima que o lucro por raquete variará de acordo com o fabricante, conforme mostrado abaixo:\n",
    "\n",
    "| Fabricante | R1   | R2   | R3   | R4   | R5   |\n",
    "|------------|------|------|------|------|------|\n",
    "| M1         | 5.50 | 7.00 | 8.50 | 4.50 | 3.00 |\n",
    "| M2         | 6.00 | 6.50 | 9.00 | 3.50 | 2.00 |\n",
    "| M3         | 5.00 | 7.00 | 9.50 | 4.00 | 2.50 |\n",
    "| M4         | 6.50 | 5.50 | 8.00 | 5.00 | 3.50 |\n",
    "\n",
    "  \n",
    "Como os pedidos devem ser distribuídos entre os fabricantes?\n"
   ]
  },
  {
   "cell_type": "markdown",
   "id": "23d3734b",
   "metadata": {},
   "source": [
    "### Solução"
   ]
  },
  {
   "cell_type": "markdown",
   "id": "af9ef8e5",
   "metadata": {},
   "source": [
    "Sejam $x_{ij}$ o número de raquetes do tipo i compradas com o fornecedor j e $c_{ij}$ o lucro associado. Nossa função objetivo é:\n",
    "\n",
    "Maximizar $z = \\sum_{i=1}^m \\sum_{i=1}^n x_{ij} c_{ij}$\n",
    "\n",
    "Com as restrições:\n",
    "- $\\sum_{i=1}^m x_{ij} \\leq r_j$, onde $r_j$ é o máximo de raquetes fornecidas pelo fabricante j.\n",
    "- $x_{ij} \\geq 0$"
   ]
  },
  {
   "cell_type": "code",
   "execution_count": 203,
   "id": "c4dc6598",
   "metadata": {},
   "outputs": [
    {
     "name": "stdout",
     "output_type": "stream",
     "text": [
      "Status: Optimal\n",
      "x_0_0 = 0.0\n",
      "x_0_1 = 0.0\n",
      "x_0_2 = 0.0\n",
      "x_0_3 = 0.0\n",
      "x_1_0 = 0.0\n",
      "x_1_1 = 0.0\n",
      "x_1_2 = 0.0\n",
      "x_1_3 = 0.0\n",
      "x_2_0 = 600.0\n",
      "x_2_1 = 500.0\n",
      "x_2_2 = 300.0\n",
      "x_2_3 = 400.0\n",
      "x_3_0 = 0.0\n",
      "x_3_1 = 0.0\n",
      "x_3_2 = 0.0\n",
      "x_3_3 = 0.0\n",
      "x_4_0 = 0.0\n",
      "x_4_1 = 0.0\n",
      "x_4_2 = 0.0\n",
      "x_4_3 = 0.0\n",
      "z = 15650.0\n"
     ]
    }
   ],
   "source": [
    "m = 5\n",
    "n = 4\n",
    "\n",
    "# Matriz de lucros\n",
    "d = [[5.5, 6, 5, 6.5],\n",
    "    [7, 6.5, 7, 5.5],\n",
    "    [8.5, 9, 9.5, 8],\n",
    "    [4.5, 3.5, 4, 5],\n",
    "    [3, 2, 2.5, 3.5]]\n",
    "\n",
    "# Número de raquetes fornecidas\n",
    "r = [600, 500, 300, 400]\n",
    "\n",
    "# Criação do problema\n",
    "ex5_lp = pl.LpProblem(\"Tennis_Racquets\", pl.LpMaximize)\n",
    "\n",
    "# Variáveis de decisão\n",
    "x = [[pl.LpVariable(f\"x_{i}_{j}\", lowBound=0, cat='Continuous') for j in range(n)] for i in range(m)]\n",
    "\n",
    "# Função objetivo\n",
    "ex5_lp += pl.lpSum(d[i][j] * x[i][j] for i in range(m) for j in range(n))\n",
    "\n",
    "# Restrições\n",
    "for j in range(n):\n",
    "    ex5_lp += pl.lpSum(x[i][j] for i in range(m)) <= r[j]\n",
    "\n",
    "# Resolver\n",
    "ex5_lp.solve(pl.PULP_CBC_CMD(msg=0))\n",
    "\n",
    "# Solução\n",
    "print(\"Status:\", pl.LpStatus[ex5_lp.status])\n",
    "for var in ex5_lp.variables():\n",
    "    print(var, \"=\", var.varValue)\n",
    "print(\"z =\", pl.value(ex5_lp.objective))"
   ]
  },
  {
   "cell_type": "markdown",
   "id": "1833b931",
   "metadata": {},
   "source": [
    "## Exercício extra"
   ]
  },
  {
   "cell_type": "markdown",
   "id": "0d8c713e",
   "metadata": {},
   "source": [
    "Applied Mathematical Programming | Capítulo 9 - Exercício 15"
   ]
  },
  {
   "cell_type": "markdown",
   "id": "0a42afb4",
   "metadata": {},
   "source": [
    "#### Enunciado"
   ]
  },
  {
   "cell_type": "markdown",
   "id": "e0611fee",
   "metadata": {},
   "source": [
    "Um time universitário de basquete de quatro jogadores está tentando escolher sua formação inicial a partir de um elenco de seis jogadores, de forma a maximizar a altura média. O elenco é o seguinte:\n",
    "\n",
    "| Jogador | Número | Altura* | Posição  |\n",
    "|---------|--------|---------|----------|\n",
    "| Dave    | 1      | 10      | Pivô     |\n",
    "| John    | 2      | 9       | Pivô     |\n",
    "| Mark    | 3      | 6       | Ala      |\n",
    "| Rich    | 4      | 6       | Ala      |\n",
    "| Ken     | 5      | 4       | Armador  |\n",
    "| Jim     | 6      | -1      | Armador  |\n",
    "\n",
    "\\* Altura em polegadas acima de 5'6''.\n",
    "\n",
    "\n",
    "A formação inicial deve satisfazer as seguintes restrições:\n",
    "\n",
    "1. Pelo menos um armador deve iniciar.  \n",
    "2. Ou John ou Ken deve ficar na reserva.  \n",
    "3. Apenas um pivô pode iniciar.  \n",
    "4. Se John ou Rich iniciarem, então Jim não pode iniciar.  "
   ]
  },
  {
   "cell_type": "markdown",
   "id": "b45ab5fa",
   "metadata": {},
   "source": [
    "#### Solução"
   ]
  },
  {
   "cell_type": "markdown",
   "id": "8f605f22",
   "metadata": {},
   "source": [
    "Usaremos as variáveis binárias $x_i, i=1,..,6$ para indicar se o jogador $i$ começa ou não. Nossa função objetivo é:\n",
    "\n",
    "Maximizar $z = 10x_1 + 9x_2 + 6x_3 + 6x_4 + 4x_5 - x_6$\n",
    "\n",
    "\n",
    "Agora, vamos modelar cada uma das restrições:\n",
    "\n",
    "1. Pelo menos um armador deve iniciar.\n",
    "\n",
    "    $x_5 + x_6 \\geq 1$\n",
    "\n",
    "2. Ou John ou Ken deve ficar na reserva.\n",
    "\n",
    "    $x_2 + x_5 = 1$ (considerando que é um ou exclusivo)\n",
    "\n",
    "3. Apenas um pivô pode iniciar.\n",
    "\n",
    "    $x_1 + x_2 \\leq 1$ (considerando que no máximo um pivô pode iniciar)\n",
    "\n",
    "4. Se John ou Rich iniciarem, então Jim não pode iniciar. \n",
    "\n",
    "    $x_2 + x_6 \\leq 1$\n",
    "\n",
    "    $x_4 + x_6 \\leq 1$\n",
    "\n",
    "5. Como o time é composto de quatro jogadores, temos:\n",
    "\n",
    "    $x_1 + x_2 + x_3 + x_4 + x_5 - x_6 = 4$"
   ]
  },
  {
   "cell_type": "code",
   "execution_count": 204,
   "id": "46dc07fc",
   "metadata": {},
   "outputs": [
    {
     "name": "stdout",
     "output_type": "stream",
     "text": [
      "Status: Optimal\n",
      "x1 = 1.0\n",
      "x2 = 0.0\n",
      "x3 = 1.0\n",
      "x4 = 1.0\n",
      "x5 = 1.0\n",
      "x6 = 0.0\n",
      "z = 26.0\n"
     ]
    }
   ],
   "source": [
    "# Criação do problema\n",
    "ex_lp = pl.LpProblem(\"Basketball\", pl.LpMaximize)\n",
    "\n",
    "# Variáveis de decisão\n",
    "ex_x1 = pl.LpVariable(\"x1\", cat=\"Binary\")\n",
    "ex_x2 = pl.LpVariable(\"x2\", cat=\"Binary\")\n",
    "ex_x3 = pl.LpVariable(\"x3\", cat=\"Binary\")\n",
    "ex_x4 = pl.LpVariable(\"x4\", cat=\"Binary\")\n",
    "ex_x5 = pl.LpVariable(\"x5\", cat=\"Binary\")\n",
    "ex_x6 = pl.LpVariable(\"x6\", cat=\"Binary\")\n",
    "\n",
    "# Função objetivo\n",
    "ex_lp += 10*ex_x1 + 9*ex_x2 + 6*ex_x3 + 6*ex_x4 + 4*ex_x5 - ex_x6\n",
    "\n",
    "# Restrições\n",
    "ex_lp += ex_x5 + ex_x6 >= 1\n",
    "ex_lp += ex_x2 + ex_x5 == 1\n",
    "ex_lp += ex_x1 + ex_x2 <= 1\n",
    "ex_lp += ex_x2 + ex_x6 <= 1\n",
    "ex_lp += ex_x4 + ex_x6 <= 1\n",
    "ex_lp += ex_x1 + ex_x2 + ex_x3 + ex_x4 + ex_x5 + ex_x6 == 4\n",
    "\n",
    "# Resolver\n",
    "ex_lp.solve(pl.PULP_CBC_CMD(msg=0))\n",
    "\n",
    "# Solução\n",
    "print(\"Status:\", pl.LpStatus[ex_lp.status])\n",
    "for var in ex_lp.variables():\n",
    "    print(var, \"=\", var.varValue)\n",
    "print(\"z =\", pl.value(ex_lp.objective))"
   ]
  }
 ],
 "metadata": {
  "kernelspec": {
   "display_name": "Python 3",
   "language": "python",
   "name": "python3"
  },
  "language_info": {
   "codemirror_mode": {
    "name": "ipython",
    "version": 3
   },
   "file_extension": ".py",
   "mimetype": "text/x-python",
   "name": "python",
   "nbconvert_exporter": "python",
   "pygments_lexer": "ipython3",
   "version": "3.12.3"
  }
 },
 "nbformat": 4,
 "nbformat_minor": 5
}
