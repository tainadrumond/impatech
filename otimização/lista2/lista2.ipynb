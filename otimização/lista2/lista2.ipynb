{
 "cells": [
  {
   "cell_type": "markdown",
   "id": "bb78ff8d",
   "metadata": {},
   "source": [
    "# Solução dos exercícios da Lista 2 de Otimização Linear\n",
    "\n",
    "Professora Asla Medeiros e Sá\n",
    "\n",
    "Tainá Isabela Queiroz Drumond - IMPA Tech"
   ]
  },
  {
   "cell_type": "markdown",
   "id": "5183be9c",
   "metadata": {},
   "source": [
    "Nesse notebook, resolvo os exercícios propostos para a Lista 2 da disciplina de Otimização Linear do IMPA Tech."
   ]
  },
  {
   "cell_type": "code",
   "execution_count": 30,
   "id": "2c6dff90",
   "metadata": {},
   "outputs": [],
   "source": [
    "import pulp as pl\n",
    "import numpy as np\n",
    "import pandas as pd\n",
    "import altair as alt"
   ]
  },
  {
   "cell_type": "markdown",
   "id": "e0343e02",
   "metadata": {},
   "source": [
    "## Exercício 1"
   ]
  },
  {
   "cell_type": "markdown",
   "id": "70f77711",
   "metadata": {},
   "source": [
    "Nesse exercício, buscamos resolver um problema de regressão linear utilizando programação linear."
   ]
  },
  {
   "cell_type": "markdown",
   "id": "597f9e8e",
   "metadata": {},
   "source": [
    "### Item (a)"
   ]
  },
  {
   "cell_type": "markdown",
   "id": "71a5bf3e",
   "metadata": {},
   "source": [
    "#### Enunciado:"
   ]
  },
  {
   "cell_type": "markdown",
   "id": "cf8505f7",
   "metadata": {},
   "source": [
    "Formule programas lineares (PLs) cujas soluções ótimas minimizem \n",
    "\n",
    "1. A soma dos resíduos absolutos da reta aproximada para os dados\n",
    "$$\\min_{a} \\sum_{i=1}^n \\bigl|\\, y_i - (a_1 x_i + a_0) \\,\\bigr|$$\n",
    "2. O resíduo absoluto máximo\n",
    "$$\\min_{a} \\max_{i} \\bigl|\\, y_i - (a_1 x_i + a_0) \\,\\bigr|$$\n",
    "\n",
    "Depois, generalize o modelo para permitir o ajuste para polinômios gerais\n",
    "$$y = a_k x^k + a_{k-1} x^{k-1} + ... + a_1 x + a_0$$"
   ]
  },
  {
   "cell_type": "markdown",
   "id": "480a6dff",
   "metadata": {},
   "source": [
    "#### Solução:"
   ]
  },
  {
   "cell_type": "markdown",
   "id": "7de4831f",
   "metadata": {},
   "source": [
    "Nesse problema, nossas variáveis de decisão são os coeficientes $a_i$."
   ]
  },
  {
   "cell_type": "markdown",
   "id": "0933b236",
   "metadata": {},
   "source": [
    "##### 1 - Soma dos resíduos absolutos\n",
    "\n",
    "Precisamos linearizar os termos do somatório, já que o módulo não é uma operação linear. Para isso, vamos criar novas variáveis $z_i$ e minimizar o seguinte somatório:\n",
    "\n",
    "$$\\min_{a} \\sum_{i=1}^n z_i$$\n",
    "\n",
    "Onde\n",
    "\n",
    "$z_i = \\bigl|\\, y_i - (a_1 x_i + a_0) \\,\\bigr|$\n",
    "\n",
    "Agora, é necessário linearizar as restrições sobre os $z_i$.\n",
    "\n",
    "Perceba que, se $c=\\bigl|\\, a-b \\,\\bigr|$, então $c \\geq a-b$ e $c \\geq b-a$. Logo, podemos estabelecer as seguintes restrições:\n",
    "\n",
    "$z_i \\geq y_i - (a_1 x_i + a_0)$\n",
    "\n",
    "$z_i \\geq (a_1 x_i + a_0) - y_i$\n",
    "\n",
    "Como o nosso programa minimiza o somatório dos $z_i$, a igualdade será estabelecida para alguma das duas restrições acima, chegando a $z_i = \\bigl|\\, y_i - (a_1 x_i + a_0) \\,\\bigr|$."
   ]
  },
  {
   "cell_type": "markdown",
   "id": "cb50dc53",
   "metadata": {},
   "source": [
    "##### 2 - Resíduo absoluto máximo\n",
    "\n",
    "Para linearizar o problema, minimizaremos a variável $z$ onde\n",
    "$$z = \\max_{i} \\bigl|\\, y_i - (a_1 x_i + a_0) \\,\\bigr|$$\n",
    "\n",
    "Com a restrição de \n",
    "\n",
    "$z \\geq y_i - (a_1 x_i + a_0)$\n",
    "\n",
    "$z \\geq (a_1 x_i + a_0) - y_i$\n",
    "\n",
    "para todo $i = 1, ..., n$.\n",
    "\n",
    "Assim, z será limitado inferiormente por todos os resíduos absolutos e, em particular, pelo maior deles. Como o problema minimiza z, chegaremos em $z = \\min_{a} \\max_{i} \\bigl|\\, y_i - (a_1 x_i + a_0) \\,\\bigr|$."
   ]
  },
  {
   "cell_type": "markdown",
   "id": "60491603",
   "metadata": {},
   "source": [
    "##### 3 - Generalizando para polinômios gerais\n",
    "\n",
    "Tanto no caso da soma dos resíduos absolutos quanto no caso do resíduo absoluto máximo, só precisamos de mais variáveis decisão para os coeficientes adicionais e "
   ]
  },
  {
   "cell_type": "markdown",
   "id": "a40439ce",
   "metadata": {},
   "source": [
    "#### Modelagem computacional"
   ]
  },
  {
   "cell_type": "code",
   "execution_count": 31,
   "id": "b90b3fb2",
   "metadata": {},
   "outputs": [],
   "source": [
    "def linear_regression_absolute_residual_sum(x, y):\n",
    "    # Criação do problema\n",
    "    lp = pl.LpProblem(\"Linear_Regression\", pl.LpMinimize)\n",
    "\n",
    "    n = len(x)\n",
    "    \n",
    "    # Variáveis de decisão (coeficientes da aproximação linear)\n",
    "    a0 = pl.LpVariable(\"a0\")\n",
    "    a1 = pl.LpVariable(\"a1\")\n",
    "    z = pl.LpVariable.dicts(\"z\", range(n))\n",
    "\n",
    "    # Função objetivo\n",
    "    lp += pl.lpSum(z), \"Absolute_Residual_Sum\"\n",
    "\n",
    "    # Restrições\n",
    "    for i in range(n):\n",
    "        lp += z[i] - (x[i] * a1) - a0 + y[i] >= 0\n",
    "        lp += z[i] + (x[i] * a1) + a0 - y[i] >= 0\n",
    "\n",
    "    # Resolver\n",
    "    lp.solve(pl.PULP_CBC_CMD(msg=0))\n",
    "\n",
    "    # Solução\n",
    "    print(\"Status:\", pl.LpStatus[lp.status])\n",
    "    return lp.variables()[0].varValue, lp.variables()[1].varValue"
   ]
  },
  {
   "cell_type": "markdown",
   "id": "42ffd700",
   "metadata": {},
   "source": [
    "### Item (b)"
   ]
  },
  {
   "cell_type": "markdown",
   "id": "f9b4ecf1",
   "metadata": {},
   "source": [
    "Vamos gerar alguns dados em R² para testar o ajuste:"
   ]
  },
  {
   "cell_type": "code",
   "execution_count": 32,
   "id": "769d9ce5",
   "metadata": {},
   "outputs": [
    {
     "data": {
      "text/html": [
       "\n",
       "<style>\n",
       "  #altair-viz-562c9003765e486db32dad6f9b5d0bcf.vega-embed {\n",
       "    width: 100%;\n",
       "    display: flex;\n",
       "  }\n",
       "\n",
       "  #altair-viz-562c9003765e486db32dad6f9b5d0bcf.vega-embed details,\n",
       "  #altair-viz-562c9003765e486db32dad6f9b5d0bcf.vega-embed details summary {\n",
       "    position: relative;\n",
       "  }\n",
       "</style>\n",
       "<div id=\"altair-viz-562c9003765e486db32dad6f9b5d0bcf\"></div>\n",
       "<script type=\"text/javascript\">\n",
       "  var VEGA_DEBUG = (typeof VEGA_DEBUG == \"undefined\") ? {} : VEGA_DEBUG;\n",
       "  (function(spec, embedOpt){\n",
       "    let outputDiv = document.currentScript.previousElementSibling;\n",
       "    if (outputDiv.id !== \"altair-viz-562c9003765e486db32dad6f9b5d0bcf\") {\n",
       "      outputDiv = document.getElementById(\"altair-viz-562c9003765e486db32dad6f9b5d0bcf\");\n",
       "    }\n",
       "\n",
       "    const paths = {\n",
       "      \"vega\": \"https://cdn.jsdelivr.net/npm/vega@5?noext\",\n",
       "      \"vega-lib\": \"https://cdn.jsdelivr.net/npm/vega-lib?noext\",\n",
       "      \"vega-lite\": \"https://cdn.jsdelivr.net/npm/vega-lite@5.20.1?noext\",\n",
       "      \"vega-embed\": \"https://cdn.jsdelivr.net/npm/vega-embed@6?noext\",\n",
       "    };\n",
       "\n",
       "    function maybeLoadScript(lib, version) {\n",
       "      var key = `${lib.replace(\"-\", \"\")}_version`;\n",
       "      return (VEGA_DEBUG[key] == version) ?\n",
       "        Promise.resolve(paths[lib]) :\n",
       "        new Promise(function(resolve, reject) {\n",
       "          var s = document.createElement('script');\n",
       "          document.getElementsByTagName(\"head\")[0].appendChild(s);\n",
       "          s.async = true;\n",
       "          s.onload = () => {\n",
       "            VEGA_DEBUG[key] = version;\n",
       "            return resolve(paths[lib]);\n",
       "          };\n",
       "          s.onerror = () => reject(`Error loading script: ${paths[lib]}`);\n",
       "          s.src = paths[lib];\n",
       "        });\n",
       "    }\n",
       "\n",
       "    function showError(err) {\n",
       "      outputDiv.innerHTML = `<div class=\"error\" style=\"color:red;\">${err}</div>`;\n",
       "      throw err;\n",
       "    }\n",
       "\n",
       "    function displayChart(vegaEmbed) {\n",
       "      vegaEmbed(outputDiv, spec, embedOpt)\n",
       "        .catch(err => showError(`Javascript Error: ${err.message}<br>This usually means there's a typo in your chart specification. See the javascript console for the full traceback.`));\n",
       "    }\n",
       "\n",
       "    if(typeof define === \"function\" && define.amd) {\n",
       "      requirejs.config({paths});\n",
       "      let deps = [\"vega-embed\"];\n",
       "      require(deps, displayChart, err => showError(`Error loading script: ${err.message}`));\n",
       "    } else {\n",
       "      maybeLoadScript(\"vega\", \"5\")\n",
       "        .then(() => maybeLoadScript(\"vega-lite\", \"5.20.1\"))\n",
       "        .then(() => maybeLoadScript(\"vega-embed\", \"6\"))\n",
       "        .catch(showError)\n",
       "        .then(() => displayChart(vegaEmbed));\n",
       "    }\n",
       "  })({\"config\": {\"view\": {\"continuousWidth\": 300, \"continuousHeight\": 300}}, \"data\": {\"name\": \"data-cf5907fd322ce9a51827c6a6296524e8\"}, \"mark\": {\"type\": \"point\"}, \"encoding\": {\"x\": {\"field\": \"x\", \"type\": \"quantitative\"}, \"y\": {\"field\": \"y\", \"type\": \"quantitative\"}}, \"$schema\": \"https://vega.github.io/schema/vega-lite/v5.20.1.json\", \"datasets\": {\"data-cf5907fd322ce9a51827c6a6296524e8\": [{\"x\": 7.736316913475011, \"y\": 43.3168742947318}, {\"x\": 1.6267404302373056, \"y\": 9.386559083185903}, {\"x\": 1.0639566035249348, \"y\": 9.847642853916557}, {\"x\": 1.5912660083422714, \"y\": 10.824646549391453}, {\"x\": 8.497817556146668, \"y\": 43.60995686969762}, {\"x\": 5.354792656149284, \"y\": 27.507698537577646}, {\"x\": 2.5142996782090044, \"y\": 12.892007557180662}, {\"x\": 8.37616044266888, \"y\": 42.75041419371287}, {\"x\": 5.857362322884992, \"y\": 29.336153082853553}, {\"x\": 3.9825606563797655, \"y\": 21.59446096394429}, {\"x\": 0.7552799856706349, \"y\": 5.086999402240718}, {\"x\": 2.0968769677977495, \"y\": 12.215515781759189}, {\"x\": 7.616972957464121, \"y\": 40.65955941151068}, {\"x\": 1.7476096341591874, \"y\": 12.567364608177154}, {\"x\": 4.237388371162597, \"y\": 22.901052826390575}, {\"x\": 7.151053228426636, \"y\": 38.244341817601764}, {\"x\": 3.361313682070218, \"y\": 19.74861146104617}, {\"x\": 1.4044278010916789, \"y\": 10.918797043953887}, {\"x\": 9.855271583136982, \"y\": 52.99933001443954}, {\"x\": 1.0876310530264743, \"y\": 10.849076882137698}, {\"x\": 8.563341057834444, \"y\": 46.644280200685174}, {\"x\": 7.239561487715072, \"y\": 37.40567277547325}, {\"x\": 8.585335267633203, \"y\": 43.92270125046881}, {\"x\": 0.9396556437912151, \"y\": 7.0453523603532195}, {\"x\": 3.3493110165397857, \"y\": 19.918286414308895}, {\"x\": 8.105721768159782, \"y\": 43.171252796964026}, {\"x\": 8.253843301247482, \"y\": 39.85610873499356}, {\"x\": 5.247214964506005, \"y\": 28.290987214102145}, {\"x\": 7.020879511283685, \"y\": 37.86539740556744}, {\"x\": 7.915211889652646, \"y\": 37.71076397576239}, {\"x\": 3.5122205944252194, \"y\": 19.782476878539015}, {\"x\": 3.0152891977937935, \"y\": 14.303438822961695}, {\"x\": 8.371912354367808, \"y\": 47.30629938098423}, {\"x\": 1.7758553326127824, \"y\": 12.653563064068045}, {\"x\": 7.189805233469101, \"y\": 38.22793844695777}, {\"x\": 2.578963766242295, \"y\": 15.272276556355704}, {\"x\": 8.360029263214049, \"y\": 44.97093451346563}, {\"x\": 3.3531561878647373, \"y\": 17.117333251254514}, {\"x\": 5.304510834653891, \"y\": 27.393389488554526}, {\"x\": 1.07424042849934, \"y\": 10.813553101890525}, {\"x\": 7.002950908276309, \"y\": 34.9990682420654}, {\"x\": 4.6280310152618895, \"y\": 26.162820446906753}, {\"x\": 3.157895784331799, \"y\": 16.10683277632959}, {\"x\": 3.7179250767840664, \"y\": 20.845541497889673}, {\"x\": 4.460495210017516, \"y\": 25.14436752135181}, {\"x\": 8.363323443315906, \"y\": 43.271970313602296}, {\"x\": 3.269015121844412, \"y\": 17.370483894876156}, {\"x\": 3.909337169212309, \"y\": 23.55243928095483}, {\"x\": 6.300671919005698, \"y\": 35.37533796227251}, {\"x\": 8.57045773908809, \"y\": 45.91983594719314}, {\"x\": 6.4180490615808905, \"y\": 32.11455015357824}, {\"x\": 8.331588424546386, \"y\": 45.40529498002561}, {\"x\": 6.929822082745792, \"y\": 35.3156786978502}, {\"x\": 5.039188727345046, \"y\": 25.99105147109575}, {\"x\": 3.2880269860949607, \"y\": 19.374452629970637}, {\"x\": 1.3652365168394376, \"y\": 9.080692660009786}, {\"x\": 3.1768073456914268, \"y\": 18.618512011272674}, {\"x\": 6.061455286296395, \"y\": 30.085672945996016}, {\"x\": 4.788750822980634, \"y\": 19.091271540058983}, {\"x\": 3.1324494790344404, \"y\": 18.392068144219415}, {\"x\": 5.663143834536611, \"y\": 32.02599443934918}, {\"x\": 1.1914251440348345, \"y\": 11.394015259300765}, {\"x\": 6.779935337353454, \"y\": 36.29001752743148}, {\"x\": 1.644292384754954, \"y\": 12.110520852996487}, {\"x\": 1.7509605547735818, \"y\": 10.488645062254749}, {\"x\": 2.7417442030149353, \"y\": 17.43374803845355}, {\"x\": 8.12138622363732, \"y\": 43.326569181369216}, {\"x\": 5.76264958680261, \"y\": 34.960852274698205}, {\"x\": 5.567446339455687, \"y\": 28.878721769840812}, {\"x\": 5.191847248673573, \"y\": 26.066557354772776}, {\"x\": 9.110744358779142, \"y\": 48.82724969359788}, {\"x\": 1.2895197494983546, \"y\": 7.500137316314693}, {\"x\": 0.9217184448187088, \"y\": 8.416161309534614}, {\"x\": 5.505305875027214, \"y\": 29.956462058066773}, {\"x\": 5.704765505708654, \"y\": 33.509003592714386}, {\"x\": 1.3622194577834323, \"y\": 7.542758413106348}, {\"x\": 9.685940144169233, \"y\": 50.42935562685241}, {\"x\": 0.15834717143266563, \"y\": 2.676913600325001}, {\"x\": 1.4974597273380519, \"y\": 9.551519577767012}, {\"x\": 0.6008971420156994, \"y\": 3.476616087158744}, {\"x\": 6.8022695637330886, \"y\": 35.24687959013604}, {\"x\": 7.905991928183058, \"y\": 41.89436192318589}, {\"x\": 8.175850865887877, \"y\": 42.63881942182641}, {\"x\": 1.335942469568464, \"y\": 10.856140092328673}, {\"x\": 7.283258074656013, \"y\": 38.93943325194807}, {\"x\": 6.56790040595594, \"y\": 33.6071276869062}, {\"x\": 7.653756880231972, \"y\": 39.38780476217555}, {\"x\": 1.699652416502313, \"y\": 8.805010898234967}, {\"x\": 5.684360237392594, \"y\": 30.558957299238017}, {\"x\": 0.6264397047029668, \"y\": 5.4898031463528225}, {\"x\": 1.9654243294014517, \"y\": 13.705398635156197}, {\"x\": 8.926546825214402, \"y\": 47.26635654572456}, {\"x\": 8.29626469142844, \"y\": 43.884067389056234}, {\"x\": 4.492733632576812, \"y\": 23.39494912125417}, {\"x\": 3.8840975693285937, \"y\": 22.03414792315631}, {\"x\": 8.835395712707978, \"y\": 43.58864800090003}, {\"x\": 5.422926586432778, \"y\": 30.412112030007165}, {\"x\": 2.0148848962262447, \"y\": 9.662671250474833}, {\"x\": 8.810244550284654, \"y\": 46.60113346761413}, {\"x\": 8.839138032255985, \"y\": 43.633079259437366}]}}, {\"mode\": \"vega-lite\"});\n",
       "</script>"
      ],
      "text/plain": [
       "alt.Chart(...)"
      ]
     },
     "execution_count": 32,
     "metadata": {},
     "output_type": "execute_result"
    }
   ],
   "source": [
    "ex1b_n = 100\n",
    " \n",
    "# Sorteio de x ~ U(0, 10)\n",
    "ex1b_x = np.random.uniform(0, 10, ex1b_n)\n",
    "\n",
    "# Erro aleatório ~ N(0, 2)\n",
    "ex1b_erro = np.random.normal(0, 2, ex1b_n)\n",
    "\n",
    "# Geração do y com ruído\n",
    "ex1b_y = 5 * ex1b_x + 2 + ex1b_erro\n",
    "\n",
    "# Dataframe dos dados gerados\n",
    "ex1b_df = pd.DataFrame({\"x\": ex1b_x, \"y\": ex1b_y})\n",
    "\n",
    "# Gráfico dos pontos gerados\n",
    "ex1b_pontos = alt.Chart(ex1b_df).mark_point().encode(\n",
    "    x=\"x\",\n",
    "    y=\"y\"\n",
    ")\n",
    "\n",
    "ex1b_pontos"
   ]
  },
  {
   "cell_type": "code",
   "execution_count": 33,
   "id": "4a24040c",
   "metadata": {},
   "outputs": [
    {
     "name": "stdout",
     "output_type": "stream",
     "text": [
      "Status: Optimal\n"
     ]
    },
    {
     "data": {
      "text/html": [
       "\n",
       "<style>\n",
       "  #altair-viz-500bd8e56383405b943d53be4a871047.vega-embed {\n",
       "    width: 100%;\n",
       "    display: flex;\n",
       "  }\n",
       "\n",
       "  #altair-viz-500bd8e56383405b943d53be4a871047.vega-embed details,\n",
       "  #altair-viz-500bd8e56383405b943d53be4a871047.vega-embed details summary {\n",
       "    position: relative;\n",
       "  }\n",
       "</style>\n",
       "<div id=\"altair-viz-500bd8e56383405b943d53be4a871047\"></div>\n",
       "<script type=\"text/javascript\">\n",
       "  var VEGA_DEBUG = (typeof VEGA_DEBUG == \"undefined\") ? {} : VEGA_DEBUG;\n",
       "  (function(spec, embedOpt){\n",
       "    let outputDiv = document.currentScript.previousElementSibling;\n",
       "    if (outputDiv.id !== \"altair-viz-500bd8e56383405b943d53be4a871047\") {\n",
       "      outputDiv = document.getElementById(\"altair-viz-500bd8e56383405b943d53be4a871047\");\n",
       "    }\n",
       "\n",
       "    const paths = {\n",
       "      \"vega\": \"https://cdn.jsdelivr.net/npm/vega@5?noext\",\n",
       "      \"vega-lib\": \"https://cdn.jsdelivr.net/npm/vega-lib?noext\",\n",
       "      \"vega-lite\": \"https://cdn.jsdelivr.net/npm/vega-lite@5.20.1?noext\",\n",
       "      \"vega-embed\": \"https://cdn.jsdelivr.net/npm/vega-embed@6?noext\",\n",
       "    };\n",
       "\n",
       "    function maybeLoadScript(lib, version) {\n",
       "      var key = `${lib.replace(\"-\", \"\")}_version`;\n",
       "      return (VEGA_DEBUG[key] == version) ?\n",
       "        Promise.resolve(paths[lib]) :\n",
       "        new Promise(function(resolve, reject) {\n",
       "          var s = document.createElement('script');\n",
       "          document.getElementsByTagName(\"head\")[0].appendChild(s);\n",
       "          s.async = true;\n",
       "          s.onload = () => {\n",
       "            VEGA_DEBUG[key] = version;\n",
       "            return resolve(paths[lib]);\n",
       "          };\n",
       "          s.onerror = () => reject(`Error loading script: ${paths[lib]}`);\n",
       "          s.src = paths[lib];\n",
       "        });\n",
       "    }\n",
       "\n",
       "    function showError(err) {\n",
       "      outputDiv.innerHTML = `<div class=\"error\" style=\"color:red;\">${err}</div>`;\n",
       "      throw err;\n",
       "    }\n",
       "\n",
       "    function displayChart(vegaEmbed) {\n",
       "      vegaEmbed(outputDiv, spec, embedOpt)\n",
       "        .catch(err => showError(`Javascript Error: ${err.message}<br>This usually means there's a typo in your chart specification. See the javascript console for the full traceback.`));\n",
       "    }\n",
       "\n",
       "    if(typeof define === \"function\" && define.amd) {\n",
       "      requirejs.config({paths});\n",
       "      let deps = [\"vega-embed\"];\n",
       "      require(deps, displayChart, err => showError(`Error loading script: ${err.message}`));\n",
       "    } else {\n",
       "      maybeLoadScript(\"vega\", \"5\")\n",
       "        .then(() => maybeLoadScript(\"vega-lite\", \"5.20.1\"))\n",
       "        .then(() => maybeLoadScript(\"vega-embed\", \"6\"))\n",
       "        .catch(showError)\n",
       "        .then(() => displayChart(vegaEmbed));\n",
       "    }\n",
       "  })({\"config\": {\"view\": {\"continuousWidth\": 300, \"continuousHeight\": 300}}, \"layer\": [{\"data\": {\"name\": \"data-ca084290c50219fbdf2595dd48a840ff\"}, \"mark\": {\"type\": \"line\", \"color\": \"red\"}, \"encoding\": {\"x\": {\"field\": \"x\", \"type\": \"quantitative\"}, \"y\": {\"field\": \"y\", \"type\": \"quantitative\"}}}, {\"data\": {\"name\": \"data-cf5907fd322ce9a51827c6a6296524e8\"}, \"mark\": {\"type\": \"point\"}, \"encoding\": {\"x\": {\"field\": \"x\", \"type\": \"quantitative\"}, \"y\": {\"field\": \"y\", \"type\": \"quantitative\"}}}], \"$schema\": \"https://vega.github.io/schema/vega-lite/v5.20.1.json\", \"datasets\": {\"data-ca084290c50219fbdf2595dd48a840ff\": [{\"x\": 0.0, \"y\": 2.3573217}, {\"x\": 0.10101010101010101, \"y\": 2.861270629292929}, {\"x\": 0.20202020202020202, \"y\": 3.365219558585858}, {\"x\": 0.30303030303030304, \"y\": 3.8691684878787878}, {\"x\": 0.40404040404040403, \"y\": 4.373117417171716}, {\"x\": 0.5050505050505051, \"y\": 4.877066346464646}, {\"x\": 0.6060606060606061, \"y\": 5.3810152757575755}, {\"x\": 0.7070707070707071, \"y\": 5.884964205050505}, {\"x\": 0.8080808080808081, \"y\": 6.388913134343434}, {\"x\": 0.9090909090909091, \"y\": 6.892862063636364}, {\"x\": 1.0101010101010102, \"y\": 7.396810992929293}, {\"x\": 1.1111111111111112, \"y\": 7.900759922222222}, {\"x\": 1.2121212121212122, \"y\": 8.404708851515151}, {\"x\": 1.3131313131313131, \"y\": 8.908657780808081}, {\"x\": 1.4141414141414141, \"y\": 9.41260671010101}, {\"x\": 1.5151515151515151, \"y\": 9.91655563939394}, {\"x\": 1.6161616161616161, \"y\": 10.420504568686868}, {\"x\": 1.7171717171717171, \"y\": 10.924453497979798}, {\"x\": 1.8181818181818181, \"y\": 11.428402427272728}, {\"x\": 1.9191919191919191, \"y\": 11.932351356565656}, {\"x\": 2.0202020202020203, \"y\": 12.436300285858586}, {\"x\": 2.121212121212121, \"y\": 12.940249215151514}, {\"x\": 2.2222222222222223, \"y\": 13.444198144444444}, {\"x\": 2.323232323232323, \"y\": 13.948147073737372}, {\"x\": 2.4242424242424243, \"y\": 14.452096003030302}, {\"x\": 2.525252525252525, \"y\": 14.95604493232323}, {\"x\": 2.6262626262626263, \"y\": 15.459993861616162}, {\"x\": 2.727272727272727, \"y\": 15.96394279090909}, {\"x\": 2.8282828282828283, \"y\": 16.46789172020202}, {\"x\": 2.929292929292929, \"y\": 16.97184064949495}, {\"x\": 3.0303030303030303, \"y\": 17.47578957878788}, {\"x\": 3.131313131313131, \"y\": 17.979738508080807}, {\"x\": 3.2323232323232323, \"y\": 18.483687437373735}, {\"x\": 3.3333333333333335, \"y\": 18.987636366666667}, {\"x\": 3.4343434343434343, \"y\": 19.491585295959595}, {\"x\": 3.5353535353535355, \"y\": 19.995534225252527}, {\"x\": 3.6363636363636362, \"y\": 20.499483154545455}, {\"x\": 3.7373737373737375, \"y\": 21.003432083838383}, {\"x\": 3.8383838383838382, \"y\": 21.50738101313131}, {\"x\": 3.9393939393939394, \"y\": 22.011329942424243}, {\"x\": 4.040404040404041, \"y\": 22.51527887171717}, {\"x\": 4.141414141414141, \"y\": 23.0192278010101}, {\"x\": 4.242424242424242, \"y\": 23.523176730303028}, {\"x\": 4.343434343434343, \"y\": 24.02712565959596}, {\"x\": 4.444444444444445, \"y\": 24.531074588888888}, {\"x\": 4.545454545454545, \"y\": 25.035023518181816}, {\"x\": 4.646464646464646, \"y\": 25.538972447474745}, {\"x\": 4.747474747474747, \"y\": 26.042921376767676}, {\"x\": 4.848484848484849, \"y\": 26.546870306060605}, {\"x\": 4.94949494949495, \"y\": 27.050819235353536}, {\"x\": 5.05050505050505, \"y\": 27.55476816464646}, {\"x\": 5.151515151515151, \"y\": 28.058717093939393}, {\"x\": 5.252525252525253, \"y\": 28.562666023232325}, {\"x\": 5.353535353535354, \"y\": 29.066614952525253}, {\"x\": 5.454545454545454, \"y\": 29.57056388181818}, {\"x\": 5.555555555555555, \"y\": 30.07451281111111}, {\"x\": 5.656565656565657, \"y\": 30.57846174040404}, {\"x\": 5.757575757575758, \"y\": 31.08241066969697}, {\"x\": 5.858585858585858, \"y\": 31.586359598989898}, {\"x\": 5.959595959595959, \"y\": 32.090308528282826}, {\"x\": 6.0606060606060606, \"y\": 32.59425745757576}, {\"x\": 6.161616161616162, \"y\": 33.09820638686868}, {\"x\": 6.262626262626262, \"y\": 33.602155316161614}, {\"x\": 6.363636363636363, \"y\": 34.106104245454546}, {\"x\": 6.4646464646464645, \"y\": 34.61005317474747}, {\"x\": 6.565656565656566, \"y\": 35.1140021040404}, {\"x\": 6.666666666666667, \"y\": 35.617951033333334}, {\"x\": 6.767676767676767, \"y\": 36.12189996262626}, {\"x\": 6.8686868686868685, \"y\": 36.62584889191919}, {\"x\": 6.96969696969697, \"y\": 37.12979782121212}, {\"x\": 7.070707070707071, \"y\": 37.633746750505054}, {\"x\": 7.171717171717171, \"y\": 38.13769567979798}, {\"x\": 7.2727272727272725, \"y\": 38.64164460909091}, {\"x\": 7.373737373737374, \"y\": 39.145593538383835}, {\"x\": 7.474747474747475, \"y\": 39.64954246767677}, {\"x\": 7.575757575757575, \"y\": 40.15349139696969}, {\"x\": 7.6767676767676765, \"y\": 40.65744032626262}, {\"x\": 7.777777777777778, \"y\": 41.161389255555555}, {\"x\": 7.878787878787879, \"y\": 41.66533818484849}, {\"x\": 7.979797979797979, \"y\": 42.16928711414141}, {\"x\": 8.080808080808081, \"y\": 42.67323604343434}, {\"x\": 8.181818181818182, \"y\": 43.17718497272727}, {\"x\": 8.282828282828282, \"y\": 43.6811339020202}, {\"x\": 8.383838383838384, \"y\": 44.18508283131313}, {\"x\": 8.484848484848484, \"y\": 44.689031760606056}, {\"x\": 8.585858585858587, \"y\": 45.192980689898995}, {\"x\": 8.686868686868687, \"y\": 45.69692961919192}, {\"x\": 8.787878787878787, \"y\": 46.200878548484845}, {\"x\": 8.88888888888889, \"y\": 46.704827477777776}, {\"x\": 8.98989898989899, \"y\": 47.20877640707071}, {\"x\": 9.09090909090909, \"y\": 47.71272533636363}, {\"x\": 9.191919191919192, \"y\": 48.216674265656565}, {\"x\": 9.292929292929292, \"y\": 48.72062319494949}, {\"x\": 9.393939393939394, \"y\": 49.22457212424243}, {\"x\": 9.494949494949495, \"y\": 49.72852105353535}, {\"x\": 9.595959595959595, \"y\": 50.23246998282828}, {\"x\": 9.696969696969697, \"y\": 50.73641891212121}, {\"x\": 9.797979797979798, \"y\": 51.24036784141414}, {\"x\": 9.8989898989899, \"y\": 51.74431677070707}, {\"x\": 10.0, \"y\": 52.2482657}], \"data-cf5907fd322ce9a51827c6a6296524e8\": [{\"x\": 7.736316913475011, \"y\": 43.3168742947318}, {\"x\": 1.6267404302373056, \"y\": 9.386559083185903}, {\"x\": 1.0639566035249348, \"y\": 9.847642853916557}, {\"x\": 1.5912660083422714, \"y\": 10.824646549391453}, {\"x\": 8.497817556146668, \"y\": 43.60995686969762}, {\"x\": 5.354792656149284, \"y\": 27.507698537577646}, {\"x\": 2.5142996782090044, \"y\": 12.892007557180662}, {\"x\": 8.37616044266888, \"y\": 42.75041419371287}, {\"x\": 5.857362322884992, \"y\": 29.336153082853553}, {\"x\": 3.9825606563797655, \"y\": 21.59446096394429}, {\"x\": 0.7552799856706349, \"y\": 5.086999402240718}, {\"x\": 2.0968769677977495, \"y\": 12.215515781759189}, {\"x\": 7.616972957464121, \"y\": 40.65955941151068}, {\"x\": 1.7476096341591874, \"y\": 12.567364608177154}, {\"x\": 4.237388371162597, \"y\": 22.901052826390575}, {\"x\": 7.151053228426636, \"y\": 38.244341817601764}, {\"x\": 3.361313682070218, \"y\": 19.74861146104617}, {\"x\": 1.4044278010916789, \"y\": 10.918797043953887}, {\"x\": 9.855271583136982, \"y\": 52.99933001443954}, {\"x\": 1.0876310530264743, \"y\": 10.849076882137698}, {\"x\": 8.563341057834444, \"y\": 46.644280200685174}, {\"x\": 7.239561487715072, \"y\": 37.40567277547325}, {\"x\": 8.585335267633203, \"y\": 43.92270125046881}, {\"x\": 0.9396556437912151, \"y\": 7.0453523603532195}, {\"x\": 3.3493110165397857, \"y\": 19.918286414308895}, {\"x\": 8.105721768159782, \"y\": 43.171252796964026}, {\"x\": 8.253843301247482, \"y\": 39.85610873499356}, {\"x\": 5.247214964506005, \"y\": 28.290987214102145}, {\"x\": 7.020879511283685, \"y\": 37.86539740556744}, {\"x\": 7.915211889652646, \"y\": 37.71076397576239}, {\"x\": 3.5122205944252194, \"y\": 19.782476878539015}, {\"x\": 3.0152891977937935, \"y\": 14.303438822961695}, {\"x\": 8.371912354367808, \"y\": 47.30629938098423}, {\"x\": 1.7758553326127824, \"y\": 12.653563064068045}, {\"x\": 7.189805233469101, \"y\": 38.22793844695777}, {\"x\": 2.578963766242295, \"y\": 15.272276556355704}, {\"x\": 8.360029263214049, \"y\": 44.97093451346563}, {\"x\": 3.3531561878647373, \"y\": 17.117333251254514}, {\"x\": 5.304510834653891, \"y\": 27.393389488554526}, {\"x\": 1.07424042849934, \"y\": 10.813553101890525}, {\"x\": 7.002950908276309, \"y\": 34.9990682420654}, {\"x\": 4.6280310152618895, \"y\": 26.162820446906753}, {\"x\": 3.157895784331799, \"y\": 16.10683277632959}, {\"x\": 3.7179250767840664, \"y\": 20.845541497889673}, {\"x\": 4.460495210017516, \"y\": 25.14436752135181}, {\"x\": 8.363323443315906, \"y\": 43.271970313602296}, {\"x\": 3.269015121844412, \"y\": 17.370483894876156}, {\"x\": 3.909337169212309, \"y\": 23.55243928095483}, {\"x\": 6.300671919005698, \"y\": 35.37533796227251}, {\"x\": 8.57045773908809, \"y\": 45.91983594719314}, {\"x\": 6.4180490615808905, \"y\": 32.11455015357824}, {\"x\": 8.331588424546386, \"y\": 45.40529498002561}, {\"x\": 6.929822082745792, \"y\": 35.3156786978502}, {\"x\": 5.039188727345046, \"y\": 25.99105147109575}, {\"x\": 3.2880269860949607, \"y\": 19.374452629970637}, {\"x\": 1.3652365168394376, \"y\": 9.080692660009786}, {\"x\": 3.1768073456914268, \"y\": 18.618512011272674}, {\"x\": 6.061455286296395, \"y\": 30.085672945996016}, {\"x\": 4.788750822980634, \"y\": 19.091271540058983}, {\"x\": 3.1324494790344404, \"y\": 18.392068144219415}, {\"x\": 5.663143834536611, \"y\": 32.02599443934918}, {\"x\": 1.1914251440348345, \"y\": 11.394015259300765}, {\"x\": 6.779935337353454, \"y\": 36.29001752743148}, {\"x\": 1.644292384754954, \"y\": 12.110520852996487}, {\"x\": 1.7509605547735818, \"y\": 10.488645062254749}, {\"x\": 2.7417442030149353, \"y\": 17.43374803845355}, {\"x\": 8.12138622363732, \"y\": 43.326569181369216}, {\"x\": 5.76264958680261, \"y\": 34.960852274698205}, {\"x\": 5.567446339455687, \"y\": 28.878721769840812}, {\"x\": 5.191847248673573, \"y\": 26.066557354772776}, {\"x\": 9.110744358779142, \"y\": 48.82724969359788}, {\"x\": 1.2895197494983546, \"y\": 7.500137316314693}, {\"x\": 0.9217184448187088, \"y\": 8.416161309534614}, {\"x\": 5.505305875027214, \"y\": 29.956462058066773}, {\"x\": 5.704765505708654, \"y\": 33.509003592714386}, {\"x\": 1.3622194577834323, \"y\": 7.542758413106348}, {\"x\": 9.685940144169233, \"y\": 50.42935562685241}, {\"x\": 0.15834717143266563, \"y\": 2.676913600325001}, {\"x\": 1.4974597273380519, \"y\": 9.551519577767012}, {\"x\": 0.6008971420156994, \"y\": 3.476616087158744}, {\"x\": 6.8022695637330886, \"y\": 35.24687959013604}, {\"x\": 7.905991928183058, \"y\": 41.89436192318589}, {\"x\": 8.175850865887877, \"y\": 42.63881942182641}, {\"x\": 1.335942469568464, \"y\": 10.856140092328673}, {\"x\": 7.283258074656013, \"y\": 38.93943325194807}, {\"x\": 6.56790040595594, \"y\": 33.6071276869062}, {\"x\": 7.653756880231972, \"y\": 39.38780476217555}, {\"x\": 1.699652416502313, \"y\": 8.805010898234967}, {\"x\": 5.684360237392594, \"y\": 30.558957299238017}, {\"x\": 0.6264397047029668, \"y\": 5.4898031463528225}, {\"x\": 1.9654243294014517, \"y\": 13.705398635156197}, {\"x\": 8.926546825214402, \"y\": 47.26635654572456}, {\"x\": 8.29626469142844, \"y\": 43.884067389056234}, {\"x\": 4.492733632576812, \"y\": 23.39494912125417}, {\"x\": 3.8840975693285937, \"y\": 22.03414792315631}, {\"x\": 8.835395712707978, \"y\": 43.58864800090003}, {\"x\": 5.422926586432778, \"y\": 30.412112030007165}, {\"x\": 2.0148848962262447, \"y\": 9.662671250474833}, {\"x\": 8.810244550284654, \"y\": 46.60113346761413}, {\"x\": 8.839138032255985, \"y\": 43.633079259437366}]}}, {\"mode\": \"vega-lite\"});\n",
       "</script>"
      ],
      "text/plain": [
       "alt.LayerChart(...)"
      ]
     },
     "execution_count": 33,
     "metadata": {},
     "output_type": "execute_result"
    }
   ],
   "source": [
    "ex1b_a0, ex1b_a1 = linear_regression_absolute_residual_sum(ex1b_x, ex1b_y)\n",
    "\n",
    "ex1b_x_reta = np.linspace(0, 10, 100) \n",
    "ex1b_y_reta = ex1b_a1 * ex1b_x_reta + ex1b_a0\n",
    "\n",
    "ex1b_df_reta = pd.DataFrame({\"x\": ex1b_x_reta, \"y\": ex1b_y_reta})\n",
    "\n",
    "ex1b_reta = alt.Chart(ex1b_df_reta).mark_line(color=\"red\").encode(\n",
    "    x=\"x\",\n",
    "    y=\"y\"\n",
    ")\n",
    "\n",
    "ex1b_reta + ex1b_pontos"
   ]
  },
  {
   "cell_type": "markdown",
   "id": "da842a58",
   "metadata": {},
   "source": [
    "### Item (c)"
   ]
  },
  {
   "cell_type": "code",
   "execution_count": 34,
   "id": "9f731e50",
   "metadata": {},
   "outputs": [],
   "source": [
    "def poly_approximation(x, y):\n",
    "    # Criação do problema\n",
    "    lp = pl.LpProblem(\"Polynomial_Approximation\", pl.LpMinimize)\n",
    "\n",
    "    n = len(x)\n",
    "    \n",
    "    # Variáveis de decisão (coeficientes da aproximação)\n",
    "    a0 = pl.LpVariable(\"a0\")\n",
    "    a1 = pl.LpVariable(\"a1\")\n",
    "    a2 = pl.LpVariable(\"a2\")\n",
    "    a3 = pl.LpVariable(\"a3\")\n",
    "    z = pl.LpVariable.dicts(\"z\", range(n))\n",
    "\n",
    "    # Função objetivo\n",
    "    lp += pl.lpSum(z), \"Absolute_Residual_Sum\"\n",
    "\n",
    "    # Restrições\n",
    "    for i in range(n):\n",
    "        lp += z[i] - ((a3 * x[i]**3) + (a2 * x[i]**2) + (a1 * x[i]) + a0) + y[i] >= 0\n",
    "        lp += z[i] + ((a3 * x[i]**3) + (a2 * x[i]**2) + (a1 * x[i]) + a0) - y[i] >= 0\n",
    "\n",
    "    # Resolver\n",
    "    lp.solve(pl.PULP_CBC_CMD(msg=0))\n",
    "\n",
    "    # Solução\n",
    "    print(\"Status:\", pl.LpStatus[lp.status])\n",
    "    return lp.variables()[0].varValue, lp.variables()[1].varValue, lp.variables()[2].varValue, lp.variables()[3].varValue"
   ]
  },
  {
   "cell_type": "code",
   "execution_count": 35,
   "id": "cd2da4a9",
   "metadata": {},
   "outputs": [
    {
     "data": {
      "text/html": [
       "\n",
       "<style>\n",
       "  #altair-viz-48dbe082aeca4fc189df908f2e86e5e5.vega-embed {\n",
       "    width: 100%;\n",
       "    display: flex;\n",
       "  }\n",
       "\n",
       "  #altair-viz-48dbe082aeca4fc189df908f2e86e5e5.vega-embed details,\n",
       "  #altair-viz-48dbe082aeca4fc189df908f2e86e5e5.vega-embed details summary {\n",
       "    position: relative;\n",
       "  }\n",
       "</style>\n",
       "<div id=\"altair-viz-48dbe082aeca4fc189df908f2e86e5e5\"></div>\n",
       "<script type=\"text/javascript\">\n",
       "  var VEGA_DEBUG = (typeof VEGA_DEBUG == \"undefined\") ? {} : VEGA_DEBUG;\n",
       "  (function(spec, embedOpt){\n",
       "    let outputDiv = document.currentScript.previousElementSibling;\n",
       "    if (outputDiv.id !== \"altair-viz-48dbe082aeca4fc189df908f2e86e5e5\") {\n",
       "      outputDiv = document.getElementById(\"altair-viz-48dbe082aeca4fc189df908f2e86e5e5\");\n",
       "    }\n",
       "\n",
       "    const paths = {\n",
       "      \"vega\": \"https://cdn.jsdelivr.net/npm/vega@5?noext\",\n",
       "      \"vega-lib\": \"https://cdn.jsdelivr.net/npm/vega-lib?noext\",\n",
       "      \"vega-lite\": \"https://cdn.jsdelivr.net/npm/vega-lite@5.20.1?noext\",\n",
       "      \"vega-embed\": \"https://cdn.jsdelivr.net/npm/vega-embed@6?noext\",\n",
       "    };\n",
       "\n",
       "    function maybeLoadScript(lib, version) {\n",
       "      var key = `${lib.replace(\"-\", \"\")}_version`;\n",
       "      return (VEGA_DEBUG[key] == version) ?\n",
       "        Promise.resolve(paths[lib]) :\n",
       "        new Promise(function(resolve, reject) {\n",
       "          var s = document.createElement('script');\n",
       "          document.getElementsByTagName(\"head\")[0].appendChild(s);\n",
       "          s.async = true;\n",
       "          s.onload = () => {\n",
       "            VEGA_DEBUG[key] = version;\n",
       "            return resolve(paths[lib]);\n",
       "          };\n",
       "          s.onerror = () => reject(`Error loading script: ${paths[lib]}`);\n",
       "          s.src = paths[lib];\n",
       "        });\n",
       "    }\n",
       "\n",
       "    function showError(err) {\n",
       "      outputDiv.innerHTML = `<div class=\"error\" style=\"color:red;\">${err}</div>`;\n",
       "      throw err;\n",
       "    }\n",
       "\n",
       "    function displayChart(vegaEmbed) {\n",
       "      vegaEmbed(outputDiv, spec, embedOpt)\n",
       "        .catch(err => showError(`Javascript Error: ${err.message}<br>This usually means there's a typo in your chart specification. See the javascript console for the full traceback.`));\n",
       "    }\n",
       "\n",
       "    if(typeof define === \"function\" && define.amd) {\n",
       "      requirejs.config({paths});\n",
       "      let deps = [\"vega-embed\"];\n",
       "      require(deps, displayChart, err => showError(`Error loading script: ${err.message}`));\n",
       "    } else {\n",
       "      maybeLoadScript(\"vega\", \"5\")\n",
       "        .then(() => maybeLoadScript(\"vega-lite\", \"5.20.1\"))\n",
       "        .then(() => maybeLoadScript(\"vega-embed\", \"6\"))\n",
       "        .catch(showError)\n",
       "        .then(() => displayChart(vegaEmbed));\n",
       "    }\n",
       "  })({\"config\": {\"view\": {\"continuousWidth\": 300, \"continuousHeight\": 300}}, \"data\": {\"name\": \"data-793b815267704bbd614d7b483c8fa5e0\"}, \"mark\": {\"type\": \"point\"}, \"encoding\": {\"x\": {\"field\": \"x\", \"type\": \"quantitative\"}, \"y\": {\"field\": \"y\", \"type\": \"quantitative\"}}, \"$schema\": \"https://vega.github.io/schema/vega-lite/v5.20.1.json\", \"datasets\": {\"data-793b815267704bbd614d7b483c8fa5e0\": [{\"x\": 7.4658608527821375, \"y\": 234.0030386492886}, {\"x\": 8.42144739950733, \"y\": 351.5269486841774}, {\"x\": 8.343535238219694, \"y\": 347.0202949268039}, {\"x\": 9.701612112873681, \"y\": 555.3723247632198}, {\"x\": 0.3309714166943334, \"y\": -8.030903982137714}, {\"x\": 7.378281128382214, \"y\": 237.80164503537006}, {\"x\": 9.904088995440372, \"y\": 594.0514484275345}, {\"x\": 1.4374983380548334, \"y\": -8.923500859113544}, {\"x\": 1.639511556079536, \"y\": -5.173589492912516}, {\"x\": 1.2493532883918024, \"y\": -2.820006888211161}, {\"x\": 9.153985550857557, \"y\": 476.12974008704583}, {\"x\": 4.693077384850904, \"y\": 46.81958802932822}, {\"x\": 8.551540670490178, \"y\": 371.409919199766}, {\"x\": 8.509105014769425, \"y\": 370.9695382403972}, {\"x\": 6.762100761092759, \"y\": 176.17015661282983}, {\"x\": 1.9915098827094169, \"y\": -4.081993166361466}, {\"x\": 5.347950852465382, \"y\": 76.86842737619438}, {\"x\": 5.591591309814579, \"y\": 92.98210831377426}, {\"x\": 8.839848779293614, \"y\": 416.422195633607}, {\"x\": 6.305363916306689, \"y\": 138.3738660970421}, {\"x\": 0.36210454596872776, \"y\": 1.7120440557838852}, {\"x\": 0.7608469070535429, \"y\": -0.05272247847782063}, {\"x\": 9.318269430930785, \"y\": 493.6222778157682}, {\"x\": 5.16191073152134, \"y\": 70.68698088408273}, {\"x\": 0.6946257588431781, \"y\": -5.082310310673625}, {\"x\": 0.6731252207664007, \"y\": -4.32024806005813}, {\"x\": 5.673317011822742, \"y\": 96.83355765001781}, {\"x\": 9.510511984839615, \"y\": 520.0369665128168}, {\"x\": 2.953549954033404, \"y\": 2.5646427261242724}, {\"x\": 8.098736201644572, \"y\": 316.74807653937194}, {\"x\": 6.913380774478096, \"y\": 189.00140245333196}, {\"x\": 6.88921684467925, \"y\": 183.88974874033897}, {\"x\": 8.39310486927293, \"y\": 339.7994223224982}, {\"x\": 3.1634598018515723, \"y\": 8.918234446110588}, {\"x\": 6.3345212099338895, \"y\": 134.45877773799126}, {\"x\": 7.482472489621049, \"y\": 245.69310698929277}, {\"x\": 4.6938874460003195, \"y\": 45.82991591454088}, {\"x\": 1.2357489348682638, \"y\": -11.617369782832569}, {\"x\": 3.560922733771299, \"y\": 7.762973403118271}, {\"x\": 0.3496315305745934, \"y\": -7.766909323030077}, {\"x\": 1.1489903798191292, \"y\": -4.757888775273083}, {\"x\": 3.7309949557506616, \"y\": 14.182849760885029}, {\"x\": 4.38593576122777, \"y\": 32.11688460084545}, {\"x\": 1.3246416369281255, \"y\": -7.445349552391689}, {\"x\": 6.307145632015594, \"y\": 135.83581354217498}, {\"x\": 6.492149653909034, \"y\": 156.7301792048019}, {\"x\": 9.006812872381303, \"y\": 444.00792622140995}, {\"x\": 4.848323538143562, \"y\": 50.26564063262872}, {\"x\": 0.8262548974861428, \"y\": -3.6464710669106823}, {\"x\": 7.255621083588212, \"y\": 217.86867773826995}, {\"x\": 4.5566194853264985, \"y\": 41.327429570222456}, {\"x\": 0.3861071855574616, \"y\": -2.124449232157157}, {\"x\": 9.80198263102928, \"y\": 575.5350960839469}, {\"x\": 0.7827340637586921, \"y\": -9.648122667472418}, {\"x\": 2.2447449418159104, \"y\": -8.764235276808348}, {\"x\": 1.1580501043920655, \"y\": -4.234272235133218}, {\"x\": 9.854529778100433, \"y\": 586.6838406170614}, {\"x\": 7.182478859986674, \"y\": 206.3444650271812}, {\"x\": 5.703590046525085, \"y\": 92.54824480034016}, {\"x\": 8.542776578220032, \"y\": 368.89283367061404}, {\"x\": 9.597312505184048, \"y\": 536.9080513978033}, {\"x\": 5.781601231425205, \"y\": 108.91034885197286}, {\"x\": 1.539031546950732, \"y\": -3.5550346662346315}, {\"x\": 9.594343735630208, \"y\": 531.0833079595749}, {\"x\": 1.4100927187257695, \"y\": -4.4499523897330775}, {\"x\": 0.41952445244264003, \"y\": 0.1457363446483817}, {\"x\": 6.1964415780853415, \"y\": 125.21256960358096}, {\"x\": 8.975259809752782, \"y\": 428.8793423738938}, {\"x\": 4.861565199154598, \"y\": 51.3885185877076}, {\"x\": 5.94625292498243, \"y\": 101.98593520049705}, {\"x\": 3.018549628404074, \"y\": -3.7322586837679506}, {\"x\": 3.7280972287178846, \"y\": 4.266093633883864}, {\"x\": 7.068960557038367, \"y\": 203.1161542591597}, {\"x\": 3.9107136014721244, \"y\": 23.2516229619526}, {\"x\": 9.069203063302867, \"y\": 448.2659837124575}, {\"x\": 8.811979013632834, \"y\": 416.2274758762313}, {\"x\": 1.851114509233307, \"y\": -5.070568556089276}, {\"x\": 5.438645434682865, \"y\": 86.26671424142253}, {\"x\": 6.7699619166368485, \"y\": 163.47653247478897}, {\"x\": 5.200685686142936, \"y\": 70.83984764787807}, {\"x\": 5.610287851111552, \"y\": 86.1101819155166}, {\"x\": 7.009243516904854, \"y\": 197.02221082920073}, {\"x\": 5.121616760544264, \"y\": 63.596992812684306}, {\"x\": 4.142821270759245, \"y\": 29.777880008616837}, {\"x\": 4.665546446774554, \"y\": 39.15614308334083}, {\"x\": 1.135235314506896, \"y\": 1.3808872315489413}, {\"x\": 9.528402660221749, \"y\": 532.1524677845194}, {\"x\": 8.919677626623956, \"y\": 426.79679918196575}, {\"x\": 6.425941607767101, \"y\": 148.6882769384307}, {\"x\": 5.48247377210401, \"y\": 76.93686024251396}, {\"x\": 4.701293878525412, \"y\": 44.72964594018241}, {\"x\": 1.1262264341731687, \"y\": -11.191507283169901}, {\"x\": 2.4407700845583613, \"y\": -8.760861013812578}, {\"x\": 0.42621740360165195, \"y\": -3.4933434902058664}, {\"x\": 4.80356619776958, \"y\": 49.79731786821431}, {\"x\": 9.983166260001713, \"y\": 615.4401684055272}, {\"x\": 1.420022753306317, \"y\": -4.048525223583512}, {\"x\": 2.662769260076767, \"y\": -0.7737147318078623}, {\"x\": 8.311501360763451, \"y\": 334.56655531373525}, {\"x\": 7.56076934778453, \"y\": 250.40108653956094}]}}, {\"mode\": \"vega-lite\"});\n",
       "</script>"
      ],
      "text/plain": [
       "alt.Chart(...)"
      ]
     },
     "execution_count": 35,
     "metadata": {},
     "output_type": "execute_result"
    }
   ],
   "source": [
    "ex1c_n = 100\n",
    " \n",
    "# Sorteio de x ~ U(0, 10)\n",
    "ex1c_x = np.random.uniform(0, 10, ex1c_n)\n",
    "\n",
    "# Erro aleatório ~ N(0, 2)\n",
    "ex1c_erro = np.random.normal(0, 5, ex1c_n)\n",
    "\n",
    "# Geração do y com ruído\n",
    "ex1c_y = 0.6 * ex1c_x**3 + ex1c_x**2 - 9 * ex1c_x + 2 + ex1c_erro\n",
    "\n",
    "# Dataframe dos dados gerados\n",
    "ex1c_df = pd.DataFrame({\"x\": ex1c_x, \"y\": ex1c_y})\n",
    "\n",
    "# Gráfico dos pontos gerados\n",
    "ex1c_pontos = alt.Chart(ex1c_df).mark_point().encode(\n",
    "    x=\"x\",\n",
    "    y=\"y\"\n",
    ")\n",
    "\n",
    "ex1c_pontos"
   ]
  },
  {
   "cell_type": "code",
   "execution_count": 36,
   "id": "e3c18e68",
   "metadata": {},
   "outputs": [
    {
     "name": "stdout",
     "output_type": "stream",
     "text": [
      "Status: Optimal\n",
      "-0.11800613 -5.371588 0.20364811 0.64638217\n"
     ]
    },
    {
     "data": {
      "text/html": [
       "\n",
       "<style>\n",
       "  #altair-viz-5db82876beb24507adef656202d67f9f.vega-embed {\n",
       "    width: 100%;\n",
       "    display: flex;\n",
       "  }\n",
       "\n",
       "  #altair-viz-5db82876beb24507adef656202d67f9f.vega-embed details,\n",
       "  #altair-viz-5db82876beb24507adef656202d67f9f.vega-embed details summary {\n",
       "    position: relative;\n",
       "  }\n",
       "</style>\n",
       "<div id=\"altair-viz-5db82876beb24507adef656202d67f9f\"></div>\n",
       "<script type=\"text/javascript\">\n",
       "  var VEGA_DEBUG = (typeof VEGA_DEBUG == \"undefined\") ? {} : VEGA_DEBUG;\n",
       "  (function(spec, embedOpt){\n",
       "    let outputDiv = document.currentScript.previousElementSibling;\n",
       "    if (outputDiv.id !== \"altair-viz-5db82876beb24507adef656202d67f9f\") {\n",
       "      outputDiv = document.getElementById(\"altair-viz-5db82876beb24507adef656202d67f9f\");\n",
       "    }\n",
       "\n",
       "    const paths = {\n",
       "      \"vega\": \"https://cdn.jsdelivr.net/npm/vega@5?noext\",\n",
       "      \"vega-lib\": \"https://cdn.jsdelivr.net/npm/vega-lib?noext\",\n",
       "      \"vega-lite\": \"https://cdn.jsdelivr.net/npm/vega-lite@5.20.1?noext\",\n",
       "      \"vega-embed\": \"https://cdn.jsdelivr.net/npm/vega-embed@6?noext\",\n",
       "    };\n",
       "\n",
       "    function maybeLoadScript(lib, version) {\n",
       "      var key = `${lib.replace(\"-\", \"\")}_version`;\n",
       "      return (VEGA_DEBUG[key] == version) ?\n",
       "        Promise.resolve(paths[lib]) :\n",
       "        new Promise(function(resolve, reject) {\n",
       "          var s = document.createElement('script');\n",
       "          document.getElementsByTagName(\"head\")[0].appendChild(s);\n",
       "          s.async = true;\n",
       "          s.onload = () => {\n",
       "            VEGA_DEBUG[key] = version;\n",
       "            return resolve(paths[lib]);\n",
       "          };\n",
       "          s.onerror = () => reject(`Error loading script: ${paths[lib]}`);\n",
       "          s.src = paths[lib];\n",
       "        });\n",
       "    }\n",
       "\n",
       "    function showError(err) {\n",
       "      outputDiv.innerHTML = `<div class=\"error\" style=\"color:red;\">${err}</div>`;\n",
       "      throw err;\n",
       "    }\n",
       "\n",
       "    function displayChart(vegaEmbed) {\n",
       "      vegaEmbed(outputDiv, spec, embedOpt)\n",
       "        .catch(err => showError(`Javascript Error: ${err.message}<br>This usually means there's a typo in your chart specification. See the javascript console for the full traceback.`));\n",
       "    }\n",
       "\n",
       "    if(typeof define === \"function\" && define.amd) {\n",
       "      requirejs.config({paths});\n",
       "      let deps = [\"vega-embed\"];\n",
       "      require(deps, displayChart, err => showError(`Error loading script: ${err.message}`));\n",
       "    } else {\n",
       "      maybeLoadScript(\"vega\", \"5\")\n",
       "        .then(() => maybeLoadScript(\"vega-lite\", \"5.20.1\"))\n",
       "        .then(() => maybeLoadScript(\"vega-embed\", \"6\"))\n",
       "        .catch(showError)\n",
       "        .then(() => displayChart(vegaEmbed));\n",
       "    }\n",
       "  })({\"config\": {\"view\": {\"continuousWidth\": 300, \"continuousHeight\": 300}}, \"layer\": [{\"data\": {\"name\": \"data-95987f6d6a7871a5b63d4a26c45860c8\"}, \"mark\": {\"type\": \"line\", \"color\": \"red\"}, \"encoding\": {\"x\": {\"field\": \"x\", \"type\": \"quantitative\"}, \"y\": {\"field\": \"y\", \"type\": \"quantitative\"}}}, {\"data\": {\"name\": \"data-793b815267704bbd614d7b483c8fa5e0\"}, \"mark\": {\"type\": \"point\"}, \"encoding\": {\"x\": {\"field\": \"x\", \"type\": \"quantitative\"}, \"y\": {\"field\": \"y\", \"type\": \"quantitative\"}}}], \"$schema\": \"https://vega.github.io/schema/vega-lite/v5.20.1.json\", \"datasets\": {\"data-95987f6d6a7871a5b63d4a26c45860c8\": [{\"x\": 0.0, \"y\": -0.11800613}, {\"x\": 0.10101010101010101, \"y\": -0.657846778522775}, {\"x\": 0.20202020202020202, \"y\": -1.1895347590555796}, {\"x\": 0.30303030303030304, \"y\": -1.709073063439074}, {\"x\": 0.40404040404040403, \"y\": -2.212464683513917}, {\"x\": 0.5050505050505051, \"y\": -2.695712611120768}, {\"x\": 0.6060606060606061, \"y\": -3.1548198381002868}, {\"x\": 0.7070707070707071, \"y\": -3.5857893562931324}, {\"x\": 0.8080808080808081, \"y\": -3.9846241575399644}, {\"x\": 0.9090909090909091, \"y\": -4.347327233681443}, {\"x\": 1.0101010101010102, \"y\": -4.669901576558226}, {\"x\": 1.1111111111111112, \"y\": -4.948350178010974}, {\"x\": 1.2121212121212122, \"y\": -5.178676029880347}, {\"x\": 1.3131313131313131, \"y\": -5.356882124007003}, {\"x\": 1.4141414141414141, \"y\": -5.478971452231602}, {\"x\": 1.5151515151515151, \"y\": -5.540947006394802}, {\"x\": 1.6161616161616161, \"y\": -5.538811778337265}, {\"x\": 1.7171717171717171, \"y\": -5.46856875989965}, {\"x\": 1.8181818181818181, \"y\": -5.326220942922617}, {\"x\": 1.9191919191919191, \"y\": -5.10777131924682}, {\"x\": 2.0202020202020203, \"y\": -4.809222880712925}, {\"x\": 2.121212121212121, \"y\": -4.42657861916159}, {\"x\": 2.2222222222222223, \"y\": -3.955841526433469}, {\"x\": 2.323232323232323, \"y\": -3.3930145943692325}, {\"x\": 2.4242424242424243, \"y\": -2.7341008148095267}, {\"x\": 2.525252525252525, \"y\": -1.9751031795950262}, {\"x\": 2.6262626262626263, \"y\": -1.1120246805663716}, {\"x\": 2.727272727272727, \"y\": -0.14086830956424073}, {\"x\": 2.8282828282828283, \"y\": 0.9423629415707188}, {\"x\": 2.929292929292929, \"y\": 2.1416660809978434}, {\"x\": 3.0303030303030303, \"y\": 3.461038116876478}, {\"x\": 3.131313131313131, \"y\": 4.904476057365952}, {\"x\": 3.2323232323232323, \"y\": 6.475976910625623}, {\"x\": 3.3333333333333335, \"y\": 8.17953768481482}, {\"x\": 3.4343434343434343, \"y\": 10.019155388092875}, {\"x\": 3.5353535353535355, \"y\": 11.998827028619148}, {\"x\": 3.6363636363636362, \"y\": 14.122549614552957}, {\"x\": 3.7373737373737375, \"y\": 16.39432015405367}, {\"x\": 3.8383838383838382, \"y\": 18.81813565528062}, {\"x\": 3.9393939393939394, \"y\": 21.39799312639313}, {\"x\": 4.040404040404041, \"y\": 24.137889575550563}, {\"x\": 4.141414141414141, \"y\": 27.04182201091222}, {\"x\": 4.242424242424242, \"y\": 30.113787440637495}, {\"x\": 4.343434343434343, \"y\": 33.35778287288571}, {\"x\": 4.444444444444445, \"y\": 36.777805315816195}, {\"x\": 4.545454545454545, \"y\": 40.37785177758827}, {\"x\": 4.646464646464646, \"y\": 44.161919266361316}, {\"x\": 4.747474747474747, \"y\": 48.13400479029466}, {\"x\": 4.848484848484849, \"y\": 52.298105357547655}, {\"x\": 4.94949494949495, \"y\": 56.658217976279616}, {\"x\": 5.05050505050505, \"y\": 61.21833965464986}, {\"x\": 5.151515151515151, \"y\": 65.9824674008178}, {\"x\": 5.252525252525253, \"y\": 70.95459822294276}, {\"x\": 5.353535353535354, \"y\": 76.13872912918404}, {\"x\": 5.454545454545454, \"y\": 81.53885712770095}, {\"x\": 5.555555555555555, \"y\": 87.15897922665295}, {\"x\": 5.656565656565657, \"y\": 93.00309243419926}, {\"x\": 5.757575757575758, \"y\": 99.07519375849932}, {\"x\": 5.858585858585858, \"y\": 105.37928020771236}, {\"x\": 5.959595959595959, \"y\": 111.91934878999784}, {\"x\": 6.0606060606060606, \"y\": 118.69939651351501}, {\"x\": 6.161616161616162, \"y\": 125.72342038642327}, {\"x\": 6.262626262626262, \"y\": 132.9954174168819}, {\"x\": 6.363636363636363, \"y\": 140.51938461305033}, {\"x\": 6.4646464646464645, \"y\": 148.29931898308783}, {\"x\": 6.565656565656566, \"y\": 156.33921753515372}, {\"x\": 6.666666666666667, \"y\": 164.64307727740746}, {\"x\": 6.767676767676767, \"y\": 173.21489521800814}, {\"x\": 6.8686868686868685, \"y\": 182.0586683651154}, {\"x\": 6.96969696969697, \"y\": 191.17839372688846}, {\"x\": 7.070707070707071, \"y\": 200.57806831148662}, {\"x\": 7.171717171717171, \"y\": 210.26168912706916}, {\"x\": 7.2727272727272725, \"y\": 220.2332531817956}, {\"x\": 7.373737373737374, \"y\": 230.49675748382523}, {\"x\": 7.474747474747475, \"y\": 241.05619904131729}, {\"x\": 7.575757575757575, \"y\": 251.91557486243113}, {\"x\": 7.6767676767676765, \"y\": 263.07888195532627}, {\"x\": 7.777777777777778, \"y\": 274.55011732816183}, {\"x\": 7.878787878787879, \"y\": 286.33327798909727}, {\"x\": 7.979797979797979, \"y\": 298.43236094629185}, {\"x\": 8.080808080808081, \"y\": 310.85136320790514}, {\"x\": 8.181818181818182, \"y\": 323.5942817820961}, {\"x\": 8.282828282828282, \"y\": 336.6651136770243}, {\"x\": 8.383838383838384, \"y\": 350.0678559008493}, {\"x\": 8.484848484848484, \"y\": 363.8065054617299}, {\"x\": 8.585858585858587, \"y\": 377.885059367826}, {\"x\": 8.686868686868687, \"y\": 392.3075146272964}, {\"x\": 8.787878787878787, \"y\": 407.0778682483008}, {\"x\": 8.88888888888889, \"y\": 422.2001172389987}, {\"x\": 8.98989898989899, \"y\": 437.67825860754886}, {\"x\": 9.09090909090909, \"y\": 453.516289362111}, {\"x\": 9.191919191919192, \"y\": 469.7182065108447}, {\"x\": 9.292929292929292, \"y\": 486.28800706190873}, {\"x\": 9.393939393939394, \"y\": 503.2296880234629}, {\"x\": 9.494949494949495, \"y\": 520.5472464036663}, {\"x\": 9.595959595959595, \"y\": 538.2446792106783}, {\"x\": 9.696969696969697, \"y\": 556.3259834526585}, {\"x\": 9.797979797979798, \"y\": 574.7951561377657}, {\"x\": 9.8989898989899, \"y\": 593.65619427416}, {\"x\": 10.0, \"y\": 612.91309487}], \"data-793b815267704bbd614d7b483c8fa5e0\": [{\"x\": 7.4658608527821375, \"y\": 234.0030386492886}, {\"x\": 8.42144739950733, \"y\": 351.5269486841774}, {\"x\": 8.343535238219694, \"y\": 347.0202949268039}, {\"x\": 9.701612112873681, \"y\": 555.3723247632198}, {\"x\": 0.3309714166943334, \"y\": -8.030903982137714}, {\"x\": 7.378281128382214, \"y\": 237.80164503537006}, {\"x\": 9.904088995440372, \"y\": 594.0514484275345}, {\"x\": 1.4374983380548334, \"y\": -8.923500859113544}, {\"x\": 1.639511556079536, \"y\": -5.173589492912516}, {\"x\": 1.2493532883918024, \"y\": -2.820006888211161}, {\"x\": 9.153985550857557, \"y\": 476.12974008704583}, {\"x\": 4.693077384850904, \"y\": 46.81958802932822}, {\"x\": 8.551540670490178, \"y\": 371.409919199766}, {\"x\": 8.509105014769425, \"y\": 370.9695382403972}, {\"x\": 6.762100761092759, \"y\": 176.17015661282983}, {\"x\": 1.9915098827094169, \"y\": -4.081993166361466}, {\"x\": 5.347950852465382, \"y\": 76.86842737619438}, {\"x\": 5.591591309814579, \"y\": 92.98210831377426}, {\"x\": 8.839848779293614, \"y\": 416.422195633607}, {\"x\": 6.305363916306689, \"y\": 138.3738660970421}, {\"x\": 0.36210454596872776, \"y\": 1.7120440557838852}, {\"x\": 0.7608469070535429, \"y\": -0.05272247847782063}, {\"x\": 9.318269430930785, \"y\": 493.6222778157682}, {\"x\": 5.16191073152134, \"y\": 70.68698088408273}, {\"x\": 0.6946257588431781, \"y\": -5.082310310673625}, {\"x\": 0.6731252207664007, \"y\": -4.32024806005813}, {\"x\": 5.673317011822742, \"y\": 96.83355765001781}, {\"x\": 9.510511984839615, \"y\": 520.0369665128168}, {\"x\": 2.953549954033404, \"y\": 2.5646427261242724}, {\"x\": 8.098736201644572, \"y\": 316.74807653937194}, {\"x\": 6.913380774478096, \"y\": 189.00140245333196}, {\"x\": 6.88921684467925, \"y\": 183.88974874033897}, {\"x\": 8.39310486927293, \"y\": 339.7994223224982}, {\"x\": 3.1634598018515723, \"y\": 8.918234446110588}, {\"x\": 6.3345212099338895, \"y\": 134.45877773799126}, {\"x\": 7.482472489621049, \"y\": 245.69310698929277}, {\"x\": 4.6938874460003195, \"y\": 45.82991591454088}, {\"x\": 1.2357489348682638, \"y\": -11.617369782832569}, {\"x\": 3.560922733771299, \"y\": 7.762973403118271}, {\"x\": 0.3496315305745934, \"y\": -7.766909323030077}, {\"x\": 1.1489903798191292, \"y\": -4.757888775273083}, {\"x\": 3.7309949557506616, \"y\": 14.182849760885029}, {\"x\": 4.38593576122777, \"y\": 32.11688460084545}, {\"x\": 1.3246416369281255, \"y\": -7.445349552391689}, {\"x\": 6.307145632015594, \"y\": 135.83581354217498}, {\"x\": 6.492149653909034, \"y\": 156.7301792048019}, {\"x\": 9.006812872381303, \"y\": 444.00792622140995}, {\"x\": 4.848323538143562, \"y\": 50.26564063262872}, {\"x\": 0.8262548974861428, \"y\": -3.6464710669106823}, {\"x\": 7.255621083588212, \"y\": 217.86867773826995}, {\"x\": 4.5566194853264985, \"y\": 41.327429570222456}, {\"x\": 0.3861071855574616, \"y\": -2.124449232157157}, {\"x\": 9.80198263102928, \"y\": 575.5350960839469}, {\"x\": 0.7827340637586921, \"y\": -9.648122667472418}, {\"x\": 2.2447449418159104, \"y\": -8.764235276808348}, {\"x\": 1.1580501043920655, \"y\": -4.234272235133218}, {\"x\": 9.854529778100433, \"y\": 586.6838406170614}, {\"x\": 7.182478859986674, \"y\": 206.3444650271812}, {\"x\": 5.703590046525085, \"y\": 92.54824480034016}, {\"x\": 8.542776578220032, \"y\": 368.89283367061404}, {\"x\": 9.597312505184048, \"y\": 536.9080513978033}, {\"x\": 5.781601231425205, \"y\": 108.91034885197286}, {\"x\": 1.539031546950732, \"y\": -3.5550346662346315}, {\"x\": 9.594343735630208, \"y\": 531.0833079595749}, {\"x\": 1.4100927187257695, \"y\": -4.4499523897330775}, {\"x\": 0.41952445244264003, \"y\": 0.1457363446483817}, {\"x\": 6.1964415780853415, \"y\": 125.21256960358096}, {\"x\": 8.975259809752782, \"y\": 428.8793423738938}, {\"x\": 4.861565199154598, \"y\": 51.3885185877076}, {\"x\": 5.94625292498243, \"y\": 101.98593520049705}, {\"x\": 3.018549628404074, \"y\": -3.7322586837679506}, {\"x\": 3.7280972287178846, \"y\": 4.266093633883864}, {\"x\": 7.068960557038367, \"y\": 203.1161542591597}, {\"x\": 3.9107136014721244, \"y\": 23.2516229619526}, {\"x\": 9.069203063302867, \"y\": 448.2659837124575}, {\"x\": 8.811979013632834, \"y\": 416.2274758762313}, {\"x\": 1.851114509233307, \"y\": -5.070568556089276}, {\"x\": 5.438645434682865, \"y\": 86.26671424142253}, {\"x\": 6.7699619166368485, \"y\": 163.47653247478897}, {\"x\": 5.200685686142936, \"y\": 70.83984764787807}, {\"x\": 5.610287851111552, \"y\": 86.1101819155166}, {\"x\": 7.009243516904854, \"y\": 197.02221082920073}, {\"x\": 5.121616760544264, \"y\": 63.596992812684306}, {\"x\": 4.142821270759245, \"y\": 29.777880008616837}, {\"x\": 4.665546446774554, \"y\": 39.15614308334083}, {\"x\": 1.135235314506896, \"y\": 1.3808872315489413}, {\"x\": 9.528402660221749, \"y\": 532.1524677845194}, {\"x\": 8.919677626623956, \"y\": 426.79679918196575}, {\"x\": 6.425941607767101, \"y\": 148.6882769384307}, {\"x\": 5.48247377210401, \"y\": 76.93686024251396}, {\"x\": 4.701293878525412, \"y\": 44.72964594018241}, {\"x\": 1.1262264341731687, \"y\": -11.191507283169901}, {\"x\": 2.4407700845583613, \"y\": -8.760861013812578}, {\"x\": 0.42621740360165195, \"y\": -3.4933434902058664}, {\"x\": 4.80356619776958, \"y\": 49.79731786821431}, {\"x\": 9.983166260001713, \"y\": 615.4401684055272}, {\"x\": 1.420022753306317, \"y\": -4.048525223583512}, {\"x\": 2.662769260076767, \"y\": -0.7737147318078623}, {\"x\": 8.311501360763451, \"y\": 334.56655531373525}, {\"x\": 7.56076934778453, \"y\": 250.40108653956094}]}}, {\"mode\": \"vega-lite\"});\n",
       "</script>"
      ],
      "text/plain": [
       "alt.LayerChart(...)"
      ]
     },
     "execution_count": 36,
     "metadata": {},
     "output_type": "execute_result"
    }
   ],
   "source": [
    "ex1c_a0, ex1c_a1, ex1c_a2, ex1c_a3 = poly_approximation(ex1c_x, ex1c_y)\n",
    "print(ex1c_a0, ex1c_a1, ex1c_a2, ex1c_a3)\n",
    "ex1c_x_reta = np.linspace(0, 10, 100) \n",
    "ex1c_y_reta = ex1c_a3 * ex1c_x_reta**3 + ex1c_a2 * ex1c_x_reta**2 + ex1c_a1 * ex1c_x_reta + ex1c_a0\n",
    "\n",
    "ex1c_df_reta = pd.DataFrame({\"x\": ex1c_x_reta, \"y\": ex1c_y_reta})\n",
    "\n",
    "ex1c_reta = alt.Chart(ex1c_df_reta).mark_line(color=\"red\").encode(\n",
    "    x=\"x\",\n",
    "    y=\"y\"\n",
    ")\n",
    "\n",
    "ex1c_reta + ex1c_pontos"
   ]
  },
  {
   "cell_type": "markdown",
   "id": "cceec990",
   "metadata": {},
   "source": [
    "### Item (d)"
   ]
  },
  {
   "cell_type": "markdown",
   "id": "bf103678",
   "metadata": {},
   "source": [
    "## Exercício 2"
   ]
  },
  {
   "cell_type": "markdown",
   "id": "db146b8a",
   "metadata": {},
   "source": [
    "Applied Mathematical Programming | Capítulo 9 - Exercício 5"
   ]
  },
  {
   "cell_type": "markdown",
   "id": "27a54092",
   "metadata": {},
   "source": [
    "### Item (a)"
   ]
  },
  {
   "cell_type": "markdown",
   "id": "e5ad8bf7",
   "metadata": {},
   "source": [
    "#### Enunciado"
   ]
  },
  {
   "cell_type": "markdown",
   "id": "adacd0b1",
   "metadata": {},
   "source": [
    "Reformule o problema a seguir como uma problema linear inteiro equivalente:\n",
    "\n",
    "Maximizar:\n",
    "$z = x_1 + 2x_2$\n",
    "\n",
    "Sujeito a:\n",
    "- $x_1 + x_2 \\le 8$\n",
    "- $-x_1 + x_2 \\le 2$\n",
    "- $x_1 - x_2 \\le 4$\n",
    "- $x_2 \\ge 0$ e inteiro\n",
    "\n",
    "$x_1 \\in \\{0, 1, 4, 6\\}$"
   ]
  },
  {
   "cell_type": "markdown",
   "id": "a854a4d3",
   "metadata": {},
   "source": [
    "#### Solução"
   ]
  },
  {
   "cell_type": "markdown",
   "id": "5a54cafe",
   "metadata": {},
   "source": [
    "Criaremos variáveis de decisão binárias $y_0, y_1, y_4$ e $y_6$ para modelar o conjunto de valores possíveis para $x_1$. Para isso, temos as seguintes restrições:\n",
    "- $y_0 + y_1 + y_4 + y_6 = 1$\n",
    "- $x_1 = 0y_0 + 1y_1 + 4y_4 + 6y_6 \\Rightarrow y_1 + 4y_4 + 6y_6 - x_1 = 0$ \n"
   ]
  },
  {
   "cell_type": "code",
   "execution_count": 37,
   "id": "c8278f9d",
   "metadata": {},
   "outputs": [
    {
     "name": "stdout",
     "output_type": "stream",
     "text": [
      "Status: Optimal\n",
      "x1 = 4.0\n",
      "x2 = 4.0\n",
      "y0 = 0.0\n",
      "y1 = 0.0\n",
      "y4 = 1.0\n",
      "y6 = 0.0\n",
      "z = 12.0\n"
     ]
    }
   ],
   "source": [
    "# Criação do problema\n",
    "ex2a_lp = pl.LpProblem(\"Integer_Problem\", pl.LpMaximize)\n",
    "\n",
    "# Variáveis de decisão\n",
    "ex2a_x1 = pl.LpVariable(\"x1\")\n",
    "ex2a_x2 = pl.LpVariable(\"x2\", lowBound=0, cat=\"Integer\")\n",
    "ex2a_y0 = pl.LpVariable(\"y0\", cat=\"Binary\")\n",
    "ex2a_y1 = pl.LpVariable(\"y1\", cat=\"Binary\")\n",
    "ex2a_y4 = pl.LpVariable(\"y4\", cat=\"Binary\")\n",
    "ex2a_y6 = pl.LpVariable(\"y6\", cat=\"Binary\")\n",
    "\n",
    "# Função objetivo\n",
    "ex2a_lp += ex2a_x1 + 2*ex2a_x2\n",
    "\n",
    "# Restrições\n",
    "ex2a_lp += ex2a_y0 + ex2a_y1 + ex2a_y4 + ex2a_y6 == 1\n",
    "ex2a_lp += ex2a_y1 + 4*ex2a_y4 + 6*ex2a_y6 - ex2a_x1 == 0\n",
    "ex2a_lp += ex2a_x1 + ex2a_x2 <= 8\n",
    "ex2a_lp += -ex2a_x1 + ex2a_x2 <= 2\n",
    "ex2a_lp += ex2a_x1 - ex2a_x2 <= 4\n",
    "\n",
    "# Resolver\n",
    "ex2a_lp.solve(pl.PULP_CBC_CMD(msg=0))\n",
    "\n",
    "# Solução\n",
    "print(\"Status:\", pl.LpStatus[ex2a_lp.status])\n",
    "for var in ex2a_lp.variables():\n",
    "    print(var, \"=\", var.varValue)\n",
    "print(\"z =\", pl.value(ex2a_lp.objective))"
   ]
  },
  {
   "cell_type": "markdown",
   "id": "dcee12cb",
   "metadata": {},
   "source": [
    "### Item (b)"
   ]
  },
  {
   "cell_type": "markdown",
   "id": "9a537a2f",
   "metadata": {},
   "source": [
    "#### Enunciado"
   ]
  },
  {
   "cell_type": "markdown",
   "id": "4c0e7ffd",
   "metadata": {},
   "source": [
    "Como resolver o item (a) se a função objetivo for alterada para:\n",
    "\n",
    "Maximizar: z = $x_1^2 + 2x_2$"
   ]
  },
  {
   "cell_type": "markdown",
   "id": "e2c0cde7",
   "metadata": {},
   "source": [
    "#### Solução"
   ]
  },
  {
   "cell_type": "markdown",
   "id": "ff1445c3",
   "metadata": {},
   "source": [
    "Podemos criar uma outra variável para guardar o valor de $x_1^2$ da seguinte forma:\n",
    "\n",
    "$w = 0y_0 + 1y_1 + 16y_4 + 36y_6$\n",
    "\n",
    "Assim, alteramos nossa função objetivo para:\n",
    "\n",
    "Maximizar: z = $w + 2x_2$"
   ]
  },
  {
   "cell_type": "code",
   "execution_count": 38,
   "id": "5d371d67",
   "metadata": {},
   "outputs": [
    {
     "name": "stdout",
     "output_type": "stream",
     "text": [
      "Status: Optimal\n",
      "w = 16.0\n",
      "x1 = 4.0\n",
      "x2 = 4.0\n",
      "y0 = 0.0\n",
      "y1 = 0.0\n",
      "y4 = 1.0\n",
      "y6 = 0.0\n",
      "z = 12.0\n"
     ]
    }
   ],
   "source": [
    "# Criação do problema\n",
    "ex2b_lp = pl.LpProblem(\"Integer_Problem\", pl.LpMaximize)\n",
    "\n",
    "# Variáveis de decisão\n",
    "ex2b_x1 = pl.LpVariable(\"x1\")\n",
    "ex2b_x2 = pl.LpVariable(\"x2\", lowBound=0, cat=\"Integer\")\n",
    "ex2b_y0 = pl.LpVariable(\"y0\", cat=\"Binary\")\n",
    "ex2b_y1 = pl.LpVariable(\"y1\", cat=\"Binary\")\n",
    "ex2b_y4 = pl.LpVariable(\"y4\", cat=\"Binary\")\n",
    "ex2b_y6 = pl.LpVariable(\"y6\", cat=\"Binary\")\n",
    "ex2b_w = pl.LpVariable(\"w\")\n",
    "\n",
    "# Função objetivo\n",
    "ex2b_lp += ex2b_x1 + 2*ex2b_x2\n",
    "\n",
    "# Restrições\n",
    "ex2b_lp += ex2b_y0 + ex2b_y1 + ex2b_y4 + ex2b_y6 == 1\n",
    "ex2b_lp += ex2b_y1 + 4*ex2b_y4 + 6*ex2b_y6 - ex2b_x1 == 0\n",
    "ex2b_lp += ex2b_y1 + 16*ex2b_y4 + 36*ex2b_y6 - ex2b_w == 0\n",
    "ex2b_lp += ex2b_x1 + ex2b_x2 <= 8\n",
    "ex2b_lp += -ex2b_x1 + ex2b_x2 <= 2\n",
    "ex2b_lp += ex2b_x1 - ex2b_x2 <= 4\n",
    "\n",
    "# Resolver\n",
    "ex2b_lp.solve(pl.PULP_CBC_CMD(msg=0))\n",
    "\n",
    "# Solução\n",
    "print(\"Status:\", pl.LpStatus[ex2b_lp.status])\n",
    "for var in ex2b_lp.variables():\n",
    "    print(var, \"=\", var.varValue)\n",
    "print(\"z =\", pl.value(ex2b_lp.objective))"
   ]
  },
  {
   "cell_type": "markdown",
   "id": "15b56679",
   "metadata": {},
   "source": [
    "## Exercício 3\n",
    "\n",
    "Applied Mathematical Programming | Capítulo 9 - Exercício 3"
   ]
  },
  {
   "cell_type": "markdown",
   "id": "716a6afd",
   "metadata": {},
   "source": [
    "### Enunciado"
   ]
  },
  {
   "cell_type": "markdown",
   "id": "ea4f25d8",
   "metadata": {},
   "source": [
    "O grupo de marketing da A. J. Pitt Company está considerando as opções disponíveis para sua próxima campanha publicitária.  \n",
    "Após um grande esforço de análise, o grupo identificou um número selecionado de opções com as características mostradas na tabela abaixo:\n",
    "\n",
    "| Meio                 | TV (1)       | Revista técnica (2) | Jornal (3)   | Rádio (4)    | Revista popular (5) | Campanha promocional (6) | Recursos totais disponíveis |\n",
    "|----------------------|----------|-----------------|----------|----------|-----------------|-----------------------|-----------------------------|\n",
    "| **Clientes atingidos** | 1.000.000 | 200.000         | 300.000  | 400.000  | 450.000         | 450.000               | –                           |\n",
    "| **Custo ($)**        | 500.000  | 150.000         | 300.000  | 250.000  | 250.000         | 100.000               | 1.800.000                   |\n",
    "| **Designers necessários** (h.h.) | 700      | 250             | 200      | 200      | 300             | 400                   | 1.500                       |\n",
    "| **Vendedores necessários** (h.h.) | 200      | 100             | 100      | 100      | 100             | 1.000                 | 1.200                       |\n",
    "\n",
    "(h.h. = horas-homens)\n",
    "\n",
    "\n",
    "O objetivo do programa de publicidade é maximizar o número de clientes atingidos, sujeito às limitações de recursos (dinheiro, designers e vendedores) mostradas na tabela acima.  \n",
    "\n",
    "Além disso, devem ser satisfeitas as seguintes restrições:\n",
    "\n",
    "1. Se a campanha promocional for realizada, será necessário também realizar rádio ou revista popular para apoiá-la.  \n",
    "2. A empresa não pode anunciar simultaneamente em revista técnica e em revista popular.  \n",
    "\n",
    " \n",
    "Formule um modelo de programação inteira que auxilie a empresa a selecionar uma estratégia adequada de campanha publicitária."
   ]
  },
  {
   "cell_type": "markdown",
   "id": "6cd16acd",
   "metadata": {},
   "source": [
    "### Solução"
   ]
  },
  {
   "cell_type": "markdown",
   "id": "ddb01f6c",
   "metadata": {},
   "source": [
    "Sejam $x_1, x_2, x_3, x_4, x_5, x_6$ variáveis binárias que indicam se as publicidades na TV, revista técnica, jornal, rádio, revista popular ou campanha promocional foram escolhidas, respectivamente. Nossa função objetivo é:\n",
    "\n",
    "Maximizar: $z = 1000x_1 + 200x_2 + 300x_3 + 400x_4 + 450x_5 + 450x_6$ (em milhares de dólares)\n",
    "\n",
    "Das restrições de recursos, temos:\n",
    "- Custo\n",
    "    $500x_1 + 150x_2 + 300x_3 + 250x_4 + 250x_5 + 100x_6 \\leq 1800$\n",
    "- Designers necessários\n",
    "    $700x_1 + 250x_2 + 200x_3 + 200x_4 + 300x_5 + 400x_6 \\leq 1500$\n",
    "- Vendedores necessários\n",
    "    $200x_1 + 100x_2 + 100x_3 + 100x_4 + 100x_5 + 1000x_6 \\leq 1200$\n",
    "\n",
    "Além disso, das outras restrições do problema, temos:\n",
    "1. Se a campanha promocional for realizada, será necessário também realizar rádio ou revista popular para apoiá-la.  \n",
    "    $x_4 + x_5 \\geq x_6 \\Rightarrow x_4 + x_5 - x_6 \\geq 0$\n",
    "2. A empresa não pode anunciar simultaneamente em revista técnica e em revista popular.\n",
    "    $x_2 + x_5 \\leq 1$\n"
   ]
  },
  {
   "cell_type": "code",
   "execution_count": 44,
   "id": "7994f36f",
   "metadata": {},
   "outputs": [
    {
     "name": "stdout",
     "output_type": "stream",
     "text": [
      "Status: Optimal\n",
      "x1 = 1.0\n",
      "x2 = 0.0\n",
      "x3 = 1.0\n",
      "x4 = 1.0\n",
      "x5 = 1.0\n",
      "x6 = 0.0\n",
      "z = 2150000.0\n"
     ]
    }
   ],
   "source": [
    "# Criação do problema\n",
    "ex3_lp = pl.LpProblem(\"Advertising\", pl.LpMaximize)\n",
    "\n",
    "# Variáveis de decisão\n",
    "ex3_x1 = pl.LpVariable(\"x1\", cat=\"Binary\")\n",
    "ex3_x2 = pl.LpVariable(\"x2\", cat=\"Binary\")\n",
    "ex3_x3 = pl.LpVariable(\"x3\", cat=\"Binary\")\n",
    "ex3_x4 = pl.LpVariable(\"x4\", cat=\"Binary\")\n",
    "ex3_x5 = pl.LpVariable(\"x5\", cat=\"Binary\")\n",
    "ex3_x6 = pl.LpVariable(\"x6\", cat=\"Binary\")\n",
    "\n",
    "# Função objetivo\n",
    "ex3_lp += 1000*ex3_x1 + 200*ex3_x2 + 300*ex3_x3 + 400*ex3_x4 + 450*ex3_x5 + 450*ex3_x6\n",
    "\n",
    "# Restrições\n",
    "ex3_lp += 500*ex3_x1 + 150*ex3_x2 + 300*ex3_x3 + 250*ex3_x4 + 250*ex3_x5 + 100*ex3_x6 <= 1800\n",
    "ex3_lp += 700*ex3_x1 + 250*ex3_x2 + 200*ex3_x3 + 200*ex3_x4 + 300*ex3_x5 + 400*ex3_x6 <= 1500\n",
    "ex3_lp += 200*ex3_x1 + 100*ex3_x2 + 100*ex3_x3 + 100*ex3_x4 + 100*ex3_x5 + 1000*ex3_x6 <= 1200\n",
    "ex3_lp += ex3_x4 + ex3_x5 - ex3_x6 >= 0\n",
    "ex3_lp += ex3_x2 + ex3_x5 <= 1\n",
    "\n",
    "# Resolver\n",
    "ex3_lp.solve(pl.PULP_CBC_CMD(msg=0))\n",
    "\n",
    "# Solução\n",
    "print(\"Status:\", pl.LpStatus[ex3_lp.status])\n",
    "for var in ex3_lp.variables():\n",
    "    print(var, \"=\", var.varValue)\n",
    "print(\"z =\", pl.value(ex3_lp.objective)*1000)"
   ]
  },
  {
   "cell_type": "markdown",
   "id": "3c8e2e2b",
   "metadata": {},
   "source": [
    "## Exercício 4\n",
    "\n",
    "Applied Mathematical Programming | Capítulo 8 - Exercício 2"
   ]
  },
  {
   "cell_type": "markdown",
   "id": "4d27a377",
   "metadata": {},
   "source": [
    "### Enunciado"
   ]
  },
  {
   "cell_type": "markdown",
   "id": "f2445178",
   "metadata": {},
   "source": [
    "Em um determinado dia durante a temporada de turismo, uma empresa de aluguel de carros deve fornecer veículos para quatro destinos, de acordo com o seguinte cronograma:\n",
    "\n",
    "| Destino | Carros necessários |\n",
    "|---------|--------------------|\n",
    "| A       | 2                  |\n",
    "| B       | 3                  |\n",
    "| C       | 5                  |\n",
    "| D       | 7                  |\n",
    "\n",
    "A empresa possui três filiais a partir das quais os carros podem ser fornecidos. Nesse dia, o inventário de cada filial era o seguinte:\n",
    "\n",
    "| Filial | Carros disponíveis |\n",
    "|--------|--------------------|\n",
    "| 1      | 6                  |\n",
    "| 2      | 1                  |\n",
    "| 3      | 10                 |\n",
    "\n",
    "As distâncias entre as filiais e os destinos são dadas na tabela a seguir:\n",
    "\n",
    "| Filial \\ Destino | A  | B  | C  | D  |\n",
    "|------------------|----|----|----|----|\n",
    "| 1                | 7  | 11 | 3  | 2  |\n",
    "| 2                | 1  | 6  | 0  | 1  |\n",
    "| 3                | 9  | 15 | 8  | 5  |\n",
    "\n",
    "\n",
    "\n",
    "Planeje a atividade do dia de forma que as demandas sejam atendidas com custo mínimo (assumindo que o custo é proporcional a carros x milhas percorridas).\n"
   ]
  },
  {
   "cell_type": "markdown",
   "id": "78f6895b",
   "metadata": {},
   "source": [
    "### Solução"
   ]
  },
  {
   "cell_type": "markdown",
   "id": "6d529b5e",
   "metadata": {},
   "source": [
    "Sejam $x_{ij}$ o número de carros da filial i que vão para o destino j e $d_{ij}$ a distância associada. Nossa função objetivo é:\n",
    "\n",
    "Minimizar $z = \\sum_{i=1}^m \\sum_{j=1}^n d_{ij} x_{ij}$\n",
    "\n",
    "Com as restrições:\n",
    "- $\\sum_{j=1}^n x_{ij} = a_i$, onde $a_i$ é o número de carros disponíveis na filial i.\n",
    "- $\\sum_{i=1}^m x_{ij} = b_j$, onde $b_j$ é o número de carros necessários no destino j.\n",
    "- $x_{ij} \\geq 0 (i=1,..,m; j=1,...,n)$"
   ]
  },
  {
   "cell_type": "code",
   "execution_count": 47,
   "id": "9e84a42a",
   "metadata": {},
   "outputs": [
    {
     "name": "stdout",
     "output_type": "stream",
     "text": [
      "Status: Optimal\n",
      "x_0_0 = 0.0\n",
      "x_0_1 = 1.0\n",
      "x_0_2 = 5.0\n",
      "x_0_3 = 0.0\n",
      "x_1_0 = 0.0\n",
      "x_1_1 = 1.0\n",
      "x_1_2 = 0.0\n",
      "x_1_3 = 0.0\n",
      "x_2_0 = 2.0\n",
      "x_2_1 = 1.0\n",
      "x_2_2 = 0.0\n",
      "x_2_3 = 7.0\n",
      "z = 100000.0\n"
     ]
    }
   ],
   "source": [
    "m = 3\n",
    "n = 4\n",
    "\n",
    "# Matriz de distâncias\n",
    "d = [[7, 11, 3, 2],\n",
    "    [1, 6, 0, 1],\n",
    "    [9, 15, 8, 5]]\n",
    "\n",
    "# Carros disponíveis\n",
    "a = [6, 1, 10]\n",
    "\n",
    "# Carros necessários\n",
    "b = [2, 3, 5, 7]\n",
    "\n",
    "# Criação do problema\n",
    "ex4_lp = pl.LpProblem(\"Car_Rent\", pl.LpMinimize)\n",
    "\n",
    "# Variáveis de decisão\n",
    "x = [[pl.LpVariable(f\"x_{i}_{j}\", lowBound=0, cat='Continuous') for j in range(n)] for i in range(m)]\n",
    "\n",
    "# Função objetivo\n",
    "ex4_lp += pl.lpSum(d[i][j] * x[i][j] for i in range(m) for j in range(n))\n",
    "\n",
    "# Restrições\n",
    "for i in range(m):\n",
    "    ex4_lp += pl.lpSum(x[i][j] for j in range(n)) == a[i]\n",
    "for j in range(n):\n",
    "    ex4_lp += pl.lpSum(x[i][j] for i in range(m)) == b[j]\n",
    "\n",
    "# Resolver\n",
    "ex4_lp.solve(pl.PULP_CBC_CMD(msg=0))\n",
    "\n",
    "# Solução\n",
    "print(\"Status:\", pl.LpStatus[ex4_lp.status])\n",
    "for var in ex4_lp.variables():\n",
    "    print(var, \"=\", var.varValue)\n",
    "print(\"z =\", pl.value(ex4_lp.objective)*1000)"
   ]
  },
  {
   "cell_type": "markdown",
   "id": "79b2c384",
   "metadata": {},
   "source": [
    "## Exercício 5\n",
    "\n",
    "Applied Mathematical Programming | Capítulo 8 - Exercício 4"
   ]
  },
  {
   "cell_type": "markdown",
   "id": "6df5124a",
   "metadata": {},
   "source": [
    "### Enunciado"
   ]
  },
  {
   "cell_type": "markdown",
   "id": "f29ff4c0",
   "metadata": {},
   "source": [
    "Uma grande rede de artigos esportivos deseja comprar 300, 200, 150, 500 e 400 raquetes de tênis de cinco tipos diferentes. Foram recebidas propostas de quatro fabricantes, que fornecerão no máximo as seguintes quantidades (todos os cinco tipos de raquetes combinados):\n",
    "\n",
    "- M1: 600  \n",
    "- M2: 500  \n",
    "- M3: 300  \n",
    "- M4: 400  \n",
    "\n",
    "A loja estima que o lucro por raquete variará de acordo com o fabricante, conforme mostrado abaixo:\n",
    "\n",
    "| Fabricante | R1   | R2   | R3   | R4   | R5   |\n",
    "|------------|------|------|------|------|------|\n",
    "| M1         | 5.50 | 7.00 | 8.50 | 4.50 | 3.00 |\n",
    "| M2         | 6.00 | 6.50 | 9.00 | 3.50 | 2.00 |\n",
    "| M3         | 5.00 | 7.00 | 9.50 | 4.00 | 2.50 |\n",
    "| M4         | 6.50 | 5.50 | 8.00 | 5.00 | 3.50 |\n",
    "\n",
    "  \n",
    "Como os pedidos devem ser distribuídos entre os fabricantes?\n"
   ]
  },
  {
   "cell_type": "markdown",
   "id": "23d3734b",
   "metadata": {},
   "source": [
    "### Solução"
   ]
  },
  {
   "cell_type": "markdown",
   "id": "af9ef8e5",
   "metadata": {},
   "source": [
    "Sejam $x_{ij}$ o número de raquetes do tipo i compradas com o fornecedor j e $c_{ij}$ o lucro associado. Nossa função objetivo é:\n",
    "\n",
    "Maximizar $z = \\sum_{i=1}^m \\sum_{i=1}^n x_{ij} c_{ij}$\n",
    "\n",
    "Com as restrições:\n",
    "- $\\sum_{i=1}^m x_{ij} \\leq r_j$, onde $r_j$ é o máximo de raquetes fornecidas pelo fabricante j.\n",
    "- $x_{ij} \\geq 0$"
   ]
  },
  {
   "cell_type": "code",
   "execution_count": 51,
   "id": "c4dc6598",
   "metadata": {},
   "outputs": [
    {
     "name": "stdout",
     "output_type": "stream",
     "text": [
      "Status: Optimal\n",
      "x_0_0 = 0.0\n",
      "x_0_1 = 0.0\n",
      "x_0_2 = 0.0\n",
      "x_0_3 = 0.0\n",
      "x_1_0 = 0.0\n",
      "x_1_1 = 0.0\n",
      "x_1_2 = 0.0\n",
      "x_1_3 = 0.0\n",
      "x_2_0 = 600.0\n",
      "x_2_1 = 500.0\n",
      "x_2_2 = 300.0\n",
      "x_2_3 = 400.0\n",
      "x_3_0 = 0.0\n",
      "x_3_1 = 0.0\n",
      "x_3_2 = 0.0\n",
      "x_3_3 = 0.0\n",
      "x_4_0 = 0.0\n",
      "x_4_1 = 0.0\n",
      "x_4_2 = 0.0\n",
      "x_4_3 = 0.0\n",
      "z = 15650000.0\n"
     ]
    }
   ],
   "source": [
    "m = 5\n",
    "n = 4\n",
    "\n",
    "# Matriz de lucros\n",
    "d = [[5.5, 6, 5, 6.5],\n",
    "    [7, 6.5, 7, 5.5],\n",
    "    [8.5, 9, 9.5, 8],\n",
    "    [4.5, 3.5, 4, 5],\n",
    "    [3, 2, 2.5, 3.5]]\n",
    "\n",
    "# Número de raquetes fornecidas\n",
    "r = [600, 500, 300, 400]\n",
    "\n",
    "# Criação do problema\n",
    "ex5_lp = pl.LpProblem(\"Tennis_Racquets\", pl.LpMaximize)\n",
    "\n",
    "# Variáveis de decisão\n",
    "x = [[pl.LpVariable(f\"x_{i}_{j}\", lowBound=0, cat='Continuous') for j in range(n)] for i in range(m)]\n",
    "\n",
    "# Função objetivo\n",
    "ex5_lp += pl.lpSum(d[i][j] * x[i][j] for i in range(m) for j in range(n))\n",
    "\n",
    "# Restrições\n",
    "for j in range(n):\n",
    "    ex5_lp += pl.lpSum(x[i][j] for i in range(m)) <= r[j]\n",
    "\n",
    "# Resolver\n",
    "ex5_lp.solve(pl.PULP_CBC_CMD(msg=0))\n",
    "\n",
    "# Solução\n",
    "print(\"Status:\", pl.LpStatus[ex5_lp.status])\n",
    "for var in ex5_lp.variables():\n",
    "    print(var, \"=\", var.varValue)\n",
    "print(\"z =\", pl.value(ex5_lp.objective)*1000)"
   ]
  },
  {
   "cell_type": "markdown",
   "id": "1833b931",
   "metadata": {},
   "source": [
    "## Exercício extra"
   ]
  },
  {
   "cell_type": "markdown",
   "id": "0d8c713e",
   "metadata": {},
   "source": [
    "Applied Mathematical Programming | Capítulo 9 - Exercício 15"
   ]
  },
  {
   "cell_type": "markdown",
   "id": "0a42afb4",
   "metadata": {},
   "source": [
    "#### Enunciado"
   ]
  },
  {
   "cell_type": "markdown",
   "id": "e0611fee",
   "metadata": {},
   "source": [
    "Um time universitário de basquete de quatro jogadores está tentando escolher sua formação inicial a partir de um elenco de seis jogadores, de forma a maximizar a altura média. O elenco é o seguinte:\n",
    "\n",
    "| Jogador | Número | Altura* | Posição  |\n",
    "|---------|--------|---------|----------|\n",
    "| Dave    | 1      | 10      | Pivô     |\n",
    "| John    | 2      | 9       | Pivô     |\n",
    "| Mark    | 3      | 6       | Ala      |\n",
    "| Rich    | 4      | 6       | Ala      |\n",
    "| Ken     | 5      | 4       | Armador  |\n",
    "| Jim     | 6      | -1      | Armador  |\n",
    "\n",
    "\\* Altura em polegadas acima de 5'6''.\n",
    "\n",
    "\n",
    "A formação inicial deve satisfazer as seguintes restrições:\n",
    "\n",
    "1. Pelo menos um armador deve iniciar.  \n",
    "2. Ou John ou Ken deve ficar na reserva.  \n",
    "3. Apenas um pivô pode iniciar.  \n",
    "4. Se John ou Rich iniciarem, então Jim não pode iniciar.  "
   ]
  },
  {
   "cell_type": "markdown",
   "id": "b45ab5fa",
   "metadata": {},
   "source": [
    "#### Solução"
   ]
  },
  {
   "cell_type": "markdown",
   "id": "8f605f22",
   "metadata": {},
   "source": [
    "Usaremos as variáveis binárias $x_i, i=1,..,6$ para indicar se o jogador $i$ começa ou não. Nossa função objetivo é:\n",
    "\n",
    "Maximizar $z = 10x_1 + 9x_2 + 6x_3 + 6x_4 + 4x_5 - x_6$\n",
    "\n",
    "\n",
    "Agora, vamos modelar cada uma das restrições:\n",
    "\n",
    "1. Pelo menos um armador deve iniciar.\n",
    "\n",
    "    $x_5 + x_6 \\geq 1$\n",
    "\n",
    "2. Ou John ou Ken deve ficar na reserva.\n",
    "\n",
    "    $x_2 + x_5 = 1$ (considerando que é um ou exclusivo)\n",
    "\n",
    "3. Apenas um pivô pode iniciar.\n",
    "\n",
    "    $x_1 + x_2 \\leq 1$ (considerando que no máximo um pivô pode iniciar)\n",
    "\n",
    "4. Se John ou Rich iniciarem, então Jim não pode iniciar. \n",
    "\n",
    "    $x_2 + x_6 \\leq 1$\n",
    "\n",
    "    $x_4 + x_6 \\leq 1$\n",
    "\n",
    "5. Como o time é composto de quatro jogadores, temos:\n",
    "\n",
    "    $x_1 + x_2 + x_3 + x_4 + x_5 - x_6 = 4$"
   ]
  },
  {
   "cell_type": "code",
   "execution_count": null,
   "id": "46dc07fc",
   "metadata": {},
   "outputs": [
    {
     "name": "stdout",
     "output_type": "stream",
     "text": [
      "Status: Optimal\n",
      "x1 = 1.0\n",
      "x2 = 0.0\n",
      "x3 = 1.0\n",
      "x4 = 1.0\n",
      "x5 = 1.0\n",
      "x6 = 0.0\n",
      "z = 26.0\n"
     ]
    }
   ],
   "source": [
    "# Criação do problema\n",
    "ex_lp = pl.LpProblem(\"Basketball\", pl.LpMaximize)\n",
    "\n",
    "# Variáveis de decisão\n",
    "ex_x1 = pl.LpVariable(\"x1\", cat=\"Binary\")\n",
    "ex_x2 = pl.LpVariable(\"x2\", cat=\"Binary\")\n",
    "ex_x3 = pl.LpVariable(\"x3\", cat=\"Binary\")\n",
    "ex_x4 = pl.LpVariable(\"x4\", cat=\"Binary\")\n",
    "ex_x5 = pl.LpVariable(\"x5\", cat=\"Binary\")\n",
    "ex_x6 = pl.LpVariable(\"x6\", cat=\"Binary\")\n",
    "\n",
    "# Função objetivo\n",
    "ex_lp += 10*ex_x1 + 9*ex_x2 + 6*ex_x3 + 6*ex_x4 + 4*ex_x5 - ex_x6\n",
    "\n",
    "# Restrições\n",
    "ex_lp += ex_x5 + ex_x6 >= 1\n",
    "ex_lp += ex_x2 + ex_x5 == 1\n",
    "ex_lp += ex_x1 + ex_x2 <= 1\n",
    "ex_lp += ex_x2 + ex_x6 <= 1\n",
    "ex_lp += ex_x4 + ex_x6 <= 1\n",
    "ex_lp += ex_x1 + ex_x2 + ex_x3 + ex_x4 + ex_x5 + ex_x6 == 4\n",
    "\n",
    "# Resolver\n",
    "ex_lp.solve(pl.PULP_CBC_CMD(msg=0))\n",
    "\n",
    "# Solução\n",
    "print(\"Status:\", pl.LpStatus[ex_lp.status])\n",
    "for var in ex_lp.variables():\n",
    "    print(var, \"=\", var.varValue)\n",
    "print(\"z =\", pl.value(ex_lp.objective))"
   ]
  }
 ],
 "metadata": {
  "kernelspec": {
   "display_name": "Python 3",
   "language": "python",
   "name": "python3"
  },
  "language_info": {
   "codemirror_mode": {
    "name": "ipython",
    "version": 3
   },
   "file_extension": ".py",
   "mimetype": "text/x-python",
   "name": "python",
   "nbconvert_exporter": "python",
   "pygments_lexer": "ipython3",
   "version": "3.12.3"
  }
 },
 "nbformat": 4,
 "nbformat_minor": 5
}
