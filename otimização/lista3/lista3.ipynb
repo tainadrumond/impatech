{
 "cells": [
  {
   "cell_type": "markdown",
   "id": "44e39923",
   "metadata": {},
   "source": [
    "# Solução dos exercícios da lista 3 de Otimização Linear\n",
    "\n",
    "Professora Asla Medeiros e Sá\n",
    "\n",
    "Tainá Isabela Queiroz Drumond - IMPA Tech\n"
   ]
  },
  {
   "cell_type": "markdown",
   "id": "67a36a28",
   "metadata": {},
   "source": [
    "## Exercício 1\n",
    "\n",
    "A Gentle Introduction to Optimization | Página 50 - Exercício 1\n"
   ]
  },
  {
   "cell_type": "markdown",
   "id": "a4ebf10a",
   "metadata": {},
   "source": [
    "### Item (a)\n",
    "\n",
    "Prove que o seguinte problema de PL é inviável:\n",
    "\n",
    "Maximizar $3x_1 + 4x_2 + 6x_3$\n",
    "\n",
    "sujeito a:\n",
    "\n",
    "- $3x_1 + 5x_2 - 6x_3 = 4$\n",
    "- $x_1 + 3x_2 - 4x_3 = 2$\n",
    "- $-x_1 + x_2 - x_3 = -1$\n",
    "- $x_1, x_2, x_3 \\geq 0$\n"
   ]
  },
  {
   "cell_type": "markdown",
   "id": "1fa44ef8",
   "metadata": {},
   "source": [
    "#### Solução\n"
   ]
  },
  {
   "cell_type": "markdown",
   "id": "b59db6d9",
   "metadata": {},
   "source": [
    "### Item (b)\n"
   ]
  },
  {
   "cell_type": "markdown",
   "id": "a966bcf2",
   "metadata": {},
   "source": [
    "Prove que o seguinte problema de PL é ilimitado:\n",
    "\n",
    "Maximizar $-x_3 + x_4$\n",
    "\n",
    "sujeito a:\n",
    "\n",
    "- $x_1 + x_3 - x_4 = 1$\n",
    "- $x_2 + 2x_3 - x_4 = 2$\n",
    "- $x_1, x_2, x_3, x_4 \\geq 0$\n"
   ]
  },
  {
   "cell_type": "markdown",
   "id": "3998fb7a",
   "metadata": {},
   "source": [
    "### Item (c)\n",
    "\n",
    "Prove que o seguinte problema de PL é ilimitado:\n",
    "\n",
    "Maximizar $\\{ c^T x : Ax = b, \\; x \\geq 0 \\}$\n",
    "\n",
    "onde:\n",
    "\n",
    "\\[\n",
    "A = \\begin{pmatrix}\n",
    "4 & 2 & 1 & -6 & -1 \\\\\n",
    "-1 & 1 & -4 & 1 & 3 \\\\\n",
    "3 & -6 & 5 & 3 & -5\n",
    "\\end{pmatrix}, \\quad\n",
    "b = \\begin{pmatrix}\n",
    "11 \\\\ -2 \\\\ -8\n",
    "\\end{pmatrix}, \\quad\n",
    "c = \\begin{pmatrix}\n",
    "1 \\\\ 2 \\\\ 1 \\\\ 1 \\\\ 1\n",
    "\\end{pmatrix}.\n",
    "\\]\n",
    "\n",
    "**Dica:** Considere os vetores\n",
    "\\[\n",
    "\\hat{x} = (1, 3, 1, 0, 0)^T \\quad \\text{e} \\quad d = (1, 1, 1, 1, 1)^T.\n",
    "\\]\n"
   ]
  },
  {
   "cell_type": "markdown",
   "id": "6931be41",
   "metadata": {},
   "source": [
    "### Item (d)\n",
    "\n",
    "Para cada um dos problemas nos itens (b) e (c), dê uma solução viável que tenha valor objetivo exatamente igual a 5000.\n"
   ]
  },
  {
   "cell_type": "markdown",
   "id": "0cd97768",
   "metadata": {},
   "source": [
    "## Questão 2\n",
    "\n",
    "A Gentle Introduction to Optimization | Página 50 - Exercício 2\n"
   ]
  },
  {
   "cell_type": "markdown",
   "id": "9822cdf6",
   "metadata": {},
   "source": [
    "Seja $A$ uma matriz $m \\times n$ e $b$ um vetor com $m$ entradas. Prove ou refute cada uma das seguintes afirmações (em ambos os casos $y$ é um vetor com $m$ entradas):\n",
    "\n",
    "1. Se existe $y$ tal que $y^T A \\geq 0^T$ e $b^T y < 0$, então o sistema $Ax \\leq b, \\; x \\geq 0$ não tem solução.\n",
    "\n",
    "2. Se existe $y \\geq 0$ tal que $y^T A \\geq 0^T$ e $b^T y < 0$, então o sistema $Ax \\leq b, \\; x \\geq 0$ não tem solução.\n"
   ]
  },
  {
   "cell_type": "markdown",
   "id": "6060613e",
   "metadata": {},
   "source": [
    "## Questão 3\n",
    "\n",
    "A Gentle Introduction to Optimization | Página 54 - Exercício 1\n"
   ]
  },
  {
   "cell_type": "markdown",
   "id": "6b1a7ead",
   "metadata": {},
   "source": [
    "### Item (a)\n",
    "\n",
    "Converta os seguintes problemas de PL para a **Forma de Igualdade Padrão (SEF – Standard Equality Form):**\n",
    "\n",
    "Minimizar $(2, -1, 4, 2, 4)(x_1, x_2, x_3, x_4, x_5)^T$\n",
    "\n",
    "sujeito a:\n",
    "\n",
    "\\[\n",
    "\\begin{array}{rcl}\n",
    "\\begin{pmatrix}\n",
    "1 & 2 & 4 & 7 & 3 \\\\\n",
    "2 & 8 & 9 & 0 & 0 \\\\\n",
    "1 & 1 & 0 & 2 & 6 \\\\\n",
    "-3 & 4 & 3 & 1 & -1\n",
    "\\end{pmatrix}\n",
    "\\begin{pmatrix}\n",
    "x_1 \\\\ x_2 \\\\ x_3 \\\\ x_4 \\\\ x_5\n",
    "\\end{pmatrix}\n",
    "\\begin{matrix}\n",
    "\\leq \\\\ = \\\\ \\geq \\\\ \\geq\n",
    "\\end{matrix}\n",
    "& \\begin{pmatrix}\n",
    "1 \\\\ 2 \\\\ 3 \\\\ 4\n",
    "\\end{pmatrix}\n",
    "\\end{array}\n",
    "\\]\n",
    "\n",
    "com:\n",
    "\n",
    "$x_1 \\geq 0, \\quad x_2 \\geq 0, \\quad x_4 \\geq 0.$\n"
   ]
  },
  {
   "cell_type": "markdown",
   "id": "2c925dd5",
   "metadata": {},
   "source": [
    "### Item (b)\n",
    "\n",
    "Sejam $A, B, D$ matrizes e $b, c, d, f$ vetores (todos de dimensões apropriadas).  \n",
    "Converta o seguinte problema de PL com variáveis $x$ e $y$ (onde $x, y$ são vetores) para a **Forma de Igualdade Padrão (SEF):**\n",
    "\n",
    "Minimizar $c^T x + d^T y$\n",
    "\n",
    "sujeito a:\n",
    "\n",
    "\\[\n",
    "\\begin{cases}\n",
    "Ax \\geq b \\\\\n",
    "Bx + Dy = f \\\\\n",
    "x \\geq 0\n",
    "\\end{cases}\n",
    "\\]\n",
    "\n",
    "**Observação:** as variáveis $y$ são livres.\n"
   ]
  },
  {
   "cell_type": "markdown",
   "id": "2da214ab",
   "metadata": {},
   "source": [
    "## Questão 4\n",
    "\n",
    "A Gentle Introduction to Optimization | Página 56 - Exercício 1\n",
    "\n",
    "Neste exercício, você deve repetir o argumento da Seção 2.3 com diferentes exemplos.\n"
   ]
  },
  {
   "cell_type": "markdown",
   "id": "d63eeb72",
   "metadata": {},
   "source": [
    "### Item (a)\n",
    "\n",
    "Considere o seguinte problema de PL:\n",
    "\n",
    "Maximizar $(-1, 0, 0, 2)x$\n",
    "\n",
    "sujeito a:\n",
    "\n",
    "\\[\n",
    "\\begin{pmatrix}\n",
    "-1 & 1 & 0 & 2 \\\\\n",
    "1 & 0 & 1 & -3\n",
    "\\end{pmatrix}\n",
    "x =\n",
    "\\begin{pmatrix}\n",
    "2 \\\\\n",
    "3\n",
    "\\end{pmatrix},\n",
    "\\quad x \\geq 0.\n",
    "\\]\n",
    "\n",
    "Observe que $\\bar{x} = (0, 2, 3, 0)^T$ é uma solução viável.  \n",
    "A partir de $\\bar{x}$, construa uma solução viável $x'$ com valor maior que o de $\\bar{x}$, aumentando o máximo possível o valor de exatamente uma das variáveis $\\bar{x}_1$ ou $\\bar{x}_4$ (mantendo a outra variável inalterada).\n"
   ]
  },
  {
   "cell_type": "markdown",
   "id": "9ee18bdb",
   "metadata": {},
   "source": [
    "### Item (b)\n",
    "\n",
    "Considere o seguinte problema de PL:\n",
    "\n",
    "Maximizar $(0, 0, 4, -6)x$\n",
    "\n",
    "sujeito a:\n",
    "\n",
    "\\[\n",
    "\\begin{pmatrix}\n",
    "1 & 0 & -1 & 1 \\\\\n",
    "0 & 1 & -3 & 2\n",
    "\\end{pmatrix}\n",
    "x =\n",
    "\\begin{pmatrix}\n",
    "2 \\\\\n",
    "1\n",
    "\\end{pmatrix},\n",
    "\\quad x \\geq 0.\n",
    "\\]\n",
    "\n",
    "Observe que $\\bar{x} = (2, 1, 0, 0)^T$ é uma solução viável.  \n",
    "A partir de $\\bar{x}$, construa uma solução viável $x'$ com valor maior que o de $\\bar{x}$, aumentando o máximo possível o valor de exatamente uma das variáveis $\\bar{x}\\_3$ ou $\\bar{x}\\_4$ (mantendo a outra variável inalterada).\n",
    "\n",
    "**Pergunta:** O que você pode concluir neste caso?\n"
   ]
  }
 ],
 "metadata": {
  "language_info": {
   "name": "python"
  }
 },
 "nbformat": 4,
 "nbformat_minor": 5
}
